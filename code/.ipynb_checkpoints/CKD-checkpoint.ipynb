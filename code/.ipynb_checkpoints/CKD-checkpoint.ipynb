{
 "cells": [
  {
   "cell_type": "markdown",
   "metadata": {},
   "source": [
    "# Chronic Kidney Disease Dataset Challenge."
   ]
  },
  {
   "cell_type": "markdown",
   "metadata": {
    "ExecuteTime": {
     "end_time": "2021-02-26T03:31:02.257848Z",
     "start_time": "2021-02-26T03:31:02.242911Z"
    }
   },
   "source": [
    "---\n",
    "## Problem statement\n"
   ]
  },
  {
   "cell_type": "markdown",
   "metadata": {},
   "source": [
    "Given a set of longitudinal data of different lab measurements for patients diagnosed with chronic kidney disease (CKD), as well as the information whether these patients progress in their CKD stage or not in the future. \n",
    "Using this dataset, predict whether a patient will progress in CKD staging given the patient's past longitudinal information. Will evaluate the models based on recall, to achieve a low rate of type II errors.\n"
   ]
  },
  {
   "cell_type": "markdown",
   "metadata": {},
   "source": [
    "---\n",
    "## Executive Summary\n"
   ]
  },
  {
   "cell_type": "markdown",
   "metadata": {},
   "source": [
    "Chronic kidney disease, also called chronic kidney failure, describes the gradual loss of kidney function. Your kidneys filter wastes and excess fluids from your blood, which are then excreted in your urine. When chronic kidney disease reaches an advanced stage, dangerous levels of fluid, electrolytes and wastes can build up in your body.\n",
    "\n",
    "Chronic kidney disease (CKD) refers to all five stages of kidney damage, from very mild damage in stage 1 to complete kidney failure in stage 5. The stages of kidney disease are based on how well the kidneys can filter waste and extra fluid out of the blood. In the early stages of kidney disease, your kidneys are still able to filter out waste from your blood. In the later stages, your kidneys must work harder to get rid of waste and may stop working altogether.\n",
    "\n",
    "The way doctors measure how well your kidneys filter waste from your blood is by the estimated glomerular filtration rate, or eGFR. Your eGFR is a number based on your blood test for creatinine, a waste product in your blood\n",
    "\n",
    "![results](../images/ckd_stages.jpg)\n",
    "<br><br>\n",
    "\n",
    "Started off by analyzing the nine data files provided, as shown below:\n",
    "![metrics](../images/data_files.jpg)\n",
    "\n",
    "In these files were the information for 300 patients.<br>\n",
    "Some data processing done were:\n",
    "1) From each of the lab measurements files, only 2 data points are extracted:\n",
    "- the most recent value (max time value)\n",
    "- the linear trend of the values (1: upwards trend, 0: downwards trend)<br>\n",
    "\n",
    "2) Generate the CKD stage, the MDRD equation to calculate the eGFR was adopted. <br>\n",
    "GFR=175×(Scr)^-1.154×(Age)^-0.203×(0.742 if female)×(1.212 if African American) <br>\n",
    "Source: https://github.com/chapmanbe/shilpy_6018_2017_term_project\n",
    "\n",
    "This dataset has an imbalanced class where the majority class (about 66.7%) shows data for which Stage_Progress is False while about 33.3% of the data shows that Stage_Progress is True. Synthetic Minority Over-sampling Technique (SMOTE) to oversample the minority class before using the data on our models, as well as class weight were used on selected model.\n",
    "To determine the overall performance of the model, number of false negatives need to be reduced.\n",
    "\n",
    "Results from the models are shown in the table below:\n",
    "![metrics](../images/metrics.jpg)\n",
    "\n",
    "Based on the the results, we concluded that Logistics Regression with Class Weight has the best performance based on its high recall score. <br>The top five features are 'ldl_trend', 'sbp_trend', 'glu', 'ldl', and 'metoprolol'."
   ]
  },
  {
   "cell_type": "code",
   "execution_count": null,
   "metadata": {},
   "outputs": [],
   "source": []
  },
  {
   "cell_type": "markdown",
   "metadata": {},
   "source": [
    "---\n",
    "## Data Import and Preprocessing"
   ]
  },
  {
   "cell_type": "code",
   "execution_count": 1,
   "metadata": {
    "ExecuteTime": {
     "end_time": "2021-03-05T13:20:00.023497Z",
     "start_time": "2021-03-05T13:19:55.763210Z"
    }
   },
   "outputs": [],
   "source": [
    "import pandas as pd\n",
    "import numpy as np\n",
    "import matplotlib.pyplot as plt\n",
    "import seaborn as sns\n",
    "import logging\n",
    "import sys\n",
    "from matplotlib.ticker import PercentFormatter\n",
    "\n",
    "from sklearn.naive_bayes import BernoulliNB\n",
    "from sklearn.preprocessing import StandardScaler\n",
    "from xgboost import XGBClassifier, plot_importance\n",
    "from sklearn.metrics import confusion_matrix, plot_confusion_matrix, recall_score\n",
    "from sklearn.metrics import accuracy_score, classification_report, roc_auc_score, plot_roc_curve\n",
    "from sklearn.utils.class_weight import compute_class_weight\n",
    "from imblearn.over_sampling import SMOTE\n",
    "from imblearn.pipeline import Pipeline, make_pipeline\n",
    "\n",
    "from sklearn import svm\n",
    "from sklearn.linear_model import LogisticRegression\n",
    "from sklearn.model_selection import train_test_split, cross_val_score, KFold\n",
    "\n",
    "# Importing custom classes/libraries\n",
    "from ckd.DataPrep import LoadFiles as lfs\n",
    "from ckd.Utils import Utils as util"
   ]
  },
  {
   "cell_type": "code",
   "execution_count": 2,
   "metadata": {
    "ExecuteTime": {
     "end_time": "2021-03-05T13:20:00.043054Z",
     "start_time": "2021-03-05T13:20:00.023497Z"
    }
   },
   "outputs": [],
   "source": [
    "#setting options for both pandas and numpy to show decimals up to 4 places\n",
    "pd.set_option('display.precision',4)\n",
    "np.set_printoptions(precision=4)\n",
    "%precision 4\n",
    "%matplotlib inline"
   ]
  },
  {
   "cell_type": "code",
   "execution_count": 3,
   "metadata": {
    "ExecuteTime": {
     "end_time": "2021-03-05T13:20:00.063536Z",
     "start_time": "2021-03-05T13:20:00.043054Z"
    }
   },
   "outputs": [],
   "source": [
    "# Initialize logger\n",
    "# Using a logger for stdout and file output for ease of deployment\n",
    "logger = logging.getLogger()\n",
    "logger.handlers[:] = []\n",
    "# set stdout logger\n",
    "lh = logging.StreamHandler(sys.stdout)\n",
    "lh.setFormatter(util.get_formatter())\n",
    "logger.addHandler(lh)\n",
    "# set file logger\n",
    "fh = logging.FileHandler('../log/ckd.log')\n",
    "fh.setFormatter(util.get_formatter(False))\n",
    "logger.addHandler(fh)\n",
    "# set logging level to INFO\n",
    "logger.setLevel(logging.INFO)"
   ]
  },
  {
   "cell_type": "code",
   "execution_count": 4,
   "metadata": {
    "ExecuteTime": {
     "end_time": "2021-03-05T13:20:00.083497Z",
     "start_time": "2021-03-05T13:20:00.063536Z"
    }
   },
   "outputs": [],
   "source": [
    "# initialize LoadFiles class\n",
    "# Using a class to hold the functions and logic for ease of deployment\n",
    "lf = lfs.LoadFiles()"
   ]
  },
  {
   "cell_type": "code",
   "execution_count": 5,
   "metadata": {
    "ExecuteTime": {
     "end_time": "2021-03-05T13:20:00.103500Z",
     "start_time": "2021-03-05T13:20:00.083497Z"
    }
   },
   "outputs": [],
   "source": [
    "# Defining a dictionary to hold the filenames.\n",
    "# This for ease of maintaining directory and file name changes\n",
    "lf.data_files = {\n",
    "    'cre' : '../data/T_creatinine.csv', # file containing creatinine value\n",
    "    'dbp' : '../data/T_DBP.csv',        # file containing Diastolic blood pressure value\n",
    "    'demo' : '../data/T_demo.csv',      # file containing Demographics\n",
    "    'glu' : '../data/T_glucose.csv',    # file containing Glucose value\n",
    "    'hgb' : '../data/T_HGB.csv',        # file containing Hemoglobin value\n",
    "    'ldl' : '../data/T_ldl.csv',        # file containing Low-density lipoprotein value\n",
    "    'meds' : '../data/T_meds.csv',      # file containing Medication taken\n",
    "    'sbp' : '../data/T_SBP.csv',        # file containing Systolic blood pressure value\n",
    "    'stage' : '../data/T_stage.csv'     # file containing Stage Progress\n",
    "}"
   ]
  },
  {
   "cell_type": "code",
   "execution_count": 6,
   "metadata": {
    "ExecuteTime": {
     "end_time": "2021-03-05T13:20:00.183152Z",
     "start_time": "2021-03-05T13:20:00.103500Z"
    }
   },
   "outputs": [],
   "source": [
    "# Loading of data files into dataframes\n",
    "lf.load_files()"
   ]
  },
  {
   "cell_type": "markdown",
   "metadata": {},
   "source": [
    "---\n",
    "In the following sections will look at each file in details"
   ]
  },
  {
   "cell_type": "markdown",
   "metadata": {},
   "source": [
    "### Data file T_stage.csv"
   ]
  },
  {
   "cell_type": "code",
   "execution_count": 7,
   "metadata": {
    "ExecuteTime": {
     "end_time": "2021-03-05T13:20:00.223536Z",
     "start_time": "2021-03-05T13:20:00.183152Z"
    },
    "scrolled": true
   },
   "outputs": [
    {
     "name": "stdout",
     "output_type": "stream",
     "text": [
      "<<<--- info() for stage --->>>\n",
      "<class 'pandas.core.frame.DataFrame'>\n",
      "RangeIndex: 300 entries, 0 to 299\n",
      "Data columns (total 2 columns):\n",
      " #   Column          Non-Null Count  Dtype\n",
      "---  ------          --------------  -----\n",
      " 0   id              300 non-null    int64\n",
      " 1   Stage_Progress  300 non-null    bool \n",
      "dtypes: bool(1), int64(1)\n",
      "memory usage: 2.8 KB\n"
     ]
    },
    {
     "data": {
      "text/plain": [
       "None"
      ]
     },
     "metadata": {},
     "output_type": "display_data"
    },
    {
     "name": "stdout",
     "output_type": "stream",
     "text": [
      "\n",
      "<<<--- unique counts  for stage --->>>\n",
      "Count of distinct values\t\t: 300\n",
      "Count of only non-null values\t\t: 300\n",
      "Count of total values including null values\t: 300\n",
      "\n",
      "<<<--- describe() for stage --->>>\n"
     ]
    },
    {
     "data": {
      "text/html": [
       "<div>\n",
       "<style scoped>\n",
       "    .dataframe tbody tr th:only-of-type {\n",
       "        vertical-align: middle;\n",
       "    }\n",
       "\n",
       "    .dataframe tbody tr th {\n",
       "        vertical-align: top;\n",
       "    }\n",
       "\n",
       "    .dataframe thead th {\n",
       "        text-align: right;\n",
       "    }\n",
       "</style>\n",
       "<table border=\"1\" class=\"dataframe\">\n",
       "  <thead>\n",
       "    <tr style=\"text-align: right;\">\n",
       "      <th></th>\n",
       "      <th>id</th>\n",
       "    </tr>\n",
       "  </thead>\n",
       "  <tbody>\n",
       "    <tr>\n",
       "      <th>count</th>\n",
       "      <td>300.0000</td>\n",
       "    </tr>\n",
       "    <tr>\n",
       "      <th>mean</th>\n",
       "      <td>149.5000</td>\n",
       "    </tr>\n",
       "    <tr>\n",
       "      <th>std</th>\n",
       "      <td>86.7468</td>\n",
       "    </tr>\n",
       "    <tr>\n",
       "      <th>min</th>\n",
       "      <td>0.0000</td>\n",
       "    </tr>\n",
       "    <tr>\n",
       "      <th>25%</th>\n",
       "      <td>74.7500</td>\n",
       "    </tr>\n",
       "    <tr>\n",
       "      <th>50%</th>\n",
       "      <td>149.5000</td>\n",
       "    </tr>\n",
       "    <tr>\n",
       "      <th>75%</th>\n",
       "      <td>224.2500</td>\n",
       "    </tr>\n",
       "    <tr>\n",
       "      <th>max</th>\n",
       "      <td>299.0000</td>\n",
       "    </tr>\n",
       "  </tbody>\n",
       "</table>\n",
       "</div>"
      ],
      "text/plain": [
       "             id\n",
       "count  300.0000\n",
       "mean   149.5000\n",
       "std     86.7468\n",
       "min      0.0000\n",
       "25%     74.7500\n",
       "50%    149.5000\n",
       "75%    224.2500\n",
       "max    299.0000"
      ]
     },
     "metadata": {},
     "output_type": "display_data"
    },
    {
     "name": "stdout",
     "output_type": "stream",
     "text": [
      "\n",
      "<<<--- head(10) for stage --->>>\n"
     ]
    },
    {
     "data": {
      "text/html": [
       "<div>\n",
       "<style scoped>\n",
       "    .dataframe tbody tr th:only-of-type {\n",
       "        vertical-align: middle;\n",
       "    }\n",
       "\n",
       "    .dataframe tbody tr th {\n",
       "        vertical-align: top;\n",
       "    }\n",
       "\n",
       "    .dataframe thead th {\n",
       "        text-align: right;\n",
       "    }\n",
       "</style>\n",
       "<table border=\"1\" class=\"dataframe\">\n",
       "  <thead>\n",
       "    <tr style=\"text-align: right;\">\n",
       "      <th></th>\n",
       "      <th>id</th>\n",
       "      <th>Stage_Progress</th>\n",
       "    </tr>\n",
       "  </thead>\n",
       "  <tbody>\n",
       "    <tr>\n",
       "      <th>0</th>\n",
       "      <td>0</td>\n",
       "      <td>True</td>\n",
       "    </tr>\n",
       "    <tr>\n",
       "      <th>1</th>\n",
       "      <td>1</td>\n",
       "      <td>False</td>\n",
       "    </tr>\n",
       "    <tr>\n",
       "      <th>2</th>\n",
       "      <td>2</td>\n",
       "      <td>True</td>\n",
       "    </tr>\n",
       "    <tr>\n",
       "      <th>3</th>\n",
       "      <td>3</td>\n",
       "      <td>False</td>\n",
       "    </tr>\n",
       "    <tr>\n",
       "      <th>4</th>\n",
       "      <td>4</td>\n",
       "      <td>True</td>\n",
       "    </tr>\n",
       "    <tr>\n",
       "      <th>5</th>\n",
       "      <td>5</td>\n",
       "      <td>False</td>\n",
       "    </tr>\n",
       "    <tr>\n",
       "      <th>6</th>\n",
       "      <td>6</td>\n",
       "      <td>False</td>\n",
       "    </tr>\n",
       "    <tr>\n",
       "      <th>7</th>\n",
       "      <td>7</td>\n",
       "      <td>False</td>\n",
       "    </tr>\n",
       "    <tr>\n",
       "      <th>8</th>\n",
       "      <td>8</td>\n",
       "      <td>True</td>\n",
       "    </tr>\n",
       "    <tr>\n",
       "      <th>9</th>\n",
       "      <td>9</td>\n",
       "      <td>False</td>\n",
       "    </tr>\n",
       "  </tbody>\n",
       "</table>\n",
       "</div>"
      ],
      "text/plain": [
       "   id  Stage_Progress\n",
       "0   0            True\n",
       "1   1           False\n",
       "2   2            True\n",
       "3   3           False\n",
       "4   4            True\n",
       "5   5           False\n",
       "6   6           False\n",
       "7   7           False\n",
       "8   8            True\n",
       "9   9           False"
      ]
     },
     "metadata": {},
     "output_type": "display_data"
    }
   ],
   "source": [
    "lf.check_file('stage')"
   ]
  },
  {
   "cell_type": "markdown",
   "metadata": {},
   "source": [
    "This is the file that is holding the target variable, Stage_Progress. <br>\n",
    "This file contains target variable for 300 patients. <br>\n",
    "No nulls or missing values detected in this file. <br>\n",
    "\n",
    "---"
   ]
  },
  {
   "cell_type": "code",
   "execution_count": 8,
   "metadata": {
    "ExecuteTime": {
     "end_time": "2021-03-05T13:20:00.263355Z",
     "start_time": "2021-03-05T13:20:00.223536Z"
    },
    "scrolled": true
   },
   "outputs": [
    {
     "name": "stdout",
     "output_type": "stream",
     "text": [
      "2021-03-05 21:20:00 |\u001b[32mINFO    \u001b[0m| Note: NumExpr detected 12 cores but \"NUMEXPR_MAX_THREADS\" not set, so enforcing safe limit of 8.\n",
      "2021-03-05 21:20:00 |\u001b[32mINFO    \u001b[0m| NumExpr defaulting to 8 threads.\n"
     ]
    },
    {
     "data": {
      "text/plain": [
       "False    0.6667\n",
       "True     0.3333\n",
       "Name: Stage_Progress, dtype: float64"
      ]
     },
     "execution_count": 8,
     "metadata": {},
     "output_type": "execute_result"
    }
   ],
   "source": [
    "lf.alldata['stage']['Stage_Progress'].value_counts(normalize=True)"
   ]
  },
  {
   "cell_type": "markdown",
   "metadata": {},
   "source": [
    "A quick analysis of the target variable shows that it is an imbalance class. Will keep this in mind as we progress.\n",
    "\n",
    "---"
   ]
  },
  {
   "cell_type": "markdown",
   "metadata": {
    "ExecuteTime": {
     "end_time": "2021-02-26T03:49:18.157697Z",
     "start_time": "2021-02-26T03:49:18.137114Z"
    }
   },
   "source": [
    "### Data file T_creatinine.csv"
   ]
  },
  {
   "cell_type": "code",
   "execution_count": 9,
   "metadata": {
    "ExecuteTime": {
     "end_time": "2021-03-05T13:20:00.303506Z",
     "start_time": "2021-03-05T13:20:00.263355Z"
    },
    "scrolled": true
   },
   "outputs": [
    {
     "name": "stdout",
     "output_type": "stream",
     "text": [
      "<<<--- info() for cre --->>>\n",
      "<class 'pandas.core.frame.DataFrame'>\n",
      "RangeIndex: 1439 entries, 0 to 1438\n",
      "Data columns (total 3 columns):\n",
      " #   Column  Non-Null Count  Dtype  \n",
      "---  ------  --------------  -----  \n",
      " 0   id      1439 non-null   int64  \n",
      " 1   value   1439 non-null   float64\n",
      " 2   time    1439 non-null   int64  \n",
      "dtypes: float64(1), int64(2)\n",
      "memory usage: 33.9 KB\n"
     ]
    },
    {
     "data": {
      "text/plain": [
       "None"
      ]
     },
     "metadata": {},
     "output_type": "display_data"
    },
    {
     "name": "stdout",
     "output_type": "stream",
     "text": [
      "\n",
      "<<<--- unique counts  for cre --->>>\n",
      "Count of distinct values\t\t: 300\n",
      "Count of only non-null values\t\t: 1439\n",
      "Count of total values including null values\t: 1439\n",
      "\n",
      "<<<--- describe() for cre --->>>\n"
     ]
    },
    {
     "data": {
      "text/html": [
       "<div>\n",
       "<style scoped>\n",
       "    .dataframe tbody tr th:only-of-type {\n",
       "        vertical-align: middle;\n",
       "    }\n",
       "\n",
       "    .dataframe tbody tr th {\n",
       "        vertical-align: top;\n",
       "    }\n",
       "\n",
       "    .dataframe thead th {\n",
       "        text-align: right;\n",
       "    }\n",
       "</style>\n",
       "<table border=\"1\" class=\"dataframe\">\n",
       "  <thead>\n",
       "    <tr style=\"text-align: right;\">\n",
       "      <th></th>\n",
       "      <th>id</th>\n",
       "      <th>value</th>\n",
       "      <th>time</th>\n",
       "    </tr>\n",
       "  </thead>\n",
       "  <tbody>\n",
       "    <tr>\n",
       "      <th>count</th>\n",
       "      <td>1439.000</td>\n",
       "      <td>1439.000</td>\n",
       "      <td>1439.0000</td>\n",
       "    </tr>\n",
       "    <tr>\n",
       "      <th>mean</th>\n",
       "      <td>148.706</td>\n",
       "      <td>1.329</td>\n",
       "      <td>293.8284</td>\n",
       "    </tr>\n",
       "    <tr>\n",
       "      <th>std</th>\n",
       "      <td>87.180</td>\n",
       "      <td>0.358</td>\n",
       "      <td>223.6001</td>\n",
       "    </tr>\n",
       "    <tr>\n",
       "      <th>min</th>\n",
       "      <td>0.000</td>\n",
       "      <td>0.240</td>\n",
       "      <td>0.0000</td>\n",
       "    </tr>\n",
       "    <tr>\n",
       "      <th>25%</th>\n",
       "      <td>73.500</td>\n",
       "      <td>1.080</td>\n",
       "      <td>84.0000</td>\n",
       "    </tr>\n",
       "    <tr>\n",
       "      <th>50%</th>\n",
       "      <td>149.000</td>\n",
       "      <td>1.290</td>\n",
       "      <td>296.0000</td>\n",
       "    </tr>\n",
       "    <tr>\n",
       "      <th>75%</th>\n",
       "      <td>225.000</td>\n",
       "      <td>1.530</td>\n",
       "      <td>488.5000</td>\n",
       "    </tr>\n",
       "    <tr>\n",
       "      <th>max</th>\n",
       "      <td>299.000</td>\n",
       "      <td>3.020</td>\n",
       "      <td>699.0000</td>\n",
       "    </tr>\n",
       "  </tbody>\n",
       "</table>\n",
       "</div>"
      ],
      "text/plain": [
       "             id     value       time\n",
       "count  1439.000  1439.000  1439.0000\n",
       "mean    148.706     1.329   293.8284\n",
       "std      87.180     0.358   223.6001\n",
       "min       0.000     0.240     0.0000\n",
       "25%      73.500     1.080    84.0000\n",
       "50%     149.000     1.290   296.0000\n",
       "75%     225.000     1.530   488.5000\n",
       "max     299.000     3.020   699.0000"
      ]
     },
     "metadata": {},
     "output_type": "display_data"
    },
    {
     "name": "stdout",
     "output_type": "stream",
     "text": [
      "\n",
      "<<<--- head(10) for cre --->>>\n"
     ]
    },
    {
     "data": {
      "text/html": [
       "<div>\n",
       "<style scoped>\n",
       "    .dataframe tbody tr th:only-of-type {\n",
       "        vertical-align: middle;\n",
       "    }\n",
       "\n",
       "    .dataframe tbody tr th {\n",
       "        vertical-align: top;\n",
       "    }\n",
       "\n",
       "    .dataframe thead th {\n",
       "        text-align: right;\n",
       "    }\n",
       "</style>\n",
       "<table border=\"1\" class=\"dataframe\">\n",
       "  <thead>\n",
       "    <tr style=\"text-align: right;\">\n",
       "      <th></th>\n",
       "      <th>id</th>\n",
       "      <th>value</th>\n",
       "      <th>time</th>\n",
       "    </tr>\n",
       "  </thead>\n",
       "  <tbody>\n",
       "    <tr>\n",
       "      <th>0</th>\n",
       "      <td>0</td>\n",
       "      <td>1.29</td>\n",
       "      <td>0</td>\n",
       "    </tr>\n",
       "    <tr>\n",
       "      <th>1</th>\n",
       "      <td>0</td>\n",
       "      <td>1.15</td>\n",
       "      <td>107</td>\n",
       "    </tr>\n",
       "    <tr>\n",
       "      <th>2</th>\n",
       "      <td>0</td>\n",
       "      <td>1.44</td>\n",
       "      <td>286</td>\n",
       "    </tr>\n",
       "    <tr>\n",
       "      <th>3</th>\n",
       "      <td>0</td>\n",
       "      <td>1.23</td>\n",
       "      <td>382</td>\n",
       "    </tr>\n",
       "    <tr>\n",
       "      <th>4</th>\n",
       "      <td>0</td>\n",
       "      <td>1.08</td>\n",
       "      <td>580</td>\n",
       "    </tr>\n",
       "    <tr>\n",
       "      <th>5</th>\n",
       "      <td>0</td>\n",
       "      <td>1.23</td>\n",
       "      <td>688</td>\n",
       "    </tr>\n",
       "    <tr>\n",
       "      <th>6</th>\n",
       "      <td>1</td>\n",
       "      <td>1.74</td>\n",
       "      <td>0</td>\n",
       "    </tr>\n",
       "    <tr>\n",
       "      <th>7</th>\n",
       "      <td>1</td>\n",
       "      <td>1.83</td>\n",
       "      <td>68</td>\n",
       "    </tr>\n",
       "    <tr>\n",
       "      <th>8</th>\n",
       "      <td>1</td>\n",
       "      <td>1.81</td>\n",
       "      <td>289</td>\n",
       "    </tr>\n",
       "    <tr>\n",
       "      <th>9</th>\n",
       "      <td>1</td>\n",
       "      <td>1.61</td>\n",
       "      <td>387</td>\n",
       "    </tr>\n",
       "  </tbody>\n",
       "</table>\n",
       "</div>"
      ],
      "text/plain": [
       "   id  value  time\n",
       "0   0   1.29     0\n",
       "1   0   1.15   107\n",
       "2   0   1.44   286\n",
       "3   0   1.23   382\n",
       "4   0   1.08   580\n",
       "5   0   1.23   688\n",
       "6   1   1.74     0\n",
       "7   1   1.83    68\n",
       "8   1   1.81   289\n",
       "9   1   1.61   387"
      ]
     },
     "metadata": {},
     "output_type": "display_data"
    }
   ],
   "source": [
    "lf.check_file('cre')"
   ]
  },
  {
   "cell_type": "markdown",
   "metadata": {},
   "source": [
    "This is the file that is holding the creatinine values for the patients. <br>\n",
    "Similar to T_stage.csv this file contains values for 300 patients. <br>\n",
    "No nulls or missing values detected in this file. <br>\n",
    "\n",
    "---"
   ]
  },
  {
   "cell_type": "markdown",
   "metadata": {},
   "source": [
    "### Data file T_DBP.csv"
   ]
  },
  {
   "cell_type": "code",
   "execution_count": 10,
   "metadata": {
    "ExecuteTime": {
     "end_time": "2021-03-05T13:20:00.343417Z",
     "start_time": "2021-03-05T13:20:00.303506Z"
    },
    "scrolled": true
   },
   "outputs": [
    {
     "name": "stdout",
     "output_type": "stream",
     "text": [
      "<<<--- info() for dbp --->>>\n",
      "<class 'pandas.core.frame.DataFrame'>\n",
      "RangeIndex: 1821 entries, 0 to 1820\n",
      "Data columns (total 3 columns):\n",
      " #   Column  Non-Null Count  Dtype  \n",
      "---  ------  --------------  -----  \n",
      " 0   id      1821 non-null   int64  \n",
      " 1   value   1821 non-null   float64\n",
      " 2   time    1821 non-null   int64  \n",
      "dtypes: float64(1), int64(2)\n",
      "memory usage: 42.8 KB\n"
     ]
    },
    {
     "data": {
      "text/plain": [
       "None"
      ]
     },
     "metadata": {},
     "output_type": "display_data"
    },
    {
     "name": "stdout",
     "output_type": "stream",
     "text": [
      "\n",
      "<<<--- unique counts  for dbp --->>>\n",
      "Count of distinct values\t\t: 300\n",
      "Count of only non-null values\t\t: 1821\n",
      "Count of total values including null values\t: 1821\n",
      "\n",
      "<<<--- describe() for dbp --->>>\n"
     ]
    },
    {
     "data": {
      "text/html": [
       "<div>\n",
       "<style scoped>\n",
       "    .dataframe tbody tr th:only-of-type {\n",
       "        vertical-align: middle;\n",
       "    }\n",
       "\n",
       "    .dataframe tbody tr th {\n",
       "        vertical-align: top;\n",
       "    }\n",
       "\n",
       "    .dataframe thead th {\n",
       "        text-align: right;\n",
       "    }\n",
       "</style>\n",
       "<table border=\"1\" class=\"dataframe\">\n",
       "  <thead>\n",
       "    <tr style=\"text-align: right;\">\n",
       "      <th></th>\n",
       "      <th>id</th>\n",
       "      <th>value</th>\n",
       "      <th>time</th>\n",
       "    </tr>\n",
       "  </thead>\n",
       "  <tbody>\n",
       "    <tr>\n",
       "      <th>count</th>\n",
       "      <td>1821.0000</td>\n",
       "      <td>1821.0000</td>\n",
       "      <td>1821.0000</td>\n",
       "    </tr>\n",
       "    <tr>\n",
       "      <th>mean</th>\n",
       "      <td>149.4036</td>\n",
       "      <td>79.5186</td>\n",
       "      <td>305.3119</td>\n",
       "    </tr>\n",
       "    <tr>\n",
       "      <th>std</th>\n",
       "      <td>87.0459</td>\n",
       "      <td>10.1787</td>\n",
       "      <td>221.6741</td>\n",
       "    </tr>\n",
       "    <tr>\n",
       "      <th>min</th>\n",
       "      <td>0.0000</td>\n",
       "      <td>44.9500</td>\n",
       "      <td>0.0000</td>\n",
       "    </tr>\n",
       "    <tr>\n",
       "      <th>25%</th>\n",
       "      <td>74.0000</td>\n",
       "      <td>72.8300</td>\n",
       "      <td>97.0000</td>\n",
       "    </tr>\n",
       "    <tr>\n",
       "      <th>50%</th>\n",
       "      <td>150.0000</td>\n",
       "      <td>79.0500</td>\n",
       "      <td>301.0000</td>\n",
       "    </tr>\n",
       "    <tr>\n",
       "      <th>75%</th>\n",
       "      <td>226.0000</td>\n",
       "      <td>86.1700</td>\n",
       "      <td>496.0000</td>\n",
       "    </tr>\n",
       "    <tr>\n",
       "      <th>max</th>\n",
       "      <td>299.0000</td>\n",
       "      <td>112.9300</td>\n",
       "      <td>699.0000</td>\n",
       "    </tr>\n",
       "  </tbody>\n",
       "</table>\n",
       "</div>"
      ],
      "text/plain": [
       "              id      value       time\n",
       "count  1821.0000  1821.0000  1821.0000\n",
       "mean    149.4036    79.5186   305.3119\n",
       "std      87.0459    10.1787   221.6741\n",
       "min       0.0000    44.9500     0.0000\n",
       "25%      74.0000    72.8300    97.0000\n",
       "50%     150.0000    79.0500   301.0000\n",
       "75%     226.0000    86.1700   496.0000\n",
       "max     299.0000   112.9300   699.0000"
      ]
     },
     "metadata": {},
     "output_type": "display_data"
    },
    {
     "name": "stdout",
     "output_type": "stream",
     "text": [
      "\n",
      "<<<--- head(10) for dbp --->>>\n"
     ]
    },
    {
     "data": {
      "text/html": [
       "<div>\n",
       "<style scoped>\n",
       "    .dataframe tbody tr th:only-of-type {\n",
       "        vertical-align: middle;\n",
       "    }\n",
       "\n",
       "    .dataframe tbody tr th {\n",
       "        vertical-align: top;\n",
       "    }\n",
       "\n",
       "    .dataframe thead th {\n",
       "        text-align: right;\n",
       "    }\n",
       "</style>\n",
       "<table border=\"1\" class=\"dataframe\">\n",
       "  <thead>\n",
       "    <tr style=\"text-align: right;\">\n",
       "      <th></th>\n",
       "      <th>id</th>\n",
       "      <th>value</th>\n",
       "      <th>time</th>\n",
       "    </tr>\n",
       "  </thead>\n",
       "  <tbody>\n",
       "    <tr>\n",
       "      <th>0</th>\n",
       "      <td>0</td>\n",
       "      <td>95.32</td>\n",
       "      <td>0</td>\n",
       "    </tr>\n",
       "    <tr>\n",
       "      <th>1</th>\n",
       "      <td>0</td>\n",
       "      <td>83.98</td>\n",
       "      <td>98</td>\n",
       "    </tr>\n",
       "    <tr>\n",
       "      <th>2</th>\n",
       "      <td>0</td>\n",
       "      <td>65.97</td>\n",
       "      <td>279</td>\n",
       "    </tr>\n",
       "    <tr>\n",
       "      <th>3</th>\n",
       "      <td>0</td>\n",
       "      <td>83.41</td>\n",
       "      <td>380</td>\n",
       "    </tr>\n",
       "    <tr>\n",
       "      <th>4</th>\n",
       "      <td>0</td>\n",
       "      <td>86.39</td>\n",
       "      <td>475</td>\n",
       "    </tr>\n",
       "    <tr>\n",
       "      <th>5</th>\n",
       "      <td>0</td>\n",
       "      <td>87.64</td>\n",
       "      <td>580</td>\n",
       "    </tr>\n",
       "    <tr>\n",
       "      <th>6</th>\n",
       "      <td>0</td>\n",
       "      <td>78.39</td>\n",
       "      <td>678</td>\n",
       "    </tr>\n",
       "    <tr>\n",
       "      <th>7</th>\n",
       "      <td>0</td>\n",
       "      <td>84.29</td>\n",
       "      <td>679</td>\n",
       "    </tr>\n",
       "    <tr>\n",
       "      <th>8</th>\n",
       "      <td>1</td>\n",
       "      <td>72.49</td>\n",
       "      <td>0</td>\n",
       "    </tr>\n",
       "    <tr>\n",
       "      <th>9</th>\n",
       "      <td>1</td>\n",
       "      <td>82.38</td>\n",
       "      <td>41</td>\n",
       "    </tr>\n",
       "  </tbody>\n",
       "</table>\n",
       "</div>"
      ],
      "text/plain": [
       "   id  value  time\n",
       "0   0  95.32     0\n",
       "1   0  83.98    98\n",
       "2   0  65.97   279\n",
       "3   0  83.41   380\n",
       "4   0  86.39   475\n",
       "5   0  87.64   580\n",
       "6   0  78.39   678\n",
       "7   0  84.29   679\n",
       "8   1  72.49     0\n",
       "9   1  82.38    41"
      ]
     },
     "metadata": {},
     "output_type": "display_data"
    }
   ],
   "source": [
    "lf.check_file('dbp')"
   ]
  },
  {
   "cell_type": "markdown",
   "metadata": {},
   "source": [
    "This is the file that is holding the DBP (Diastolic blood pressure) values for the patients. <br>\n",
    "Similar to T_stage.csv this file contains values for 300 patients. <br>\n",
    "No nulls or missing values detected in this file. <br>\n",
    "\n",
    "---"
   ]
  },
  {
   "cell_type": "markdown",
   "metadata": {},
   "source": [
    "### Data file T_demo.csv"
   ]
  },
  {
   "cell_type": "code",
   "execution_count": 11,
   "metadata": {
    "ExecuteTime": {
     "end_time": "2021-03-05T13:20:00.383031Z",
     "start_time": "2021-03-05T13:20:00.343417Z"
    },
    "scrolled": true
   },
   "outputs": [
    {
     "name": "stdout",
     "output_type": "stream",
     "text": [
      "<<<--- info() for demo --->>>\n",
      "<class 'pandas.core.frame.DataFrame'>\n",
      "RangeIndex: 300 entries, 0 to 299\n",
      "Data columns (total 4 columns):\n",
      " #   Column  Non-Null Count  Dtype \n",
      "---  ------  --------------  ----- \n",
      " 0   id      300 non-null    int64 \n",
      " 1   race    300 non-null    object\n",
      " 2   gender  300 non-null    object\n",
      " 3   age     300 non-null    int64 \n",
      "dtypes: int64(2), object(2)\n",
      "memory usage: 9.5+ KB\n"
     ]
    },
    {
     "data": {
      "text/plain": [
       "None"
      ]
     },
     "metadata": {},
     "output_type": "display_data"
    },
    {
     "name": "stdout",
     "output_type": "stream",
     "text": [
      "\n",
      "<<<--- unique counts  for demo --->>>\n",
      "Count of distinct values\t\t: 300\n",
      "Count of only non-null values\t\t: 300\n",
      "Count of total values including null values\t: 300\n",
      "\n",
      "<<<--- describe() for demo --->>>\n"
     ]
    },
    {
     "data": {
      "text/html": [
       "<div>\n",
       "<style scoped>\n",
       "    .dataframe tbody tr th:only-of-type {\n",
       "        vertical-align: middle;\n",
       "    }\n",
       "\n",
       "    .dataframe tbody tr th {\n",
       "        vertical-align: top;\n",
       "    }\n",
       "\n",
       "    .dataframe thead th {\n",
       "        text-align: right;\n",
       "    }\n",
       "</style>\n",
       "<table border=\"1\" class=\"dataframe\">\n",
       "  <thead>\n",
       "    <tr style=\"text-align: right;\">\n",
       "      <th></th>\n",
       "      <th>id</th>\n",
       "      <th>age</th>\n",
       "    </tr>\n",
       "  </thead>\n",
       "  <tbody>\n",
       "    <tr>\n",
       "      <th>count</th>\n",
       "      <td>300.0000</td>\n",
       "      <td>300.0000</td>\n",
       "    </tr>\n",
       "    <tr>\n",
       "      <th>mean</th>\n",
       "      <td>149.5000</td>\n",
       "      <td>70.3833</td>\n",
       "    </tr>\n",
       "    <tr>\n",
       "      <th>std</th>\n",
       "      <td>86.7468</td>\n",
       "      <td>9.2471</td>\n",
       "    </tr>\n",
       "    <tr>\n",
       "      <th>min</th>\n",
       "      <td>0.0000</td>\n",
       "      <td>46.0000</td>\n",
       "    </tr>\n",
       "    <tr>\n",
       "      <th>25%</th>\n",
       "      <td>74.7500</td>\n",
       "      <td>64.0000</td>\n",
       "    </tr>\n",
       "    <tr>\n",
       "      <th>50%</th>\n",
       "      <td>149.5000</td>\n",
       "      <td>71.0000</td>\n",
       "    </tr>\n",
       "    <tr>\n",
       "      <th>75%</th>\n",
       "      <td>224.2500</td>\n",
       "      <td>78.0000</td>\n",
       "    </tr>\n",
       "    <tr>\n",
       "      <th>max</th>\n",
       "      <td>299.0000</td>\n",
       "      <td>86.0000</td>\n",
       "    </tr>\n",
       "  </tbody>\n",
       "</table>\n",
       "</div>"
      ],
      "text/plain": [
       "             id       age\n",
       "count  300.0000  300.0000\n",
       "mean   149.5000   70.3833\n",
       "std     86.7468    9.2471\n",
       "min      0.0000   46.0000\n",
       "25%     74.7500   64.0000\n",
       "50%    149.5000   71.0000\n",
       "75%    224.2500   78.0000\n",
       "max    299.0000   86.0000"
      ]
     },
     "metadata": {},
     "output_type": "display_data"
    },
    {
     "name": "stdout",
     "output_type": "stream",
     "text": [
      "\n",
      "<<<--- head(10) for demo --->>>\n"
     ]
    },
    {
     "data": {
      "text/html": [
       "<div>\n",
       "<style scoped>\n",
       "    .dataframe tbody tr th:only-of-type {\n",
       "        vertical-align: middle;\n",
       "    }\n",
       "\n",
       "    .dataframe tbody tr th {\n",
       "        vertical-align: top;\n",
       "    }\n",
       "\n",
       "    .dataframe thead th {\n",
       "        text-align: right;\n",
       "    }\n",
       "</style>\n",
       "<table border=\"1\" class=\"dataframe\">\n",
       "  <thead>\n",
       "    <tr style=\"text-align: right;\">\n",
       "      <th></th>\n",
       "      <th>id</th>\n",
       "      <th>race</th>\n",
       "      <th>gender</th>\n",
       "      <th>age</th>\n",
       "    </tr>\n",
       "  </thead>\n",
       "  <tbody>\n",
       "    <tr>\n",
       "      <th>0</th>\n",
       "      <td>0</td>\n",
       "      <td>Unknown</td>\n",
       "      <td>Male</td>\n",
       "      <td>70</td>\n",
       "    </tr>\n",
       "    <tr>\n",
       "      <th>1</th>\n",
       "      <td>1</td>\n",
       "      <td>White</td>\n",
       "      <td>Female</td>\n",
       "      <td>71</td>\n",
       "    </tr>\n",
       "    <tr>\n",
       "      <th>2</th>\n",
       "      <td>2</td>\n",
       "      <td>White</td>\n",
       "      <td>Female</td>\n",
       "      <td>57</td>\n",
       "    </tr>\n",
       "    <tr>\n",
       "      <th>3</th>\n",
       "      <td>3</td>\n",
       "      <td>White</td>\n",
       "      <td>Male</td>\n",
       "      <td>74</td>\n",
       "    </tr>\n",
       "    <tr>\n",
       "      <th>4</th>\n",
       "      <td>4</td>\n",
       "      <td>White</td>\n",
       "      <td>Female</td>\n",
       "      <td>50</td>\n",
       "    </tr>\n",
       "    <tr>\n",
       "      <th>5</th>\n",
       "      <td>5</td>\n",
       "      <td>Black</td>\n",
       "      <td>Male</td>\n",
       "      <td>73</td>\n",
       "    </tr>\n",
       "    <tr>\n",
       "      <th>6</th>\n",
       "      <td>6</td>\n",
       "      <td>White</td>\n",
       "      <td>Female</td>\n",
       "      <td>60</td>\n",
       "    </tr>\n",
       "    <tr>\n",
       "      <th>7</th>\n",
       "      <td>7</td>\n",
       "      <td>Asian</td>\n",
       "      <td>Female</td>\n",
       "      <td>62</td>\n",
       "    </tr>\n",
       "    <tr>\n",
       "      <th>8</th>\n",
       "      <td>8</td>\n",
       "      <td>White</td>\n",
       "      <td>Female</td>\n",
       "      <td>68</td>\n",
       "    </tr>\n",
       "    <tr>\n",
       "      <th>9</th>\n",
       "      <td>9</td>\n",
       "      <td>White</td>\n",
       "      <td>Female</td>\n",
       "      <td>80</td>\n",
       "    </tr>\n",
       "  </tbody>\n",
       "</table>\n",
       "</div>"
      ],
      "text/plain": [
       "   id     race  gender  age\n",
       "0   0  Unknown    Male   70\n",
       "1   1    White  Female   71\n",
       "2   2    White  Female   57\n",
       "3   3    White    Male   74\n",
       "4   4    White  Female   50\n",
       "5   5    Black    Male   73\n",
       "6   6    White  Female   60\n",
       "7   7    Asian  Female   62\n",
       "8   8    White  Female   68\n",
       "9   9    White  Female   80"
      ]
     },
     "metadata": {},
     "output_type": "display_data"
    }
   ],
   "source": [
    "lf.check_file('demo')"
   ]
  },
  {
   "cell_type": "markdown",
   "metadata": {
    "ExecuteTime": {
     "end_time": "2021-03-05T06:38:55.337227Z",
     "start_time": "2021-03-05T06:38:55.317143Z"
    }
   },
   "source": [
    "This is the file that is holding the demographics information for the patients. <br>\n",
    "Similar to T_stage.csv this file contains values for 300 patients. <br>\n",
    "No nulls or missing values detected in this file. <br>\n",
    "\n",
    "---"
   ]
  },
  {
   "cell_type": "markdown",
   "metadata": {},
   "source": [
    "### Data file T_glucose.csv"
   ]
  },
  {
   "cell_type": "code",
   "execution_count": 12,
   "metadata": {
    "ExecuteTime": {
     "end_time": "2021-03-05T13:20:00.423513Z",
     "start_time": "2021-03-05T13:20:00.383031Z"
    },
    "scrolled": true
   },
   "outputs": [
    {
     "name": "stdout",
     "output_type": "stream",
     "text": [
      "<<<--- info() for glu --->>>\n",
      "<class 'pandas.core.frame.DataFrame'>\n",
      "RangeIndex: 1556 entries, 0 to 1555\n",
      "Data columns (total 3 columns):\n",
      " #   Column  Non-Null Count  Dtype  \n",
      "---  ------  --------------  -----  \n",
      " 0   id      1556 non-null   int64  \n",
      " 1   value   1556 non-null   float64\n",
      " 2   time    1556 non-null   int64  \n",
      "dtypes: float64(1), int64(2)\n",
      "memory usage: 36.6 KB\n"
     ]
    },
    {
     "data": {
      "text/plain": [
       "None"
      ]
     },
     "metadata": {},
     "output_type": "display_data"
    },
    {
     "name": "stdout",
     "output_type": "stream",
     "text": [
      "\n",
      "<<<--- unique counts  for glu --->>>\n",
      "Count of distinct values\t\t: 300\n",
      "Count of only non-null values\t\t: 1556\n",
      "Count of total values including null values\t: 1556\n",
      "\n",
      "<<<--- describe() for glu --->>>\n"
     ]
    },
    {
     "data": {
      "text/html": [
       "<div>\n",
       "<style scoped>\n",
       "    .dataframe tbody tr th:only-of-type {\n",
       "        vertical-align: middle;\n",
       "    }\n",
       "\n",
       "    .dataframe tbody tr th {\n",
       "        vertical-align: top;\n",
       "    }\n",
       "\n",
       "    .dataframe thead th {\n",
       "        text-align: right;\n",
       "    }\n",
       "</style>\n",
       "<table border=\"1\" class=\"dataframe\">\n",
       "  <thead>\n",
       "    <tr style=\"text-align: right;\">\n",
       "      <th></th>\n",
       "      <th>id</th>\n",
       "      <th>value</th>\n",
       "      <th>time</th>\n",
       "    </tr>\n",
       "  </thead>\n",
       "  <tbody>\n",
       "    <tr>\n",
       "      <th>count</th>\n",
       "      <td>1556.0000</td>\n",
       "      <td>1556.0000</td>\n",
       "      <td>1556.0000</td>\n",
       "    </tr>\n",
       "    <tr>\n",
       "      <th>mean</th>\n",
       "      <td>151.3271</td>\n",
       "      <td>6.6948</td>\n",
       "      <td>291.2031</td>\n",
       "    </tr>\n",
       "    <tr>\n",
       "      <th>std</th>\n",
       "      <td>87.2190</td>\n",
       "      <td>1.5991</td>\n",
       "      <td>224.8939</td>\n",
       "    </tr>\n",
       "    <tr>\n",
       "      <th>min</th>\n",
       "      <td>0.0000</td>\n",
       "      <td>2.8900</td>\n",
       "      <td>0.0000</td>\n",
       "    </tr>\n",
       "    <tr>\n",
       "      <th>25%</th>\n",
       "      <td>77.0000</td>\n",
       "      <td>5.6200</td>\n",
       "      <td>69.0000</td>\n",
       "    </tr>\n",
       "    <tr>\n",
       "      <th>50%</th>\n",
       "      <td>152.0000</td>\n",
       "      <td>6.3600</td>\n",
       "      <td>295.0000</td>\n",
       "    </tr>\n",
       "    <tr>\n",
       "      <th>75%</th>\n",
       "      <td>227.0000</td>\n",
       "      <td>7.4400</td>\n",
       "      <td>488.0000</td>\n",
       "    </tr>\n",
       "    <tr>\n",
       "      <th>max</th>\n",
       "      <td>299.0000</td>\n",
       "      <td>16.6100</td>\n",
       "      <td>699.0000</td>\n",
       "    </tr>\n",
       "  </tbody>\n",
       "</table>\n",
       "</div>"
      ],
      "text/plain": [
       "              id      value       time\n",
       "count  1556.0000  1556.0000  1556.0000\n",
       "mean    151.3271     6.6948   291.2031\n",
       "std      87.2190     1.5991   224.8939\n",
       "min       0.0000     2.8900     0.0000\n",
       "25%      77.0000     5.6200    69.0000\n",
       "50%     152.0000     6.3600   295.0000\n",
       "75%     227.0000     7.4400   488.0000\n",
       "max     299.0000    16.6100   699.0000"
      ]
     },
     "metadata": {},
     "output_type": "display_data"
    },
    {
     "name": "stdout",
     "output_type": "stream",
     "text": [
      "\n",
      "<<<--- head(10) for glu --->>>\n"
     ]
    },
    {
     "data": {
      "text/html": [
       "<div>\n",
       "<style scoped>\n",
       "    .dataframe tbody tr th:only-of-type {\n",
       "        vertical-align: middle;\n",
       "    }\n",
       "\n",
       "    .dataframe tbody tr th {\n",
       "        vertical-align: top;\n",
       "    }\n",
       "\n",
       "    .dataframe thead th {\n",
       "        text-align: right;\n",
       "    }\n",
       "</style>\n",
       "<table border=\"1\" class=\"dataframe\">\n",
       "  <thead>\n",
       "    <tr style=\"text-align: right;\">\n",
       "      <th></th>\n",
       "      <th>id</th>\n",
       "      <th>value</th>\n",
       "      <th>time</th>\n",
       "    </tr>\n",
       "  </thead>\n",
       "  <tbody>\n",
       "    <tr>\n",
       "      <th>0</th>\n",
       "      <td>0</td>\n",
       "      <td>6.24</td>\n",
       "      <td>0</td>\n",
       "    </tr>\n",
       "    <tr>\n",
       "      <th>1</th>\n",
       "      <td>0</td>\n",
       "      <td>7.20</td>\n",
       "      <td>107</td>\n",
       "    </tr>\n",
       "    <tr>\n",
       "      <th>2</th>\n",
       "      <td>0</td>\n",
       "      <td>7.01</td>\n",
       "      <td>286</td>\n",
       "    </tr>\n",
       "    <tr>\n",
       "      <th>3</th>\n",
       "      <td>0</td>\n",
       "      <td>6.89</td>\n",
       "      <td>382</td>\n",
       "    </tr>\n",
       "    <tr>\n",
       "      <th>4</th>\n",
       "      <td>0</td>\n",
       "      <td>5.62</td>\n",
       "      <td>580</td>\n",
       "    </tr>\n",
       "    <tr>\n",
       "      <th>5</th>\n",
       "      <td>0</td>\n",
       "      <td>5.78</td>\n",
       "      <td>688</td>\n",
       "    </tr>\n",
       "    <tr>\n",
       "      <th>6</th>\n",
       "      <td>1</td>\n",
       "      <td>9.96</td>\n",
       "      <td>0</td>\n",
       "    </tr>\n",
       "    <tr>\n",
       "      <th>7</th>\n",
       "      <td>1</td>\n",
       "      <td>8.27</td>\n",
       "      <td>221</td>\n",
       "    </tr>\n",
       "    <tr>\n",
       "      <th>8</th>\n",
       "      <td>1</td>\n",
       "      <td>8.43</td>\n",
       "      <td>319</td>\n",
       "    </tr>\n",
       "    <tr>\n",
       "      <th>9</th>\n",
       "      <td>1</td>\n",
       "      <td>9.76</td>\n",
       "      <td>402</td>\n",
       "    </tr>\n",
       "  </tbody>\n",
       "</table>\n",
       "</div>"
      ],
      "text/plain": [
       "   id  value  time\n",
       "0   0   6.24     0\n",
       "1   0   7.20   107\n",
       "2   0   7.01   286\n",
       "3   0   6.89   382\n",
       "4   0   5.62   580\n",
       "5   0   5.78   688\n",
       "6   1   9.96     0\n",
       "7   1   8.27   221\n",
       "8   1   8.43   319\n",
       "9   1   9.76   402"
      ]
     },
     "metadata": {},
     "output_type": "display_data"
    }
   ],
   "source": [
    "lf.check_file('glu')"
   ]
  },
  {
   "cell_type": "markdown",
   "metadata": {},
   "source": [
    "This is the file that is holding the glucose values for the patients. <br>\n",
    "Similar to T_stage.csv this file contains values for 300 patients. <br>\n",
    "No nulls or missing values detected in this file. <br>\n",
    "\n",
    "---"
   ]
  },
  {
   "cell_type": "markdown",
   "metadata": {},
   "source": [
    "### Data file T_HGB.csv"
   ]
  },
  {
   "cell_type": "code",
   "execution_count": 13,
   "metadata": {
    "ExecuteTime": {
     "end_time": "2021-03-05T13:20:00.463443Z",
     "start_time": "2021-03-05T13:20:00.423513Z"
    },
    "scrolled": true
   },
   "outputs": [
    {
     "name": "stdout",
     "output_type": "stream",
     "text": [
      "<<<--- info() for hgb --->>>\n",
      "<class 'pandas.core.frame.DataFrame'>\n",
      "RangeIndex: 2025 entries, 0 to 2024\n",
      "Data columns (total 3 columns):\n",
      " #   Column  Non-Null Count  Dtype  \n",
      "---  ------  --------------  -----  \n",
      " 0   id      2025 non-null   int64  \n",
      " 1   value   2025 non-null   float64\n",
      " 2   time    2025 non-null   int64  \n",
      "dtypes: float64(1), int64(2)\n",
      "memory usage: 47.6 KB\n"
     ]
    },
    {
     "data": {
      "text/plain": [
       "None"
      ]
     },
     "metadata": {},
     "output_type": "display_data"
    },
    {
     "name": "stdout",
     "output_type": "stream",
     "text": [
      "\n",
      "<<<--- unique counts  for hgb --->>>\n",
      "Count of distinct values\t\t: 300\n",
      "Count of only non-null values\t\t: 2025\n",
      "Count of total values including null values\t: 2025\n",
      "\n",
      "<<<--- describe() for hgb --->>>\n"
     ]
    },
    {
     "data": {
      "text/html": [
       "<div>\n",
       "<style scoped>\n",
       "    .dataframe tbody tr th:only-of-type {\n",
       "        vertical-align: middle;\n",
       "    }\n",
       "\n",
       "    .dataframe tbody tr th {\n",
       "        vertical-align: top;\n",
       "    }\n",
       "\n",
       "    .dataframe thead th {\n",
       "        text-align: right;\n",
       "    }\n",
       "</style>\n",
       "<table border=\"1\" class=\"dataframe\">\n",
       "  <thead>\n",
       "    <tr style=\"text-align: right;\">\n",
       "      <th></th>\n",
       "      <th>id</th>\n",
       "      <th>value</th>\n",
       "      <th>time</th>\n",
       "    </tr>\n",
       "  </thead>\n",
       "  <tbody>\n",
       "    <tr>\n",
       "      <th>count</th>\n",
       "      <td>2025.0000</td>\n",
       "      <td>2025.0000</td>\n",
       "      <td>2025.0000</td>\n",
       "    </tr>\n",
       "    <tr>\n",
       "      <th>mean</th>\n",
       "      <td>147.6173</td>\n",
       "      <td>13.8252</td>\n",
       "      <td>598.2237</td>\n",
       "    </tr>\n",
       "    <tr>\n",
       "      <th>std</th>\n",
       "      <td>87.9793</td>\n",
       "      <td>1.6449</td>\n",
       "      <td>425.0103</td>\n",
       "    </tr>\n",
       "    <tr>\n",
       "      <th>min</th>\n",
       "      <td>0.0000</td>\n",
       "      <td>8.8200</td>\n",
       "      <td>0.0000</td>\n",
       "    </tr>\n",
       "    <tr>\n",
       "      <th>25%</th>\n",
       "      <td>70.0000</td>\n",
       "      <td>12.6700</td>\n",
       "      <td>198.0000</td>\n",
       "    </tr>\n",
       "    <tr>\n",
       "      <th>50%</th>\n",
       "      <td>147.0000</td>\n",
       "      <td>13.9200</td>\n",
       "      <td>599.0000</td>\n",
       "    </tr>\n",
       "    <tr>\n",
       "      <th>75%</th>\n",
       "      <td>226.0000</td>\n",
       "      <td>14.9800</td>\n",
       "      <td>954.0000</td>\n",
       "    </tr>\n",
       "    <tr>\n",
       "      <th>max</th>\n",
       "      <td>299.0000</td>\n",
       "      <td>19.0000</td>\n",
       "      <td>1429.0000</td>\n",
       "    </tr>\n",
       "  </tbody>\n",
       "</table>\n",
       "</div>"
      ],
      "text/plain": [
       "              id      value       time\n",
       "count  2025.0000  2025.0000  2025.0000\n",
       "mean    147.6173    13.8252   598.2237\n",
       "std      87.9793     1.6449   425.0103\n",
       "min       0.0000     8.8200     0.0000\n",
       "25%      70.0000    12.6700   198.0000\n",
       "50%     147.0000    13.9200   599.0000\n",
       "75%     226.0000    14.9800   954.0000\n",
       "max     299.0000    19.0000  1429.0000"
      ]
     },
     "metadata": {},
     "output_type": "display_data"
    },
    {
     "name": "stdout",
     "output_type": "stream",
     "text": [
      "\n",
      "<<<--- head(10) for hgb --->>>\n"
     ]
    },
    {
     "data": {
      "text/html": [
       "<div>\n",
       "<style scoped>\n",
       "    .dataframe tbody tr th:only-of-type {\n",
       "        vertical-align: middle;\n",
       "    }\n",
       "\n",
       "    .dataframe tbody tr th {\n",
       "        vertical-align: top;\n",
       "    }\n",
       "\n",
       "    .dataframe thead th {\n",
       "        text-align: right;\n",
       "    }\n",
       "</style>\n",
       "<table border=\"1\" class=\"dataframe\">\n",
       "  <thead>\n",
       "    <tr style=\"text-align: right;\">\n",
       "      <th></th>\n",
       "      <th>id</th>\n",
       "      <th>value</th>\n",
       "      <th>time</th>\n",
       "    </tr>\n",
       "  </thead>\n",
       "  <tbody>\n",
       "    <tr>\n",
       "      <th>0</th>\n",
       "      <td>0</td>\n",
       "      <td>13.51</td>\n",
       "      <td>0</td>\n",
       "    </tr>\n",
       "    <tr>\n",
       "      <th>1</th>\n",
       "      <td>0</td>\n",
       "      <td>13.39</td>\n",
       "      <td>107</td>\n",
       "    </tr>\n",
       "    <tr>\n",
       "      <th>2</th>\n",
       "      <td>0</td>\n",
       "      <td>12.84</td>\n",
       "      <td>286</td>\n",
       "    </tr>\n",
       "    <tr>\n",
       "      <th>3</th>\n",
       "      <td>0</td>\n",
       "      <td>13.32</td>\n",
       "      <td>382</td>\n",
       "    </tr>\n",
       "    <tr>\n",
       "      <th>4</th>\n",
       "      <td>0</td>\n",
       "      <td>13.53</td>\n",
       "      <td>688</td>\n",
       "    </tr>\n",
       "    <tr>\n",
       "      <th>5</th>\n",
       "      <td>0</td>\n",
       "      <td>13.36</td>\n",
       "      <td>783</td>\n",
       "    </tr>\n",
       "    <tr>\n",
       "      <th>6</th>\n",
       "      <td>0</td>\n",
       "      <td>12.63</td>\n",
       "      <td>887</td>\n",
       "    </tr>\n",
       "    <tr>\n",
       "      <th>7</th>\n",
       "      <td>0</td>\n",
       "      <td>13.65</td>\n",
       "      <td>1076</td>\n",
       "    </tr>\n",
       "    <tr>\n",
       "      <th>8</th>\n",
       "      <td>0</td>\n",
       "      <td>13.13</td>\n",
       "      <td>1196</td>\n",
       "    </tr>\n",
       "    <tr>\n",
       "      <th>9</th>\n",
       "      <td>1</td>\n",
       "      <td>13.89</td>\n",
       "      <td>0</td>\n",
       "    </tr>\n",
       "  </tbody>\n",
       "</table>\n",
       "</div>"
      ],
      "text/plain": [
       "   id  value  time\n",
       "0   0  13.51     0\n",
       "1   0  13.39   107\n",
       "2   0  12.84   286\n",
       "3   0  13.32   382\n",
       "4   0  13.53   688\n",
       "5   0  13.36   783\n",
       "6   0  12.63   887\n",
       "7   0  13.65  1076\n",
       "8   0  13.13  1196\n",
       "9   1  13.89     0"
      ]
     },
     "metadata": {},
     "output_type": "display_data"
    }
   ],
   "source": [
    "lf.check_file('hgb')"
   ]
  },
  {
   "cell_type": "markdown",
   "metadata": {
    "ExecuteTime": {
     "end_time": "2021-03-05T06:40:37.993307Z",
     "start_time": "2021-03-05T06:40:37.977724Z"
    }
   },
   "source": [
    "This is the file that is holding the HGB (Hemoglobin) values for the patients. <br>\n",
    "Similar to T_stage.csv this file contains values for 300 patients. <br>\n",
    "No nulls or missing values detected in this file. <br>\n",
    "\n",
    "---"
   ]
  },
  {
   "cell_type": "markdown",
   "metadata": {
    "ExecuteTime": {
     "end_time": "2021-02-26T04:03:32.773690Z",
     "start_time": "2021-02-26T04:03:32.763787Z"
    }
   },
   "source": [
    "### Data file T_ldl.csv"
   ]
  },
  {
   "cell_type": "code",
   "execution_count": 14,
   "metadata": {
    "ExecuteTime": {
     "end_time": "2021-03-05T13:20:00.503460Z",
     "start_time": "2021-03-05T13:20:00.463443Z"
    },
    "scrolled": true
   },
   "outputs": [
    {
     "name": "stdout",
     "output_type": "stream",
     "text": [
      "<<<--- info() for ldl --->>>\n",
      "<class 'pandas.core.frame.DataFrame'>\n",
      "RangeIndex: 1261 entries, 0 to 1260\n",
      "Data columns (total 3 columns):\n",
      " #   Column  Non-Null Count  Dtype  \n",
      "---  ------  --------------  -----  \n",
      " 0   id      1261 non-null   int64  \n",
      " 1   value   1261 non-null   float64\n",
      " 2   time    1261 non-null   int64  \n",
      "dtypes: float64(1), int64(2)\n",
      "memory usage: 29.7 KB\n"
     ]
    },
    {
     "data": {
      "text/plain": [
       "None"
      ]
     },
     "metadata": {},
     "output_type": "display_data"
    },
    {
     "name": "stdout",
     "output_type": "stream",
     "text": [
      "\n",
      "<<<--- unique counts  for ldl --->>>\n",
      "Count of distinct values\t\t: 300\n",
      "Count of only non-null values\t\t: 1261\n",
      "Count of total values including null values\t: 1261\n",
      "\n",
      "<<<--- describe() for ldl --->>>\n"
     ]
    },
    {
     "data": {
      "text/html": [
       "<div>\n",
       "<style scoped>\n",
       "    .dataframe tbody tr th:only-of-type {\n",
       "        vertical-align: middle;\n",
       "    }\n",
       "\n",
       "    .dataframe tbody tr th {\n",
       "        vertical-align: top;\n",
       "    }\n",
       "\n",
       "    .dataframe thead th {\n",
       "        text-align: right;\n",
       "    }\n",
       "</style>\n",
       "<table border=\"1\" class=\"dataframe\">\n",
       "  <thead>\n",
       "    <tr style=\"text-align: right;\">\n",
       "      <th></th>\n",
       "      <th>id</th>\n",
       "      <th>value</th>\n",
       "      <th>time</th>\n",
       "    </tr>\n",
       "  </thead>\n",
       "  <tbody>\n",
       "    <tr>\n",
       "      <th>count</th>\n",
       "      <td>1261.0000</td>\n",
       "      <td>1261.0000</td>\n",
       "      <td>1261.0000</td>\n",
       "    </tr>\n",
       "    <tr>\n",
       "      <th>mean</th>\n",
       "      <td>151.6416</td>\n",
       "      <td>87.5588</td>\n",
       "      <td>287.4647</td>\n",
       "    </tr>\n",
       "    <tr>\n",
       "      <th>std</th>\n",
       "      <td>87.8117</td>\n",
       "      <td>28.1561</td>\n",
       "      <td>225.5580</td>\n",
       "    </tr>\n",
       "    <tr>\n",
       "      <th>min</th>\n",
       "      <td>0.0000</td>\n",
       "      <td>26.1000</td>\n",
       "      <td>0.0000</td>\n",
       "    </tr>\n",
       "    <tr>\n",
       "      <th>25%</th>\n",
       "      <td>75.0000</td>\n",
       "      <td>67.2900</td>\n",
       "      <td>6.0000</td>\n",
       "    </tr>\n",
       "    <tr>\n",
       "      <th>50%</th>\n",
       "      <td>154.0000</td>\n",
       "      <td>83.9600</td>\n",
       "      <td>286.0000</td>\n",
       "    </tr>\n",
       "    <tr>\n",
       "      <th>75%</th>\n",
       "      <td>228.0000</td>\n",
       "      <td>105.1400</td>\n",
       "      <td>483.0000</td>\n",
       "    </tr>\n",
       "    <tr>\n",
       "      <th>max</th>\n",
       "      <td>299.0000</td>\n",
       "      <td>198.5900</td>\n",
       "      <td>699.0000</td>\n",
       "    </tr>\n",
       "  </tbody>\n",
       "</table>\n",
       "</div>"
      ],
      "text/plain": [
       "              id      value       time\n",
       "count  1261.0000  1261.0000  1261.0000\n",
       "mean    151.6416    87.5588   287.4647\n",
       "std      87.8117    28.1561   225.5580\n",
       "min       0.0000    26.1000     0.0000\n",
       "25%      75.0000    67.2900     6.0000\n",
       "50%     154.0000    83.9600   286.0000\n",
       "75%     228.0000   105.1400   483.0000\n",
       "max     299.0000   198.5900   699.0000"
      ]
     },
     "metadata": {},
     "output_type": "display_data"
    },
    {
     "name": "stdout",
     "output_type": "stream",
     "text": [
      "\n",
      "<<<--- head(10) for ldl --->>>\n"
     ]
    },
    {
     "data": {
      "text/html": [
       "<div>\n",
       "<style scoped>\n",
       "    .dataframe tbody tr th:only-of-type {\n",
       "        vertical-align: middle;\n",
       "    }\n",
       "\n",
       "    .dataframe tbody tr th {\n",
       "        vertical-align: top;\n",
       "    }\n",
       "\n",
       "    .dataframe thead th {\n",
       "        text-align: right;\n",
       "    }\n",
       "</style>\n",
       "<table border=\"1\" class=\"dataframe\">\n",
       "  <thead>\n",
       "    <tr style=\"text-align: right;\">\n",
       "      <th></th>\n",
       "      <th>id</th>\n",
       "      <th>value</th>\n",
       "      <th>time</th>\n",
       "    </tr>\n",
       "  </thead>\n",
       "  <tbody>\n",
       "    <tr>\n",
       "      <th>0</th>\n",
       "      <td>0</td>\n",
       "      <td>161.49</td>\n",
       "      <td>0</td>\n",
       "    </tr>\n",
       "    <tr>\n",
       "      <th>1</th>\n",
       "      <td>0</td>\n",
       "      <td>111.39</td>\n",
       "      <td>107</td>\n",
       "    </tr>\n",
       "    <tr>\n",
       "      <th>2</th>\n",
       "      <td>0</td>\n",
       "      <td>157.90</td>\n",
       "      <td>382</td>\n",
       "    </tr>\n",
       "    <tr>\n",
       "      <th>3</th>\n",
       "      <td>1</td>\n",
       "      <td>89.57</td>\n",
       "      <td>0</td>\n",
       "    </tr>\n",
       "    <tr>\n",
       "      <th>4</th>\n",
       "      <td>1</td>\n",
       "      <td>98.73</td>\n",
       "      <td>221</td>\n",
       "    </tr>\n",
       "    <tr>\n",
       "      <th>5</th>\n",
       "      <td>1</td>\n",
       "      <td>71.56</td>\n",
       "      <td>319</td>\n",
       "    </tr>\n",
       "    <tr>\n",
       "      <th>6</th>\n",
       "      <td>1</td>\n",
       "      <td>79.02</td>\n",
       "      <td>402</td>\n",
       "    </tr>\n",
       "    <tr>\n",
       "      <th>7</th>\n",
       "      <td>1</td>\n",
       "      <td>73.24</td>\n",
       "      <td>660</td>\n",
       "    </tr>\n",
       "    <tr>\n",
       "      <th>8</th>\n",
       "      <td>2</td>\n",
       "      <td>61.62</td>\n",
       "      <td>0</td>\n",
       "    </tr>\n",
       "    <tr>\n",
       "      <th>9</th>\n",
       "      <td>2</td>\n",
       "      <td>77.09</td>\n",
       "      <td>184</td>\n",
       "    </tr>\n",
       "  </tbody>\n",
       "</table>\n",
       "</div>"
      ],
      "text/plain": [
       "   id   value  time\n",
       "0   0  161.49     0\n",
       "1   0  111.39   107\n",
       "2   0  157.90   382\n",
       "3   1   89.57     0\n",
       "4   1   98.73   221\n",
       "5   1   71.56   319\n",
       "6   1   79.02   402\n",
       "7   1   73.24   660\n",
       "8   2   61.62     0\n",
       "9   2   77.09   184"
      ]
     },
     "metadata": {},
     "output_type": "display_data"
    }
   ],
   "source": [
    "lf.check_file('ldl')"
   ]
  },
  {
   "cell_type": "markdown",
   "metadata": {},
   "source": [
    "This is the file that is holding the ldl (low-density lipoprotein) values for the patients. <br>\n",
    "Similar to T_stage.csv this file contains values for 300 patients. <br>\n",
    "No nulls or missing values detected in this file. <br>\n",
    "\n",
    "---"
   ]
  },
  {
   "cell_type": "markdown",
   "metadata": {},
   "source": [
    "### Data file T_meds.csv"
   ]
  },
  {
   "cell_type": "code",
   "execution_count": 15,
   "metadata": {
    "ExecuteTime": {
     "end_time": "2021-03-05T13:20:00.543195Z",
     "start_time": "2021-03-05T13:20:00.503460Z"
    },
    "scrolled": true
   },
   "outputs": [
    {
     "name": "stdout",
     "output_type": "stream",
     "text": [
      "<<<--- info() for meds --->>>\n",
      "<class 'pandas.core.frame.DataFrame'>\n",
      "RangeIndex: 2181 entries, 0 to 2180\n",
      "Data columns (total 5 columns):\n",
      " #   Column        Non-Null Count  Dtype  \n",
      "---  ------        --------------  -----  \n",
      " 0   id            2181 non-null   int64  \n",
      " 1   drug          2181 non-null   object \n",
      " 2   daily_dosage  2181 non-null   float64\n",
      " 3   start_day     2181 non-null   int64  \n",
      " 4   end_day       2181 non-null   int64  \n",
      "dtypes: float64(1), int64(3), object(1)\n",
      "memory usage: 85.3+ KB\n"
     ]
    },
    {
     "data": {
      "text/plain": [
       "None"
      ]
     },
     "metadata": {},
     "output_type": "display_data"
    },
    {
     "name": "stdout",
     "output_type": "stream",
     "text": [
      "\n",
      "<<<--- unique counts  for meds --->>>\n",
      "Count of distinct values\t\t: 272\n",
      "Count of only non-null values\t\t: 2181\n",
      "Count of total values including null values\t: 2181\n",
      "\n",
      "<<<--- describe() for meds --->>>\n"
     ]
    },
    {
     "data": {
      "text/html": [
       "<div>\n",
       "<style scoped>\n",
       "    .dataframe tbody tr th:only-of-type {\n",
       "        vertical-align: middle;\n",
       "    }\n",
       "\n",
       "    .dataframe tbody tr th {\n",
       "        vertical-align: top;\n",
       "    }\n",
       "\n",
       "    .dataframe thead th {\n",
       "        text-align: right;\n",
       "    }\n",
       "</style>\n",
       "<table border=\"1\" class=\"dataframe\">\n",
       "  <thead>\n",
       "    <tr style=\"text-align: right;\">\n",
       "      <th></th>\n",
       "      <th>id</th>\n",
       "      <th>daily_dosage</th>\n",
       "      <th>start_day</th>\n",
       "      <th>end_day</th>\n",
       "    </tr>\n",
       "  </thead>\n",
       "  <tbody>\n",
       "    <tr>\n",
       "      <th>count</th>\n",
       "      <td>2181.0000</td>\n",
       "      <td>2181.0000</td>\n",
       "      <td>2181.0000</td>\n",
       "      <td>2181.0000</td>\n",
       "    </tr>\n",
       "    <tr>\n",
       "      <th>mean</th>\n",
       "      <td>144.0546</td>\n",
       "      <td>276.6531</td>\n",
       "      <td>291.2545</td>\n",
       "      <td>370.9963</td>\n",
       "    </tr>\n",
       "    <tr>\n",
       "      <th>std</th>\n",
       "      <td>87.1945</td>\n",
       "      <td>478.4111</td>\n",
       "      <td>191.0872</td>\n",
       "      <td>190.5758</td>\n",
       "    </tr>\n",
       "    <tr>\n",
       "      <th>min</th>\n",
       "      <td>0.0000</td>\n",
       "      <td>2.0000</td>\n",
       "      <td>-78.0000</td>\n",
       "      <td>-4.0000</td>\n",
       "    </tr>\n",
       "    <tr>\n",
       "      <th>25%</th>\n",
       "      <td>68.0000</td>\n",
       "      <td>20.0000</td>\n",
       "      <td>126.0000</td>\n",
       "      <td>208.0000</td>\n",
       "    </tr>\n",
       "    <tr>\n",
       "      <th>50%</th>\n",
       "      <td>140.0000</td>\n",
       "      <td>50.0000</td>\n",
       "      <td>290.0000</td>\n",
       "      <td>377.0000</td>\n",
       "    </tr>\n",
       "    <tr>\n",
       "      <th>75%</th>\n",
       "      <td>222.0000</td>\n",
       "      <td>320.0000</td>\n",
       "      <td>448.0000</td>\n",
       "      <td>534.0000</td>\n",
       "    </tr>\n",
       "    <tr>\n",
       "      <th>max</th>\n",
       "      <td>299.0000</td>\n",
       "      <td>2550.0000</td>\n",
       "      <td>691.0000</td>\n",
       "      <td>698.0000</td>\n",
       "    </tr>\n",
       "  </tbody>\n",
       "</table>\n",
       "</div>"
      ],
      "text/plain": [
       "              id  daily_dosage  start_day    end_day\n",
       "count  2181.0000     2181.0000  2181.0000  2181.0000\n",
       "mean    144.0546      276.6531   291.2545   370.9963\n",
       "std      87.1945      478.4111   191.0872   190.5758\n",
       "min       0.0000        2.0000   -78.0000    -4.0000\n",
       "25%      68.0000       20.0000   126.0000   208.0000\n",
       "50%     140.0000       50.0000   290.0000   377.0000\n",
       "75%     222.0000      320.0000   448.0000   534.0000\n",
       "max     299.0000     2550.0000   691.0000   698.0000"
      ]
     },
     "metadata": {},
     "output_type": "display_data"
    },
    {
     "name": "stdout",
     "output_type": "stream",
     "text": [
      "\n",
      "<<<--- head(10) for meds --->>>\n"
     ]
    },
    {
     "data": {
      "text/html": [
       "<div>\n",
       "<style scoped>\n",
       "    .dataframe tbody tr th:only-of-type {\n",
       "        vertical-align: middle;\n",
       "    }\n",
       "\n",
       "    .dataframe tbody tr th {\n",
       "        vertical-align: top;\n",
       "    }\n",
       "\n",
       "    .dataframe thead th {\n",
       "        text-align: right;\n",
       "    }\n",
       "</style>\n",
       "<table border=\"1\" class=\"dataframe\">\n",
       "  <thead>\n",
       "    <tr style=\"text-align: right;\">\n",
       "      <th></th>\n",
       "      <th>id</th>\n",
       "      <th>drug</th>\n",
       "      <th>daily_dosage</th>\n",
       "      <th>start_day</th>\n",
       "      <th>end_day</th>\n",
       "    </tr>\n",
       "  </thead>\n",
       "  <tbody>\n",
       "    <tr>\n",
       "      <th>0</th>\n",
       "      <td>0</td>\n",
       "      <td>atorvastatin</td>\n",
       "      <td>10.0</td>\n",
       "      <td>19</td>\n",
       "      <td>109</td>\n",
       "    </tr>\n",
       "    <tr>\n",
       "      <th>1</th>\n",
       "      <td>0</td>\n",
       "      <td>atorvastatin</td>\n",
       "      <td>10.0</td>\n",
       "      <td>117</td>\n",
       "      <td>207</td>\n",
       "    </tr>\n",
       "    <tr>\n",
       "      <th>2</th>\n",
       "      <td>0</td>\n",
       "      <td>losartan</td>\n",
       "      <td>100.0</td>\n",
       "      <td>19</td>\n",
       "      <td>289</td>\n",
       "    </tr>\n",
       "    <tr>\n",
       "      <th>3</th>\n",
       "      <td>0</td>\n",
       "      <td>losartan</td>\n",
       "      <td>100.0</td>\n",
       "      <td>403</td>\n",
       "      <td>493</td>\n",
       "    </tr>\n",
       "    <tr>\n",
       "      <th>4</th>\n",
       "      <td>0</td>\n",
       "      <td>losartan</td>\n",
       "      <td>100.0</td>\n",
       "      <td>587</td>\n",
       "      <td>677</td>\n",
       "    </tr>\n",
       "    <tr>\n",
       "      <th>5</th>\n",
       "      <td>0</td>\n",
       "      <td>metformin</td>\n",
       "      <td>1000.0</td>\n",
       "      <td>19</td>\n",
       "      <td>109</td>\n",
       "    </tr>\n",
       "    <tr>\n",
       "      <th>6</th>\n",
       "      <td>0</td>\n",
       "      <td>metformin</td>\n",
       "      <td>1000.0</td>\n",
       "      <td>131</td>\n",
       "      <td>281</td>\n",
       "    </tr>\n",
       "    <tr>\n",
       "      <th>7</th>\n",
       "      <td>0</td>\n",
       "      <td>metformin</td>\n",
       "      <td>1000.0</td>\n",
       "      <td>309</td>\n",
       "      <td>399</td>\n",
       "    </tr>\n",
       "    <tr>\n",
       "      <th>8</th>\n",
       "      <td>0</td>\n",
       "      <td>metformin</td>\n",
       "      <td>1000.0</td>\n",
       "      <td>312</td>\n",
       "      <td>462</td>\n",
       "    </tr>\n",
       "    <tr>\n",
       "      <th>9</th>\n",
       "      <td>0</td>\n",
       "      <td>metformin</td>\n",
       "      <td>1000.0</td>\n",
       "      <td>467</td>\n",
       "      <td>557</td>\n",
       "    </tr>\n",
       "  </tbody>\n",
       "</table>\n",
       "</div>"
      ],
      "text/plain": [
       "   id          drug  daily_dosage  start_day  end_day\n",
       "0   0  atorvastatin          10.0         19      109\n",
       "1   0  atorvastatin          10.0        117      207\n",
       "2   0      losartan         100.0         19      289\n",
       "3   0      losartan         100.0        403      493\n",
       "4   0      losartan         100.0        587      677\n",
       "5   0     metformin        1000.0         19      109\n",
       "6   0     metformin        1000.0        131      281\n",
       "7   0     metformin        1000.0        309      399\n",
       "8   0     metformin        1000.0        312      462\n",
       "9   0     metformin        1000.0        467      557"
      ]
     },
     "metadata": {},
     "output_type": "display_data"
    }
   ],
   "source": [
    "lf.check_file('meds')"
   ]
  },
  {
   "cell_type": "markdown",
   "metadata": {},
   "source": [
    "This is the file that is holding the medication taken by the patients. <br>\n",
    "This file contains values for only 272 patients, will assume 28 patients are not on medications. <br>\n",
    "No nulls or missing values detected in this file. <br>\n",
    "\n",
    "---"
   ]
  },
  {
   "cell_type": "markdown",
   "metadata": {},
   "source": [
    "### Data file T_SBP.csv"
   ]
  },
  {
   "cell_type": "code",
   "execution_count": 16,
   "metadata": {
    "ExecuteTime": {
     "end_time": "2021-03-05T13:20:00.583504Z",
     "start_time": "2021-03-05T13:20:00.543195Z"
    },
    "scrolled": true
   },
   "outputs": [
    {
     "name": "stdout",
     "output_type": "stream",
     "text": [
      "<<<--- info() for sbp --->>>\n",
      "<class 'pandas.core.frame.DataFrame'>\n",
      "RangeIndex: 1809 entries, 0 to 1808\n",
      "Data columns (total 3 columns):\n",
      " #   Column  Non-Null Count  Dtype  \n",
      "---  ------  --------------  -----  \n",
      " 0   id      1809 non-null   int64  \n",
      " 1   value   1809 non-null   float64\n",
      " 2   time    1809 non-null   int64  \n",
      "dtypes: float64(1), int64(2)\n",
      "memory usage: 42.5 KB\n"
     ]
    },
    {
     "data": {
      "text/plain": [
       "None"
      ]
     },
     "metadata": {},
     "output_type": "display_data"
    },
    {
     "name": "stdout",
     "output_type": "stream",
     "text": [
      "\n",
      "<<<--- unique counts  for sbp --->>>\n",
      "Count of distinct values\t\t: 300\n",
      "Count of only non-null values\t\t: 1809\n",
      "Count of total values including null values\t: 1809\n",
      "\n",
      "<<<--- describe() for sbp --->>>\n"
     ]
    },
    {
     "data": {
      "text/html": [
       "<div>\n",
       "<style scoped>\n",
       "    .dataframe tbody tr th:only-of-type {\n",
       "        vertical-align: middle;\n",
       "    }\n",
       "\n",
       "    .dataframe tbody tr th {\n",
       "        vertical-align: top;\n",
       "    }\n",
       "\n",
       "    .dataframe thead th {\n",
       "        text-align: right;\n",
       "    }\n",
       "</style>\n",
       "<table border=\"1\" class=\"dataframe\">\n",
       "  <thead>\n",
       "    <tr style=\"text-align: right;\">\n",
       "      <th></th>\n",
       "      <th>id</th>\n",
       "      <th>value</th>\n",
       "      <th>time</th>\n",
       "    </tr>\n",
       "  </thead>\n",
       "  <tbody>\n",
       "    <tr>\n",
       "      <th>count</th>\n",
       "      <td>1809.0000</td>\n",
       "      <td>1809.0000</td>\n",
       "      <td>1809.0000</td>\n",
       "    </tr>\n",
       "    <tr>\n",
       "      <th>mean</th>\n",
       "      <td>149.2134</td>\n",
       "      <td>134.1554</td>\n",
       "      <td>304.7960</td>\n",
       "    </tr>\n",
       "    <tr>\n",
       "      <th>std</th>\n",
       "      <td>87.1310</td>\n",
       "      <td>14.7658</td>\n",
       "      <td>221.7185</td>\n",
       "    </tr>\n",
       "    <tr>\n",
       "      <th>min</th>\n",
       "      <td>0.0000</td>\n",
       "      <td>91.9900</td>\n",
       "      <td>0.0000</td>\n",
       "    </tr>\n",
       "    <tr>\n",
       "      <th>25%</th>\n",
       "      <td>74.0000</td>\n",
       "      <td>124.6300</td>\n",
       "      <td>97.0000</td>\n",
       "    </tr>\n",
       "    <tr>\n",
       "      <th>50%</th>\n",
       "      <td>150.0000</td>\n",
       "      <td>133.4400</td>\n",
       "      <td>301.0000</td>\n",
       "    </tr>\n",
       "    <tr>\n",
       "      <th>75%</th>\n",
       "      <td>226.0000</td>\n",
       "      <td>143.1600</td>\n",
       "      <td>495.0000</td>\n",
       "    </tr>\n",
       "    <tr>\n",
       "      <th>max</th>\n",
       "      <td>299.0000</td>\n",
       "      <td>211.0900</td>\n",
       "      <td>699.0000</td>\n",
       "    </tr>\n",
       "  </tbody>\n",
       "</table>\n",
       "</div>"
      ],
      "text/plain": [
       "              id      value       time\n",
       "count  1809.0000  1809.0000  1809.0000\n",
       "mean    149.2134   134.1554   304.7960\n",
       "std      87.1310    14.7658   221.7185\n",
       "min       0.0000    91.9900     0.0000\n",
       "25%      74.0000   124.6300    97.0000\n",
       "50%     150.0000   133.4400   301.0000\n",
       "75%     226.0000   143.1600   495.0000\n",
       "max     299.0000   211.0900   699.0000"
      ]
     },
     "metadata": {},
     "output_type": "display_data"
    },
    {
     "name": "stdout",
     "output_type": "stream",
     "text": [
      "\n",
      "<<<--- head(10) for sbp --->>>\n"
     ]
    },
    {
     "data": {
      "text/html": [
       "<div>\n",
       "<style scoped>\n",
       "    .dataframe tbody tr th:only-of-type {\n",
       "        vertical-align: middle;\n",
       "    }\n",
       "\n",
       "    .dataframe tbody tr th {\n",
       "        vertical-align: top;\n",
       "    }\n",
       "\n",
       "    .dataframe thead th {\n",
       "        text-align: right;\n",
       "    }\n",
       "</style>\n",
       "<table border=\"1\" class=\"dataframe\">\n",
       "  <thead>\n",
       "    <tr style=\"text-align: right;\">\n",
       "      <th></th>\n",
       "      <th>id</th>\n",
       "      <th>value</th>\n",
       "      <th>time</th>\n",
       "    </tr>\n",
       "  </thead>\n",
       "  <tbody>\n",
       "    <tr>\n",
       "      <th>0</th>\n",
       "      <td>0</td>\n",
       "      <td>134.11</td>\n",
       "      <td>0</td>\n",
       "    </tr>\n",
       "    <tr>\n",
       "      <th>1</th>\n",
       "      <td>0</td>\n",
       "      <td>133.75</td>\n",
       "      <td>98</td>\n",
       "    </tr>\n",
       "    <tr>\n",
       "      <th>2</th>\n",
       "      <td>0</td>\n",
       "      <td>125.08</td>\n",
       "      <td>279</td>\n",
       "    </tr>\n",
       "    <tr>\n",
       "      <th>3</th>\n",
       "      <td>0</td>\n",
       "      <td>136.75</td>\n",
       "      <td>380</td>\n",
       "    </tr>\n",
       "    <tr>\n",
       "      <th>4</th>\n",
       "      <td>0</td>\n",
       "      <td>130.50</td>\n",
       "      <td>475</td>\n",
       "    </tr>\n",
       "    <tr>\n",
       "      <th>5</th>\n",
       "      <td>0</td>\n",
       "      <td>154.91</td>\n",
       "      <td>580</td>\n",
       "    </tr>\n",
       "    <tr>\n",
       "      <th>6</th>\n",
       "      <td>0</td>\n",
       "      <td>154.28</td>\n",
       "      <td>678</td>\n",
       "    </tr>\n",
       "    <tr>\n",
       "      <th>7</th>\n",
       "      <td>0</td>\n",
       "      <td>147.50</td>\n",
       "      <td>679</td>\n",
       "    </tr>\n",
       "    <tr>\n",
       "      <th>8</th>\n",
       "      <td>1</td>\n",
       "      <td>157.46</td>\n",
       "      <td>0</td>\n",
       "    </tr>\n",
       "    <tr>\n",
       "      <th>9</th>\n",
       "      <td>1</td>\n",
       "      <td>153.59</td>\n",
       "      <td>41</td>\n",
       "    </tr>\n",
       "  </tbody>\n",
       "</table>\n",
       "</div>"
      ],
      "text/plain": [
       "   id   value  time\n",
       "0   0  134.11     0\n",
       "1   0  133.75    98\n",
       "2   0  125.08   279\n",
       "3   0  136.75   380\n",
       "4   0  130.50   475\n",
       "5   0  154.91   580\n",
       "6   0  154.28   678\n",
       "7   0  147.50   679\n",
       "8   1  157.46     0\n",
       "9   1  153.59    41"
      ]
     },
     "metadata": {},
     "output_type": "display_data"
    }
   ],
   "source": [
    "lf.check_file('sbp')"
   ]
  },
  {
   "cell_type": "markdown",
   "metadata": {
    "ExecuteTime": {
     "end_time": "2021-03-05T06:45:32.027485Z",
     "start_time": "2021-03-05T06:45:32.018292Z"
    }
   },
   "source": [
    "This is the file that is holding the SBP (Systolic blood pressure) values for the patients. <br>\n",
    "Similar to T_stage.csv this file contains values for 300 patients. <br>\n",
    "No nulls or missing values detected in this file. <br>\n",
    "\n",
    "---"
   ]
  },
  {
   "cell_type": "markdown",
   "metadata": {},
   "source": [
    "## Merging all the values into one DataFrame"
   ]
  },
  {
   "cell_type": "markdown",
   "metadata": {},
   "source": [
    "### Merge patient lab measurement values "
   ]
  },
  {
   "cell_type": "code",
   "execution_count": 17,
   "metadata": {
    "ExecuteTime": {
     "end_time": "2021-03-05T13:20:00.603453Z",
     "start_time": "2021-03-05T13:20:00.583504Z"
    }
   },
   "outputs": [],
   "source": [
    "# Creating a set for the dataframes that are not measured values\n",
    "lf.non_vitals = set(['stage', 'demo', 'meds'])"
   ]
  },
  {
   "cell_type": "code",
   "execution_count": 18,
   "metadata": {
    "ExecuteTime": {
     "end_time": "2021-03-05T13:20:03.829422Z",
     "start_time": "2021-03-05T13:20:00.603453Z"
    },
    "scrolled": true
   },
   "outputs": [],
   "source": [
    "# Preprocessing and merging the lab measured values \n",
    "# (creatinine, DBP, glucose, HGB, ldl, SBP) dataframes into one\n",
    "lf.merge_vals()"
   ]
  },
  {
   "cell_type": "code",
   "execution_count": 19,
   "metadata": {
    "ExecuteTime": {
     "end_time": "2021-03-05T13:20:03.845092Z",
     "start_time": "2021-03-05T13:20:03.829422Z"
    },
    "scrolled": false
   },
   "outputs": [
    {
     "data": {
      "text/html": [
       "<div>\n",
       "<style scoped>\n",
       "    .dataframe tbody tr th:only-of-type {\n",
       "        vertical-align: middle;\n",
       "    }\n",
       "\n",
       "    .dataframe tbody tr th {\n",
       "        vertical-align: top;\n",
       "    }\n",
       "\n",
       "    .dataframe thead th {\n",
       "        text-align: right;\n",
       "    }\n",
       "</style>\n",
       "<table border=\"1\" class=\"dataframe\">\n",
       "  <thead>\n",
       "    <tr style=\"text-align: right;\">\n",
       "      <th></th>\n",
       "      <th>id</th>\n",
       "      <th>cre</th>\n",
       "      <th>cre_trend</th>\n",
       "      <th>dbp</th>\n",
       "      <th>dbp_trend</th>\n",
       "      <th>glu</th>\n",
       "      <th>glu_trend</th>\n",
       "      <th>hgb</th>\n",
       "      <th>hgb_trend</th>\n",
       "      <th>ldl</th>\n",
       "      <th>ldl_trend</th>\n",
       "      <th>sbp</th>\n",
       "      <th>sbp_trend</th>\n",
       "    </tr>\n",
       "  </thead>\n",
       "  <tbody>\n",
       "    <tr>\n",
       "      <th>0</th>\n",
       "      <td>0.0</td>\n",
       "      <td>1.23</td>\n",
       "      <td>0.0</td>\n",
       "      <td>84.29</td>\n",
       "      <td>0.0</td>\n",
       "      <td>5.78</td>\n",
       "      <td>0.0</td>\n",
       "      <td>13.13</td>\n",
       "      <td>0.0</td>\n",
       "      <td>157.90</td>\n",
       "      <td>1.0</td>\n",
       "      <td>147.50</td>\n",
       "      <td>1.0</td>\n",
       "    </tr>\n",
       "    <tr>\n",
       "      <th>1</th>\n",
       "      <td>1.0</td>\n",
       "      <td>2.20</td>\n",
       "      <td>1.0</td>\n",
       "      <td>90.99</td>\n",
       "      <td>1.0</td>\n",
       "      <td>9.78</td>\n",
       "      <td>1.0</td>\n",
       "      <td>12.85</td>\n",
       "      <td>0.0</td>\n",
       "      <td>73.24</td>\n",
       "      <td>0.0</td>\n",
       "      <td>149.66</td>\n",
       "      <td>0.0</td>\n",
       "    </tr>\n",
       "    <tr>\n",
       "      <th>2</th>\n",
       "      <td>2.0</td>\n",
       "      <td>2.20</td>\n",
       "      <td>0.0</td>\n",
       "      <td>91.52</td>\n",
       "      <td>1.0</td>\n",
       "      <td>7.04</td>\n",
       "      <td>1.0</td>\n",
       "      <td>15.19</td>\n",
       "      <td>0.0</td>\n",
       "      <td>87.14</td>\n",
       "      <td>1.0</td>\n",
       "      <td>136.46</td>\n",
       "      <td>1.0</td>\n",
       "    </tr>\n",
       "    <tr>\n",
       "      <th>3</th>\n",
       "      <td>3.0</td>\n",
       "      <td>0.90</td>\n",
       "      <td>0.0</td>\n",
       "      <td>67.45</td>\n",
       "      <td>0.0</td>\n",
       "      <td>5.77</td>\n",
       "      <td>0.0</td>\n",
       "      <td>12.66</td>\n",
       "      <td>0.0</td>\n",
       "      <td>101.42</td>\n",
       "      <td>0.0</td>\n",
       "      <td>142.88</td>\n",
       "      <td>0.0</td>\n",
       "    </tr>\n",
       "    <tr>\n",
       "      <th>4</th>\n",
       "      <td>4.0</td>\n",
       "      <td>0.93</td>\n",
       "      <td>0.0</td>\n",
       "      <td>104.57</td>\n",
       "      <td>1.0</td>\n",
       "      <td>11.00</td>\n",
       "      <td>1.0</td>\n",
       "      <td>11.63</td>\n",
       "      <td>0.0</td>\n",
       "      <td>72.03</td>\n",
       "      <td>1.0</td>\n",
       "      <td>166.45</td>\n",
       "      <td>1.0</td>\n",
       "    </tr>\n",
       "  </tbody>\n",
       "</table>\n",
       "</div>"
      ],
      "text/plain": [
       "    id   cre  cre_trend     dbp  dbp_trend    glu  glu_trend    hgb  \\\n",
       "0  0.0  1.23        0.0   84.29        0.0   5.78        0.0  13.13   \n",
       "1  1.0  2.20        1.0   90.99        1.0   9.78        1.0  12.85   \n",
       "2  2.0  2.20        0.0   91.52        1.0   7.04        1.0  15.19   \n",
       "3  3.0  0.90        0.0   67.45        0.0   5.77        0.0  12.66   \n",
       "4  4.0  0.93        0.0  104.57        1.0  11.00        1.0  11.63   \n",
       "\n",
       "   hgb_trend     ldl  ldl_trend     sbp  sbp_trend  \n",
       "0        0.0  157.90        1.0  147.50        1.0  \n",
       "1        0.0   73.24        0.0  149.66        0.0  \n",
       "2        0.0   87.14        1.0  136.46        1.0  \n",
       "3        0.0  101.42        0.0  142.88        0.0  \n",
       "4        0.0   72.03        1.0  166.45        1.0  "
      ]
     },
     "execution_count": 19,
     "metadata": {},
     "output_type": "execute_result"
    }
   ],
   "source": [
    "# trend columns, 1 up trend, 0 down trend\n",
    "# Looking at the dataframe after merging\n",
    "lf.vals_df.head()"
   ]
  },
  {
   "cell_type": "markdown",
   "metadata": {},
   "source": [
    "Above is the dataframe after merging. <br>\n",
    "For each dataframe, only 2 data points are taken:\n",
    "- the most recent value (max time value)\n",
    "- the linear trend of the values (1: upwards trend, 0: downwards trend)\n",
    "\n",
    "---"
   ]
  },
  {
   "cell_type": "markdown",
   "metadata": {},
   "source": [
    "### One Hot Encode medication taken   "
   ]
  },
  {
   "cell_type": "markdown",
   "metadata": {},
   "source": [
    "Given the time constraint and limited knowledge on medications. <br>\n",
    "Will one hot encode medications for this analysis. "
   ]
  },
  {
   "cell_type": "code",
   "execution_count": 20,
   "metadata": {
    "ExecuteTime": {
     "end_time": "2021-03-05T13:20:04.023624Z",
     "start_time": "2021-03-05T13:20:03.846104Z"
    },
    "scrolled": true
   },
   "outputs": [
    {
     "data": {
      "text/html": [
       "<div>\n",
       "<style scoped>\n",
       "    .dataframe tbody tr th:only-of-type {\n",
       "        vertical-align: middle;\n",
       "    }\n",
       "\n",
       "    .dataframe tbody tr th {\n",
       "        vertical-align: top;\n",
       "    }\n",
       "\n",
       "    .dataframe thead th {\n",
       "        text-align: right;\n",
       "    }\n",
       "</style>\n",
       "<table border=\"1\" class=\"dataframe\">\n",
       "  <thead>\n",
       "    <tr style=\"text-align: right;\">\n",
       "      <th></th>\n",
       "      <th>irbesartan</th>\n",
       "      <th>olmesartan</th>\n",
       "      <th>dapagliflozin</th>\n",
       "      <th>atenolol</th>\n",
       "      <th>lovastatin</th>\n",
       "      <th>canagliflozin</th>\n",
       "      <th>labetalol</th>\n",
       "      <th>valsartan</th>\n",
       "      <th>bisoprolol</th>\n",
       "      <th>metformin</th>\n",
       "      <th>...</th>\n",
       "      <th>simvastatin</th>\n",
       "      <th>losartan</th>\n",
       "      <th>propranolol</th>\n",
       "      <th>pitavastatin</th>\n",
       "      <th>nebivolol</th>\n",
       "      <th>carvedilol</th>\n",
       "      <th>metoprolol</th>\n",
       "      <th>telmisartan</th>\n",
       "      <th>rosuvastatin</th>\n",
       "      <th>id</th>\n",
       "    </tr>\n",
       "  </thead>\n",
       "  <tbody>\n",
       "    <tr>\n",
       "      <th>0</th>\n",
       "      <td>0</td>\n",
       "      <td>0</td>\n",
       "      <td>0</td>\n",
       "      <td>0</td>\n",
       "      <td>0</td>\n",
       "      <td>0</td>\n",
       "      <td>0</td>\n",
       "      <td>0</td>\n",
       "      <td>0</td>\n",
       "      <td>1</td>\n",
       "      <td>...</td>\n",
       "      <td>0</td>\n",
       "      <td>1</td>\n",
       "      <td>0</td>\n",
       "      <td>0</td>\n",
       "      <td>0</td>\n",
       "      <td>0</td>\n",
       "      <td>0</td>\n",
       "      <td>0</td>\n",
       "      <td>0</td>\n",
       "      <td>0</td>\n",
       "    </tr>\n",
       "    <tr>\n",
       "      <th>1</th>\n",
       "      <td>0</td>\n",
       "      <td>0</td>\n",
       "      <td>0</td>\n",
       "      <td>0</td>\n",
       "      <td>0</td>\n",
       "      <td>0</td>\n",
       "      <td>0</td>\n",
       "      <td>0</td>\n",
       "      <td>0</td>\n",
       "      <td>0</td>\n",
       "      <td>...</td>\n",
       "      <td>0</td>\n",
       "      <td>0</td>\n",
       "      <td>0</td>\n",
       "      <td>0</td>\n",
       "      <td>0</td>\n",
       "      <td>0</td>\n",
       "      <td>0</td>\n",
       "      <td>0</td>\n",
       "      <td>0</td>\n",
       "      <td>1</td>\n",
       "    </tr>\n",
       "    <tr>\n",
       "      <th>2</th>\n",
       "      <td>0</td>\n",
       "      <td>0</td>\n",
       "      <td>0</td>\n",
       "      <td>0</td>\n",
       "      <td>0</td>\n",
       "      <td>0</td>\n",
       "      <td>0</td>\n",
       "      <td>0</td>\n",
       "      <td>0</td>\n",
       "      <td>0</td>\n",
       "      <td>...</td>\n",
       "      <td>0</td>\n",
       "      <td>0</td>\n",
       "      <td>0</td>\n",
       "      <td>0</td>\n",
       "      <td>0</td>\n",
       "      <td>0</td>\n",
       "      <td>0</td>\n",
       "      <td>0</td>\n",
       "      <td>1</td>\n",
       "      <td>2</td>\n",
       "    </tr>\n",
       "    <tr>\n",
       "      <th>3</th>\n",
       "      <td>0</td>\n",
       "      <td>0</td>\n",
       "      <td>0</td>\n",
       "      <td>0</td>\n",
       "      <td>0</td>\n",
       "      <td>0</td>\n",
       "      <td>0</td>\n",
       "      <td>0</td>\n",
       "      <td>0</td>\n",
       "      <td>0</td>\n",
       "      <td>...</td>\n",
       "      <td>0</td>\n",
       "      <td>0</td>\n",
       "      <td>0</td>\n",
       "      <td>0</td>\n",
       "      <td>0</td>\n",
       "      <td>0</td>\n",
       "      <td>0</td>\n",
       "      <td>0</td>\n",
       "      <td>0</td>\n",
       "      <td>3</td>\n",
       "    </tr>\n",
       "    <tr>\n",
       "      <th>4</th>\n",
       "      <td>0</td>\n",
       "      <td>0</td>\n",
       "      <td>0</td>\n",
       "      <td>0</td>\n",
       "      <td>0</td>\n",
       "      <td>0</td>\n",
       "      <td>0</td>\n",
       "      <td>0</td>\n",
       "      <td>0</td>\n",
       "      <td>1</td>\n",
       "      <td>...</td>\n",
       "      <td>0</td>\n",
       "      <td>1</td>\n",
       "      <td>0</td>\n",
       "      <td>0</td>\n",
       "      <td>0</td>\n",
       "      <td>0</td>\n",
       "      <td>0</td>\n",
       "      <td>0</td>\n",
       "      <td>0</td>\n",
       "      <td>4</td>\n",
       "    </tr>\n",
       "  </tbody>\n",
       "</table>\n",
       "<p>5 rows × 22 columns</p>\n",
       "</div>"
      ],
      "text/plain": [
       "   irbesartan  olmesartan  dapagliflozin  atenolol  lovastatin  canagliflozin  \\\n",
       "0           0           0              0         0           0              0   \n",
       "1           0           0              0         0           0              0   \n",
       "2           0           0              0         0           0              0   \n",
       "3           0           0              0         0           0              0   \n",
       "4           0           0              0         0           0              0   \n",
       "\n",
       "   labetalol  valsartan  bisoprolol  metformin  ...  simvastatin  losartan  \\\n",
       "0          0          0           0          1  ...            0         1   \n",
       "1          0          0           0          0  ...            0         0   \n",
       "2          0          0           0          0  ...            0         0   \n",
       "3          0          0           0          0  ...            0         0   \n",
       "4          0          0           0          1  ...            0         1   \n",
       "\n",
       "   propranolol  pitavastatin  nebivolol  carvedilol  metoprolol  telmisartan  \\\n",
       "0            0             0          0           0           0            0   \n",
       "1            0             0          0           0           0            0   \n",
       "2            0             0          0           0           0            0   \n",
       "3            0             0          0           0           0            0   \n",
       "4            0             0          0           0           0            0   \n",
       "\n",
       "   rosuvastatin  id  \n",
       "0             0   0  \n",
       "1             0   1  \n",
       "2             1   2  \n",
       "3             0   3  \n",
       "4             0   4  \n",
       "\n",
       "[5 rows x 22 columns]"
      ]
     },
     "execution_count": 20,
     "metadata": {},
     "output_type": "execute_result"
    }
   ],
   "source": [
    "# One Hot Encoding all the drugs into a DataFrame\n",
    "lf.get_meds()\n",
    "lf.meds_df.head()"
   ]
  },
  {
   "cell_type": "markdown",
   "metadata": {},
   "source": [
    "### Merging all the DataFrames into one "
   ]
  },
  {
   "cell_type": "code",
   "execution_count": 21,
   "metadata": {
    "ExecuteTime": {
     "end_time": "2021-03-05T13:20:04.043140Z",
     "start_time": "2021-03-05T13:20:04.023624Z"
    }
   },
   "outputs": [],
   "source": [
    "# Merging demographics and measured values dataframe\n",
    "lf.ckd_df = pd.merge(lf.alldata['demo'], lf.vals_df, on=['id'])"
   ]
  },
  {
   "cell_type": "code",
   "execution_count": 22,
   "metadata": {
    "ExecuteTime": {
     "end_time": "2021-03-05T13:20:04.063612Z",
     "start_time": "2021-03-05T13:20:04.043140Z"
    }
   },
   "outputs": [],
   "source": [
    "# Adding medications dataframe into the merged dataframe \n",
    "lf.ckd_df = pd.merge(lf.ckd_df, lf.meds_df, on=['id'])"
   ]
  },
  {
   "cell_type": "code",
   "execution_count": 23,
   "metadata": {
    "ExecuteTime": {
     "end_time": "2021-03-05T13:20:04.083456Z",
     "start_time": "2021-03-05T13:20:04.063612Z"
    }
   },
   "outputs": [],
   "source": [
    "# Adding the target variable into the merged dataframe\n",
    "lf.ckd_df = pd.merge(lf.ckd_df, lf.alldata['stage'], on=['id'])"
   ]
  },
  {
   "cell_type": "markdown",
   "metadata": {},
   "source": [
    "To get the CKD stage, the MDRD equation to calculate the eGFR was adopted. <br>\n",
    "GFR=175×(Scr)^-1.154×(Age)^-0.203×(0.742 if female)×(1.212 if African American) <br>\n",
    "Source: https://github.com/chapmanbe/shilpy_6018_2017_term_project"
   ]
  },
  {
   "cell_type": "code",
   "execution_count": 24,
   "metadata": {
    "ExecuteTime": {
     "end_time": "2021-03-05T13:20:04.103353Z",
     "start_time": "2021-03-05T13:20:04.083456Z"
    }
   },
   "outputs": [],
   "source": [
    "# Calculating the CKD stage \n",
    "lf.ckd_df['stage'] = lf.ckd_df.apply (lambda row: util.calc_gfr(row['cre'], \n",
    "                                                                row['age'], \n",
    "                                                                row['gender'], \n",
    "                                                                row['race']), \n",
    "                                      axis=1)"
   ]
  },
  {
   "cell_type": "code",
   "execution_count": 25,
   "metadata": {
    "ExecuteTime": {
     "end_time": "2021-03-05T13:20:04.123417Z",
     "start_time": "2021-03-05T13:20:04.103353Z"
    }
   },
   "outputs": [],
   "source": [
    "# replace False to 0 and True to 1\n",
    "lf.ckd_df['Stage_Progress'].replace({False:0, True:1}, inplace=True)\n",
    "# replace Female to 0 and Male to 1\n",
    "lf.ckd_df['gender'].replace({'Female':0, 'Male':1}, inplace=True)"
   ]
  },
  {
   "cell_type": "markdown",
   "metadata": {},
   "source": [
    "---\n",
    "Dataframe after all the processing and merging"
   ]
  },
  {
   "cell_type": "code",
   "execution_count": 26,
   "metadata": {
    "ExecuteTime": {
     "end_time": "2021-03-05T13:20:04.143354Z",
     "start_time": "2021-03-05T13:20:04.123417Z"
    },
    "scrolled": true
   },
   "outputs": [
    {
     "data": {
      "text/html": [
       "<div>\n",
       "<style scoped>\n",
       "    .dataframe tbody tr th:only-of-type {\n",
       "        vertical-align: middle;\n",
       "    }\n",
       "\n",
       "    .dataframe tbody tr th {\n",
       "        vertical-align: top;\n",
       "    }\n",
       "\n",
       "    .dataframe thead th {\n",
       "        text-align: right;\n",
       "    }\n",
       "</style>\n",
       "<table border=\"1\" class=\"dataframe\">\n",
       "  <thead>\n",
       "    <tr style=\"text-align: right;\">\n",
       "      <th></th>\n",
       "      <th>id</th>\n",
       "      <th>race</th>\n",
       "      <th>gender</th>\n",
       "      <th>age</th>\n",
       "      <th>cre</th>\n",
       "      <th>cre_trend</th>\n",
       "      <th>dbp</th>\n",
       "      <th>dbp_trend</th>\n",
       "      <th>glu</th>\n",
       "      <th>glu_trend</th>\n",
       "      <th>...</th>\n",
       "      <th>losartan</th>\n",
       "      <th>propranolol</th>\n",
       "      <th>pitavastatin</th>\n",
       "      <th>nebivolol</th>\n",
       "      <th>carvedilol</th>\n",
       "      <th>metoprolol</th>\n",
       "      <th>telmisartan</th>\n",
       "      <th>rosuvastatin</th>\n",
       "      <th>Stage_Progress</th>\n",
       "      <th>stage</th>\n",
       "    </tr>\n",
       "  </thead>\n",
       "  <tbody>\n",
       "    <tr>\n",
       "      <th>0</th>\n",
       "      <td>0</td>\n",
       "      <td>Unknown</td>\n",
       "      <td>1</td>\n",
       "      <td>70</td>\n",
       "      <td>1.23</td>\n",
       "      <td>0.0</td>\n",
       "      <td>84.29</td>\n",
       "      <td>0.0</td>\n",
       "      <td>5.78</td>\n",
       "      <td>0.0</td>\n",
       "      <td>...</td>\n",
       "      <td>1</td>\n",
       "      <td>0</td>\n",
       "      <td>0</td>\n",
       "      <td>0</td>\n",
       "      <td>0</td>\n",
       "      <td>0</td>\n",
       "      <td>0</td>\n",
       "      <td>0</td>\n",
       "      <td>1</td>\n",
       "      <td>3</td>\n",
       "    </tr>\n",
       "    <tr>\n",
       "      <th>1</th>\n",
       "      <td>1</td>\n",
       "      <td>White</td>\n",
       "      <td>0</td>\n",
       "      <td>71</td>\n",
       "      <td>2.20</td>\n",
       "      <td>1.0</td>\n",
       "      <td>90.99</td>\n",
       "      <td>1.0</td>\n",
       "      <td>9.78</td>\n",
       "      <td>1.0</td>\n",
       "      <td>...</td>\n",
       "      <td>0</td>\n",
       "      <td>0</td>\n",
       "      <td>0</td>\n",
       "      <td>0</td>\n",
       "      <td>0</td>\n",
       "      <td>0</td>\n",
       "      <td>0</td>\n",
       "      <td>0</td>\n",
       "      <td>0</td>\n",
       "      <td>4</td>\n",
       "    </tr>\n",
       "    <tr>\n",
       "      <th>2</th>\n",
       "      <td>2</td>\n",
       "      <td>White</td>\n",
       "      <td>0</td>\n",
       "      <td>57</td>\n",
       "      <td>2.20</td>\n",
       "      <td>0.0</td>\n",
       "      <td>91.52</td>\n",
       "      <td>1.0</td>\n",
       "      <td>7.04</td>\n",
       "      <td>1.0</td>\n",
       "      <td>...</td>\n",
       "      <td>0</td>\n",
       "      <td>0</td>\n",
       "      <td>0</td>\n",
       "      <td>0</td>\n",
       "      <td>0</td>\n",
       "      <td>0</td>\n",
       "      <td>0</td>\n",
       "      <td>1</td>\n",
       "      <td>1</td>\n",
       "      <td>4</td>\n",
       "    </tr>\n",
       "    <tr>\n",
       "      <th>3</th>\n",
       "      <td>3</td>\n",
       "      <td>White</td>\n",
       "      <td>1</td>\n",
       "      <td>74</td>\n",
       "      <td>0.90</td>\n",
       "      <td>0.0</td>\n",
       "      <td>67.45</td>\n",
       "      <td>0.0</td>\n",
       "      <td>5.77</td>\n",
       "      <td>0.0</td>\n",
       "      <td>...</td>\n",
       "      <td>0</td>\n",
       "      <td>0</td>\n",
       "      <td>0</td>\n",
       "      <td>0</td>\n",
       "      <td>0</td>\n",
       "      <td>0</td>\n",
       "      <td>0</td>\n",
       "      <td>0</td>\n",
       "      <td>0</td>\n",
       "      <td>2</td>\n",
       "    </tr>\n",
       "    <tr>\n",
       "      <th>4</th>\n",
       "      <td>4</td>\n",
       "      <td>White</td>\n",
       "      <td>0</td>\n",
       "      <td>50</td>\n",
       "      <td>0.93</td>\n",
       "      <td>0.0</td>\n",
       "      <td>104.57</td>\n",
       "      <td>1.0</td>\n",
       "      <td>11.00</td>\n",
       "      <td>1.0</td>\n",
       "      <td>...</td>\n",
       "      <td>1</td>\n",
       "      <td>0</td>\n",
       "      <td>0</td>\n",
       "      <td>0</td>\n",
       "      <td>0</td>\n",
       "      <td>0</td>\n",
       "      <td>0</td>\n",
       "      <td>0</td>\n",
       "      <td>1</td>\n",
       "      <td>2</td>\n",
       "    </tr>\n",
       "  </tbody>\n",
       "</table>\n",
       "<p>5 rows × 39 columns</p>\n",
       "</div>"
      ],
      "text/plain": [
       "   id     race  gender  age   cre  cre_trend     dbp  dbp_trend    glu  \\\n",
       "0   0  Unknown       1   70  1.23        0.0   84.29        0.0   5.78   \n",
       "1   1    White       0   71  2.20        1.0   90.99        1.0   9.78   \n",
       "2   2    White       0   57  2.20        0.0   91.52        1.0   7.04   \n",
       "3   3    White       1   74  0.90        0.0   67.45        0.0   5.77   \n",
       "4   4    White       0   50  0.93        0.0  104.57        1.0  11.00   \n",
       "\n",
       "   glu_trend  ...  losartan  propranolol  pitavastatin  nebivolol  carvedilol  \\\n",
       "0        0.0  ...         1            0             0          0           0   \n",
       "1        1.0  ...         0            0             0          0           0   \n",
       "2        1.0  ...         0            0             0          0           0   \n",
       "3        0.0  ...         0            0             0          0           0   \n",
       "4        1.0  ...         1            0             0          0           0   \n",
       "\n",
       "   metoprolol  telmisartan  rosuvastatin  Stage_Progress  stage  \n",
       "0           0            0             0               1      3  \n",
       "1           0            0             0               0      4  \n",
       "2           0            0             1               1      4  \n",
       "3           0            0             0               0      2  \n",
       "4           0            0             0               1      2  \n",
       "\n",
       "[5 rows x 39 columns]"
      ]
     },
     "execution_count": 26,
     "metadata": {},
     "output_type": "execute_result"
    }
   ],
   "source": [
    "lf.ckd_df.head()"
   ]
  },
  {
   "cell_type": "markdown",
   "metadata": {},
   "source": [
    "### Data Dictionary for merged dataframe, ckd_df\n",
    "\n",
    "|Column Name|Data type| Description|\n",
    "|:--|:--|:--|\n",
    "|id|int64|Patient Id|\n",
    "|race|object|Approximate address of the location of trap. This is used to send to the GeoCoder|\n",
    "|gender| object|Gender of the patient|   \n",
    "|age|int64|Age of the patient|     \n",
    "|cre|float64|Most recent creatinine value|\n",
    "|cre_trend|int64|Trend of creatinine values|\n",
    "|dbp|float64|Most recent DBP value|       \n",
    "|dbp_trend|int64|Trend of DBP values|       \n",
    "|glu|float64|Most recent glucose value|       \n",
    "|glu_trend|int64 |Trend of glucose values|        \n",
    "|hgb|float64|Most recent HGB value|\n",
    "|hgb_trend|int64|Trend of HGB values|\n",
    "|ldl|float64|Most recent ldl value|\n",
    "|ldl_trend|int64|Trend of ldl values|\n",
    "|sbp|float64|Most recent SBP value|\n",
    "|sbp_trend|int64|Trend of SBP values|\n",
    "|labetalol|int64|One hot encoded column for medication|\n",
    "|atorvastatin|int64|One hot encoded column for medication|\n",
    "|rosuvastatin|int64|One hot encoded column for medication|\n",
    "|metformin|int64|One hot encoded column for medication|\n",
    "|atenolol|int64|One hot encoded column for medication|\n",
    "|losartan|int64|One hot encoded column for medication|\n",
    "|telmisartan|int64|One hot encoded column for medication|\n",
    "|nebivolol|int64|One hot encoded column for medication|\n",
    "|pravastatin|int64|One hot encoded column for medication|\n",
    "|olmesartan|int64|One hot encoded column for medication|\n",
    "|valsartan|int64|One hot encoded column for medication|\n",
    "|pitavastatin|int64|One hot encoded column for medication|\n",
    "|simvastatin|int64|One hot encoded column for medication|\n",
    "|canagliflozin|int64|One hot encoded column for medication|\n",
    "|bisoprolol|int64|One hot encoded column for medication|\n",
    "|dapagliflozin|int64|One hot encoded column for medication|\n",
    "|carvedilol|int64|One hot encoded column for medication|\n",
    "|irbesartan|int64|One hot encoded column for medication|\n",
    "|lovastatin|int64|One hot encoded column for medication|\n",
    "|propranolol|int64|One hot encoded column for medication|\n",
    "|metoprolol|int64|One hot encoded column for medication|\n",
    "\n"
   ]
  },
  {
   "cell_type": "markdown",
   "metadata": {},
   "source": [
    "---\n",
    "## EDA"
   ]
  },
  {
   "cell_type": "code",
   "execution_count": 27,
   "metadata": {
    "ExecuteTime": {
     "end_time": "2021-03-05T13:20:04.263439Z",
     "start_time": "2021-03-05T13:20:04.143354Z"
    }
   },
   "outputs": [
    {
     "data": {
      "image/png": "[encoded data removed]",
      "text/plain": [
       "<Figure size 432x288 with 1 Axes>"
      ]
     },
     "metadata": {
      "needs_background": "light"
     },
     "output_type": "display_data"
    }
   ],
   "source": [
    "# Looking at the distribution of race\n",
    "demo_df = lf.alldata['demo']\n",
    "(demo_df['race']\n",
    " .value_counts(normalize=True)\n",
    " .reset_index()\n",
    " .rename(columns={'index':'race', 'race':'percent'})\n",
    " .pipe((sns.barplot, \"data\"), x='race', y='percent')\n",
    ");"
   ]
  },
  {
   "cell_type": "code",
   "execution_count": 28,
   "metadata": {
    "ExecuteTime": {
     "end_time": "2021-03-05T13:20:04.393586Z",
     "start_time": "2021-03-05T13:20:04.263439Z"
    },
    "scrolled": true
   },
   "outputs": [
    {
     "data": {
      "image/png": "[encoded data removed]",
      "text/plain": [
       "<Figure size 432x288 with 1 Axes>"
      ]
     },
     "metadata": {
      "needs_background": "light"
     },
     "output_type": "display_data"
    }
   ],
   "source": [
    "# Looking at the distribution of race and gender\n",
    "x, y, hue = 'race', 'percentage', 'gender'\n",
    "hue_order = [\"Male\", \"Female\"]\n",
    "\n",
    "(demo_df[x]\n",
    " .groupby(demo_df[hue])\n",
    " .value_counts(normalize=True)\n",
    " .rename(y)\n",
    " .reset_index()\n",
    " .pipe((sns.barplot, \"data\"), x=x, y=y, hue=hue)\n",
    ");"
   ]
  },
  {
   "cell_type": "code",
   "execution_count": 29,
   "metadata": {
    "ExecuteTime": {
     "end_time": "2021-03-05T13:20:04.611080Z",
     "start_time": "2021-03-05T13:20:04.393586Z"
    },
    "scrolled": false
   },
   "outputs": [
    {
     "data": {
      "image/png": "[encoded data removed]",
      "text/plain": [
       "<Figure size 1080x720 with 2 Axes>"
      ]
     },
     "metadata": {
      "needs_background": "light"
     },
     "output_type": "display_data"
    }
   ],
   "source": [
    "# Looking at Stage progress of gender by race\n",
    "tmp_df = lf.ckd_df\n",
    "fig, ax = plt.subplots(nrows=1,ncols=2,figsize=(15,10),sharey=True,sharex=True); \n",
    "ax = ax.ravel()\n",
    "\n",
    "for i, gen in enumerate(list(tmp_df['gender'].unique())):\n",
    "    \n",
    "    gender = {1:'Males', 0:'Females'}\n",
    "    p_data = tmp_df[tmp_df['gender'] == gen]\n",
    "    x = p_data['race']\n",
    "    y = p_data['gender']\n",
    "    c = p_data['Stage_Progress']\n",
    "    title = f'Stage Progress of {gender[gen]} by Race'\n",
    "    x_lbl = ('Race')\n",
    "    y_lbl = ('Count')\n",
    "\n",
    "    sns.barplot(x=x, y=y,hue=c, ax=ax[i], estimator=len, ci=None);\n",
    "    ax[i].set_title(title,fontsize=20);\n",
    "    ax[i].set_xlabel(x_lbl);\n",
    "    ax[i].set_ylabel(y_lbl);"
   ]
  },
  {
   "cell_type": "code",
   "execution_count": 30,
   "metadata": {
    "ExecuteTime": {
     "end_time": "2021-03-05T13:20:04.693186Z",
     "start_time": "2021-03-05T13:20:04.612093Z"
    }
   },
   "outputs": [
    {
     "data": {
      "image/png": "[encoded data removed]",
      "text/plain": [
       "<Figure size 432x288 with 1 Axes>"
      ]
     },
     "metadata": {
      "needs_background": "light"
     },
     "output_type": "display_data"
    }
   ],
   "source": [
    "# Looking at the distribution of CKD Stage\n",
    "stg_df = lf.ckd_df\n",
    "(stg_df['stage']\n",
    " .value_counts(normalize=True)\n",
    " .reset_index()\n",
    " .rename(columns={'index':'CKD stage', 'stage':'percent'})\n",
    " .pipe((sns.barplot, \"data\"), x='CKD stage', y='percent')\n",
    ");"
   ]
  },
  {
   "cell_type": "code",
   "execution_count": 31,
   "metadata": {
    "ExecuteTime": {
     "end_time": "2021-03-05T13:20:04.910998Z",
     "start_time": "2021-03-05T13:20:04.693186Z"
    }
   },
   "outputs": [
    {
     "data": {
      "image/png": "[encoded data removed]",
      "text/plain": [
       "<Figure size 1080x720 with 2 Axes>"
      ]
     },
     "metadata": {
      "needs_background": "light"
     },
     "output_type": "display_data"
    }
   ],
   "source": [
    "# Looking at Stage progress of gender by stage\n",
    "tmp_df = lf.ckd_df\n",
    "fig, ax = plt.subplots(nrows=1,ncols=2,figsize=(15,10),sharey=True,sharex=True); \n",
    "ax = ax.ravel()\n",
    "\n",
    "for i, gen in enumerate(list(tmp_df['gender'].unique())):\n",
    "    \n",
    "    gender = {1:'Males', 0:'Females'}\n",
    "    p_data = tmp_df[tmp_df['gender'] == gen]\n",
    "    x = p_data['stage']\n",
    "    y = p_data['gender']\n",
    "    c = p_data['Stage_Progress']\n",
    "    title = f'Stage Progress of {gender[gen]} by Stage'\n",
    "    x_lbl = ('Stage')\n",
    "    y_lbl = ('Count')\n",
    "\n",
    "    sns.barplot(x=x, y=y,hue=c, ax=ax[i], estimator=len, ci=None);\n",
    "    ax[i].set_title(title,fontsize=20);\n",
    "    ax[i].set_xlabel(x_lbl);\n",
    "    ax[i].set_ylabel(y_lbl);"
   ]
  },
  {
   "cell_type": "code",
   "execution_count": null,
   "metadata": {},
   "outputs": [],
   "source": []
  },
  {
   "cell_type": "markdown",
   "metadata": {
    "ExecuteTime": {
     "end_time": "2021-03-02T01:05:54.612714Z",
     "start_time": "2021-03-02T01:05:54.592765Z"
    }
   },
   "source": [
    "## Train Test Split"
   ]
  },
  {
   "cell_type": "markdown",
   "metadata": {
    "ExecuteTime": {
     "end_time": "2021-03-05T06:14:37.915935Z",
     "start_time": "2021-03-05T06:14:35.613Z"
    }
   },
   "source": [
    "In this section, the data will be split into 3, train, validation and test data."
   ]
  },
  {
   "cell_type": "code",
   "execution_count": 32,
   "metadata": {
    "ExecuteTime": {
     "end_time": "2021-03-05T13:20:04.933506Z",
     "start_time": "2021-03-05T13:20:04.912007Z"
    }
   },
   "outputs": [],
   "source": [
    "# Defining the features\n",
    "y_label = 'Stage_Progress'\n",
    "x_labels = list(lf.ckd_df.columns)\n",
    "x_labels.remove(y_label)"
   ]
  },
  {
   "cell_type": "code",
   "execution_count": 33,
   "metadata": {
    "ExecuteTime": {
     "end_time": "2021-03-05T13:20:04.953488Z",
     "start_time": "2021-03-05T13:20:04.933506Z"
    }
   },
   "outputs": [],
   "source": [
    "X = lf.ckd_df[x_labels]\n",
    "y = lf.ckd_df[y_label]"
   ]
  },
  {
   "cell_type": "code",
   "execution_count": 34,
   "metadata": {
    "ExecuteTime": {
     "end_time": "2021-03-05T13:20:04.973031Z",
     "start_time": "2021-03-05T13:20:04.953488Z"
    }
   },
   "outputs": [],
   "source": [
    "# Spliting original df into Train and Temp, Temp will be further split into Test and Val\n",
    "X_train, X_temp, y_train, y_temp = train_test_split(X, y, test_size=0.2, random_state=21, stratify=y)"
   ]
  },
  {
   "cell_type": "code",
   "execution_count": 35,
   "metadata": {
    "ExecuteTime": {
     "end_time": "2021-03-05T13:20:04.993508Z",
     "start_time": "2021-03-05T13:20:04.973031Z"
    }
   },
   "outputs": [],
   "source": [
    "# Spliting Temp into Test and Validation\n",
    "X_val, X_test, y_val, y_test = train_test_split(X_temp, y_temp, test_size=0.5, random_state=21, stratify=y_temp)"
   ]
  },
  {
   "cell_type": "code",
   "execution_count": 36,
   "metadata": {
    "ExecuteTime": {
     "end_time": "2021-03-05T13:20:05.010938Z",
     "start_time": "2021-03-05T13:20:04.993508Z"
    },
    "scrolled": true
   },
   "outputs": [
    {
     "name": "stdout",
     "output_type": "stream",
     "text": [
      "Shape of ckd_df: (300, 39)\n",
      "Shape of X_train: (240, 38)\n",
      "Shape of X_test: (30, 38)\n",
      "Shape of X_val: (30, 38)\n"
     ]
    }
   ],
   "source": [
    "# Checking on the shape of dataframes after train test split \n",
    "print(f'Shape of ckd_df: {lf.ckd_df.shape}')\n",
    "print(f'Shape of X_train: {X_train.shape}')\n",
    "print(f'Shape of X_test: {X_test.shape}')\n",
    "print(f'Shape of X_val: {X_val.shape}')"
   ]
  },
  {
   "cell_type": "code",
   "execution_count": 37,
   "metadata": {
    "ExecuteTime": {
     "end_time": "2021-03-05T13:20:05.033532Z",
     "start_time": "2021-03-05T13:20:05.010938Z"
    }
   },
   "outputs": [
    {
     "name": "stdout",
     "output_type": "stream",
     "text": [
      "class distribution ckd_df: \n",
      "0    0.6667\n",
      "1    0.3333\n",
      "\n",
      "class distribution y_train: \n",
      "0    0.6667\n",
      "1    0.3333\n",
      "\n",
      "class distribution y_test: \n",
      "0    0.6667\n",
      "1    0.3333\n",
      "\n",
      "class distribution y_val: \n",
      "0    0.6667\n",
      "1    0.3333\n"
     ]
    }
   ],
   "source": [
    "# Checking on the class distribution after train test split\n",
    "print(f'class distribution ckd_df: \\n{lf.ckd_df[y_label].value_counts(normalize=True).to_string()}\\n')\n",
    "print(f'class distribution y_train: \\n{y_train.value_counts(normalize=True).to_string()}\\n')\n",
    "print(f'class distribution y_test: \\n{y_test.value_counts(normalize=True).to_string()}\\n')\n",
    "print(f'class distribution y_val: \\n{y_val.value_counts(normalize=True).to_string()}')"
   ]
  },
  {
   "cell_type": "code",
   "execution_count": 38,
   "metadata": {
    "ExecuteTime": {
     "end_time": "2021-03-05T13:20:05.053517Z",
     "start_time": "2021-03-05T13:20:05.033532Z"
    }
   },
   "outputs": [],
   "source": [
    "# Keeping copy of the train, validation and test dataframe in the class for analysis later\n",
    "lf.ckd_train = lf.ckd_df[lf.ckd_df['id'].isin(X_train['id'])]\n",
    "lf.ckd_test = lf.ckd_df[lf.ckd_df['id'].isin(X_test['id'])]\n",
    "lf.ckd_valid = lf.ckd_df[lf.ckd_df['id'].isin(X_val['id'])]"
   ]
  },
  {
   "cell_type": "code",
   "execution_count": 39,
   "metadata": {
    "ExecuteTime": {
     "end_time": "2021-03-05T13:20:05.440953Z",
     "start_time": "2021-03-05T13:20:05.053517Z"
    }
   },
   "outputs": [
    {
     "data": {
      "image/png": "[encoded data removed]",
      "text/plain": [
       "<Figure size 432x1080 with 2 Axes>"
      ]
     },
     "metadata": {
      "needs_background": "light"
     },
     "output_type": "display_data"
    }
   ],
   "source": [
    "# Heatmap for features correlation \n",
    "plt.figure(figsize=(6, 15))\n",
    "sns.heatmap(lf.ckd_train.corr()[[y_label]].sort_values(by=y_label, ascending=False), annot=True);"
   ]
  },
  {
   "cell_type": "code",
   "execution_count": null,
   "metadata": {
    "ExecuteTime": {
     "end_time": "2021-03-05T08:12:28.800934Z",
     "start_time": "2021-03-05T08:12:28.700946Z"
    }
   },
   "outputs": [],
   "source": []
  },
  {
   "cell_type": "markdown",
   "metadata": {},
   "source": [
    "## Modeling"
   ]
  },
  {
   "cell_type": "code",
   "execution_count": 40,
   "metadata": {
    "ExecuteTime": {
     "end_time": "2021-03-05T13:20:05.463492Z",
     "start_time": "2021-03-05T13:20:05.440953Z"
    }
   },
   "outputs": [],
   "source": [
    "# Selection of features to be used\n",
    "x_labels = ['stage', 'cre', 'dbp', 'glu', 'hgb', 'ldl', 'sbp',\n",
    " 'cre_trend', 'dbp_trend', 'glu_trend', 'hgb_trend', 'ldl_trend', 'sbp_trend',\n",
    " 'labetalol', 'atorvastatin', 'rosuvastatin', 'metformin', 'atenolol', 'losartan', 'telmisartan',\n",
    " 'nebivolol', 'pravastatin', 'olmesartan', 'valsartan', 'pitavastatin', 'simvastatin', 'canagliflozin',\n",
    " 'bisoprolol', 'dapagliflozin', 'carvedilol', 'irbesartan', 'lovastatin', 'propranolol', 'metoprolol']"
   ]
  },
  {
   "cell_type": "code",
   "execution_count": 41,
   "metadata": {
    "ExecuteTime": {
     "end_time": "2021-03-05T13:20:05.483487Z",
     "start_time": "2021-03-05T13:20:05.463492Z"
    }
   },
   "outputs": [],
   "source": [
    "# Updating the dataframe with the selected features\n",
    "X_train = X_train[x_labels]\n",
    "X_test = X_test[x_labels]\n",
    "X_val = X_val[x_labels]"
   ]
  },
  {
   "cell_type": "code",
   "execution_count": 42,
   "metadata": {
    "ExecuteTime": {
     "end_time": "2021-03-05T13:20:05.503560Z",
     "start_time": "2021-03-05T13:20:05.483487Z"
    }
   },
   "outputs": [],
   "source": [
    "# define constants for modelling\n",
    "RS = 21 # random state\n",
    "CV = 5 # cross val\n",
    "SCORE = 'recall' # scoring "
   ]
  },
  {
   "cell_type": "code",
   "execution_count": 43,
   "metadata": {
    "ExecuteTime": {
     "end_time": "2021-03-05T13:20:05.523283Z",
     "start_time": "2021-03-05T13:20:05.503560Z"
    }
   },
   "outputs": [],
   "source": [
    "# dictionary to hold the metrics for each runs\n",
    "metrics = {}\n",
    "# dictionary to hold the models for each runs\n",
    "models = {}\n",
    "# Dataframe to hold the predictions for validataion set\n",
    "val_preds_df = X_val.copy()"
   ]
  },
  {
   "cell_type": "code",
   "execution_count": 44,
   "metadata": {
    "ExecuteTime": {
     "end_time": "2021-03-05T13:20:05.541237Z",
     "start_time": "2021-03-05T13:20:05.523283Z"
    }
   },
   "outputs": [],
   "source": [
    "# Smote training data to be used \n",
    "sm = SMOTE(random_state=RS)\n",
    "Xs_train, ys_train = sm.fit_sample(X_train, y_train)"
   ]
  },
  {
   "cell_type": "markdown",
   "metadata": {},
   "source": [
    "### LogReg"
   ]
  },
  {
   "cell_type": "code",
   "execution_count": 45,
   "metadata": {
    "ExecuteTime": {
     "end_time": "2021-03-05T13:20:05.563506Z",
     "start_time": "2021-03-05T13:20:05.541237Z"
    }
   },
   "outputs": [],
   "source": [
    "# Creating a pipeline model for StandardScaler, SMOTE and Logistic Regression\n",
    "lr_pipe = Pipeline([\n",
    "        ('ss', StandardScaler()),\n",
    "        ('lr', LogisticRegression(random_state=RS, max_iter=5000))\n",
    "    ])\n",
    "# Paramters\n",
    "lr_params = {'lr__C': np.linspace(0.1, 1, 20)}"
   ]
  },
  {
   "cell_type": "code",
   "execution_count": 46,
   "metadata": {
    "ExecuteTime": {
     "end_time": "2021-03-05T13:20:06.813330Z",
     "start_time": "2021-03-05T13:20:05.563506Z"
    },
    "scrolled": false
   },
   "outputs": [
    {
     "name": "stdout",
     "output_type": "stream",
     "text": [
      "log_reg->Best params: {'lr__C': 0.1}\n"
     ]
    },
    {
     "data": {
      "text/html": [
       "<div>\n",
       "<style scoped>\n",
       "    .dataframe tbody tr th:only-of-type {\n",
       "        vertical-align: middle;\n",
       "    }\n",
       "\n",
       "    .dataframe tbody tr th {\n",
       "        vertical-align: top;\n",
       "    }\n",
       "\n",
       "    .dataframe thead th {\n",
       "        text-align: right;\n",
       "    }\n",
       "</style>\n",
       "<table border=\"1\" class=\"dataframe\">\n",
       "  <thead>\n",
       "    <tr style=\"text-align: right;\">\n",
       "      <th></th>\n",
       "      <th>log_reg</th>\n",
       "    </tr>\n",
       "  </thead>\n",
       "  <tbody>\n",
       "    <tr>\n",
       "      <th>01 Train score</th>\n",
       "      <td>0.8458</td>\n",
       "    </tr>\n",
       "    <tr>\n",
       "      <th>02 Test score</th>\n",
       "      <td>0.7333</td>\n",
       "    </tr>\n",
       "    <tr>\n",
       "      <th>03 Score diff</th>\n",
       "      <td>0.1125</td>\n",
       "    </tr>\n",
       "    <tr>\n",
       "      <th>04 Train recall</th>\n",
       "      <td>0.6625</td>\n",
       "    </tr>\n",
       "    <tr>\n",
       "      <th>05 Test recall</th>\n",
       "      <td>0.4000</td>\n",
       "    </tr>\n",
       "    <tr>\n",
       "      <th>06 Precision</th>\n",
       "      <td>0.6667</td>\n",
       "    </tr>\n",
       "    <tr>\n",
       "      <th>07 Specificity</th>\n",
       "      <td>0.9000</td>\n",
       "    </tr>\n",
       "    <tr>\n",
       "      <th>08 Sensitivity</th>\n",
       "      <td>0.4000</td>\n",
       "    </tr>\n",
       "    <tr>\n",
       "      <th>09 True Negatives</th>\n",
       "      <td>18</td>\n",
       "    </tr>\n",
       "    <tr>\n",
       "      <th>10 False Positives</th>\n",
       "      <td>2</td>\n",
       "    </tr>\n",
       "    <tr>\n",
       "      <th>11 False Negatives</th>\n",
       "      <td>6</td>\n",
       "    </tr>\n",
       "    <tr>\n",
       "      <th>12 True Positives</th>\n",
       "      <td>4</td>\n",
       "    </tr>\n",
       "    <tr>\n",
       "      <th>13 Train ROC Score</th>\n",
       "      <td>0.8784</td>\n",
       "    </tr>\n",
       "    <tr>\n",
       "      <th>14 Test ROC Score</th>\n",
       "      <td>0.8000</td>\n",
       "    </tr>\n",
       "    <tr>\n",
       "      <th>15 Train CV Score</th>\n",
       "      <td>0.7750</td>\n",
       "    </tr>\n",
       "    <tr>\n",
       "      <th>16 Test CV Score</th>\n",
       "      <td>0.6667</td>\n",
       "    </tr>\n",
       "  </tbody>\n",
       "</table>\n",
       "</div>"
      ],
      "text/plain": [
       "                   log_reg\n",
       "01 Train score      0.8458\n",
       "02 Test score       0.7333\n",
       "03 Score diff       0.1125\n",
       "04 Train recall     0.6625\n",
       "05 Test recall      0.4000\n",
       "06 Precision        0.6667\n",
       "07 Specificity      0.9000\n",
       "08 Sensitivity      0.4000\n",
       "09 True Negatives       18\n",
       "10 False Positives       2\n",
       "11 False Negatives       6\n",
       "12 True Positives        4\n",
       "13 Train ROC Score  0.8784\n",
       "14 Test ROC Score   0.8000\n",
       "15 Train CV Score   0.7750\n",
       "16 Test CV Score    0.6667"
      ]
     },
     "execution_count": 46,
     "metadata": {},
     "output_type": "execute_result"
    },
    {
     "data": {
      "image/png": "[encoded data removed]",
      "text/plain": [
       "<Figure size 864x360 with 3 Axes>"
      ]
     },
     "metadata": {
      "needs_background": "light"
     },
     "output_type": "display_data"
    }
   ],
   "source": [
    "metrics['log_reg'] = util.model_metrics('log_reg', lr_pipe, lr_params, X_train, X_val, \n",
    "                                   y_train, y_val, models, val_preds_df, CV=CV, SCORE=SCORE)\n",
    "pd.DataFrame(metrics)"
   ]
  },
  {
   "cell_type": "markdown",
   "metadata": {},
   "source": [
    "### LogReg Smote"
   ]
  },
  {
   "cell_type": "code",
   "execution_count": 47,
   "metadata": {
    "ExecuteTime": {
     "end_time": "2021-03-05T13:20:08.143203Z",
     "start_time": "2021-03-05T13:20:06.813330Z"
    }
   },
   "outputs": [
    {
     "name": "stdout",
     "output_type": "stream",
     "text": [
      "log_reg_smote->Best params: {'lr__C': 0.1473684210526316}\n"
     ]
    },
    {
     "data": {
      "text/html": [
       "<div>\n",
       "<style scoped>\n",
       "    .dataframe tbody tr th:only-of-type {\n",
       "        vertical-align: middle;\n",
       "    }\n",
       "\n",
       "    .dataframe tbody tr th {\n",
       "        vertical-align: top;\n",
       "    }\n",
       "\n",
       "    .dataframe thead th {\n",
       "        text-align: right;\n",
       "    }\n",
       "</style>\n",
       "<table border=\"1\" class=\"dataframe\">\n",
       "  <thead>\n",
       "    <tr style=\"text-align: right;\">\n",
       "      <th></th>\n",
       "      <th>log_reg</th>\n",
       "      <th>log_reg_smote</th>\n",
       "    </tr>\n",
       "  </thead>\n",
       "  <tbody>\n",
       "    <tr>\n",
       "      <th>01 Train score</th>\n",
       "      <td>0.8458</td>\n",
       "      <td>0.8438</td>\n",
       "    </tr>\n",
       "    <tr>\n",
       "      <th>02 Test score</th>\n",
       "      <td>0.7333</td>\n",
       "      <td>0.6667</td>\n",
       "    </tr>\n",
       "    <tr>\n",
       "      <th>03 Score diff</th>\n",
       "      <td>0.1125</td>\n",
       "      <td>0.1771</td>\n",
       "    </tr>\n",
       "    <tr>\n",
       "      <th>04 Train recall</th>\n",
       "      <td>0.6625</td>\n",
       "      <td>0.8313</td>\n",
       "    </tr>\n",
       "    <tr>\n",
       "      <th>05 Test recall</th>\n",
       "      <td>0.4000</td>\n",
       "      <td>0.5000</td>\n",
       "    </tr>\n",
       "    <tr>\n",
       "      <th>06 Precision</th>\n",
       "      <td>0.6667</td>\n",
       "      <td>0.5000</td>\n",
       "    </tr>\n",
       "    <tr>\n",
       "      <th>07 Specificity</th>\n",
       "      <td>0.9000</td>\n",
       "      <td>0.7500</td>\n",
       "    </tr>\n",
       "    <tr>\n",
       "      <th>08 Sensitivity</th>\n",
       "      <td>0.4000</td>\n",
       "      <td>0.5000</td>\n",
       "    </tr>\n",
       "    <tr>\n",
       "      <th>09 True Negatives</th>\n",
       "      <td>18</td>\n",
       "      <td>15</td>\n",
       "    </tr>\n",
       "    <tr>\n",
       "      <th>10 False Positives</th>\n",
       "      <td>2</td>\n",
       "      <td>5</td>\n",
       "    </tr>\n",
       "    <tr>\n",
       "      <th>11 False Negatives</th>\n",
       "      <td>6</td>\n",
       "      <td>5</td>\n",
       "    </tr>\n",
       "    <tr>\n",
       "      <th>12 True Positives</th>\n",
       "      <td>4</td>\n",
       "      <td>5</td>\n",
       "    </tr>\n",
       "    <tr>\n",
       "      <th>13 Train ROC Score</th>\n",
       "      <td>0.8784</td>\n",
       "      <td>0.9183</td>\n",
       "    </tr>\n",
       "    <tr>\n",
       "      <th>14 Test ROC Score</th>\n",
       "      <td>0.8000</td>\n",
       "      <td>0.8050</td>\n",
       "    </tr>\n",
       "    <tr>\n",
       "      <th>15 Train CV Score</th>\n",
       "      <td>0.7750</td>\n",
       "      <td>0.7750</td>\n",
       "    </tr>\n",
       "    <tr>\n",
       "      <th>16 Test CV Score</th>\n",
       "      <td>0.6667</td>\n",
       "      <td>0.7000</td>\n",
       "    </tr>\n",
       "  </tbody>\n",
       "</table>\n",
       "</div>"
      ],
      "text/plain": [
       "                   log_reg log_reg_smote\n",
       "01 Train score      0.8458        0.8438\n",
       "02 Test score       0.7333        0.6667\n",
       "03 Score diff       0.1125        0.1771\n",
       "04 Train recall     0.6625        0.8313\n",
       "05 Test recall      0.4000        0.5000\n",
       "06 Precision        0.6667        0.5000\n",
       "07 Specificity      0.9000        0.7500\n",
       "08 Sensitivity      0.4000        0.5000\n",
       "09 True Negatives       18            15\n",
       "10 False Positives       2             5\n",
       "11 False Negatives       6             5\n",
       "12 True Positives        4             5\n",
       "13 Train ROC Score  0.8784        0.9183\n",
       "14 Test ROC Score   0.8000        0.8050\n",
       "15 Train CV Score   0.7750        0.7750\n",
       "16 Test CV Score    0.6667        0.7000"
      ]
     },
     "execution_count": 47,
     "metadata": {},
     "output_type": "execute_result"
    },
    {
     "data": {
      "image/png": "[encoded data removed]",
      "text/plain": [
       "<Figure size 864x360 with 3 Axes>"
      ]
     },
     "metadata": {
      "needs_background": "light"
     },
     "output_type": "display_data"
    }
   ],
   "source": [
    "metrics['log_reg_smote'] = util.model_metrics('log_reg_smote', lr_pipe, lr_params, Xs_train, X_val, \n",
    "                                   ys_train, y_val, models, val_preds_df, CV=CV, SCORE=SCORE)\n",
    "pd.DataFrame(metrics)"
   ]
  },
  {
   "cell_type": "markdown",
   "metadata": {},
   "source": [
    "### LogReg Class Weight"
   ]
  },
  {
   "cell_type": "code",
   "execution_count": 48,
   "metadata": {
    "ExecuteTime": {
     "end_time": "2021-03-05T13:20:08.163243Z",
     "start_time": "2021-03-05T13:20:08.143203Z"
    }
   },
   "outputs": [],
   "source": [
    "#cw=compute_class_weight(\"balanced\", np.array(y_train), y_train)"
   ]
  },
  {
   "cell_type": "code",
   "execution_count": 49,
   "metadata": {
    "ExecuteTime": {
     "end_time": "2021-03-05T13:20:08.178434Z",
     "start_time": "2021-03-05T13:20:08.163243Z"
    }
   },
   "outputs": [],
   "source": [
    "# Creating a pipeline model for StandardScaler, SMOTE and Logistic Regression\n",
    "lr_pipe = Pipeline([\n",
    "        ('ss', StandardScaler()),\n",
    "        ('lr', LogisticRegression(random_state=RS, max_iter=5000, class_weight={0:.1, 1:.3}))\n",
    "    ])\n",
    "# Paramters\n",
    "lr_params = {'lr__C': np.linspace(0.1, 1, 20)}"
   ]
  },
  {
   "cell_type": "code",
   "execution_count": 50,
   "metadata": {
    "ExecuteTime": {
     "end_time": "2021-03-05T13:20:09.353168Z",
     "start_time": "2021-03-05T13:20:08.178434Z"
    },
    "scrolled": true
   },
   "outputs": [
    {
     "name": "stdout",
     "output_type": "stream",
     "text": [
      "log_reg_cw->Best params: {'lr__C': 0.1}\n"
     ]
    },
    {
     "data": {
      "text/html": [
       "<div>\n",
       "<style scoped>\n",
       "    .dataframe tbody tr th:only-of-type {\n",
       "        vertical-align: middle;\n",
       "    }\n",
       "\n",
       "    .dataframe tbody tr th {\n",
       "        vertical-align: top;\n",
       "    }\n",
       "\n",
       "    .dataframe thead th {\n",
       "        text-align: right;\n",
       "    }\n",
       "</style>\n",
       "<table border=\"1\" class=\"dataframe\">\n",
       "  <thead>\n",
       "    <tr style=\"text-align: right;\">\n",
       "      <th></th>\n",
       "      <th>log_reg</th>\n",
       "      <th>log_reg_smote</th>\n",
       "      <th>log_reg_cw</th>\n",
       "    </tr>\n",
       "  </thead>\n",
       "  <tbody>\n",
       "    <tr>\n",
       "      <th>01 Train score</th>\n",
       "      <td>0.8458</td>\n",
       "      <td>0.8438</td>\n",
       "      <td>0.7000</td>\n",
       "    </tr>\n",
       "    <tr>\n",
       "      <th>02 Test score</th>\n",
       "      <td>0.7333</td>\n",
       "      <td>0.6667</td>\n",
       "      <td>0.7333</td>\n",
       "    </tr>\n",
       "    <tr>\n",
       "      <th>03 Score diff</th>\n",
       "      <td>0.1125</td>\n",
       "      <td>0.1771</td>\n",
       "      <td>-0.0333</td>\n",
       "    </tr>\n",
       "    <tr>\n",
       "      <th>04 Train recall</th>\n",
       "      <td>0.6625</td>\n",
       "      <td>0.8313</td>\n",
       "      <td>0.8750</td>\n",
       "    </tr>\n",
       "    <tr>\n",
       "      <th>05 Test recall</th>\n",
       "      <td>0.4000</td>\n",
       "      <td>0.5000</td>\n",
       "      <td>0.9000</td>\n",
       "    </tr>\n",
       "    <tr>\n",
       "      <th>06 Precision</th>\n",
       "      <td>0.6667</td>\n",
       "      <td>0.5000</td>\n",
       "      <td>0.5625</td>\n",
       "    </tr>\n",
       "    <tr>\n",
       "      <th>07 Specificity</th>\n",
       "      <td>0.9000</td>\n",
       "      <td>0.7500</td>\n",
       "      <td>0.6500</td>\n",
       "    </tr>\n",
       "    <tr>\n",
       "      <th>08 Sensitivity</th>\n",
       "      <td>0.4000</td>\n",
       "      <td>0.5000</td>\n",
       "      <td>0.9000</td>\n",
       "    </tr>\n",
       "    <tr>\n",
       "      <th>09 True Negatives</th>\n",
       "      <td>18</td>\n",
       "      <td>15</td>\n",
       "      <td>13</td>\n",
       "    </tr>\n",
       "    <tr>\n",
       "      <th>10 False Positives</th>\n",
       "      <td>2</td>\n",
       "      <td>5</td>\n",
       "      <td>7</td>\n",
       "    </tr>\n",
       "    <tr>\n",
       "      <th>11 False Negatives</th>\n",
       "      <td>6</td>\n",
       "      <td>5</td>\n",
       "      <td>1</td>\n",
       "    </tr>\n",
       "    <tr>\n",
       "      <th>12 True Positives</th>\n",
       "      <td>4</td>\n",
       "      <td>5</td>\n",
       "      <td>9</td>\n",
       "    </tr>\n",
       "    <tr>\n",
       "      <th>13 Train ROC Score</th>\n",
       "      <td>0.8784</td>\n",
       "      <td>0.9183</td>\n",
       "      <td>0.8709</td>\n",
       "    </tr>\n",
       "    <tr>\n",
       "      <th>14 Test ROC Score</th>\n",
       "      <td>0.8000</td>\n",
       "      <td>0.8050</td>\n",
       "      <td>0.8050</td>\n",
       "    </tr>\n",
       "    <tr>\n",
       "      <th>15 Train CV Score</th>\n",
       "      <td>0.7750</td>\n",
       "      <td>0.7750</td>\n",
       "      <td>0.6667</td>\n",
       "    </tr>\n",
       "    <tr>\n",
       "      <th>16 Test CV Score</th>\n",
       "      <td>0.6667</td>\n",
       "      <td>0.7000</td>\n",
       "      <td>0.3667</td>\n",
       "    </tr>\n",
       "  </tbody>\n",
       "</table>\n",
       "</div>"
      ],
      "text/plain": [
       "                   log_reg log_reg_smote log_reg_cw\n",
       "01 Train score      0.8458        0.8438     0.7000\n",
       "02 Test score       0.7333        0.6667     0.7333\n",
       "03 Score diff       0.1125        0.1771    -0.0333\n",
       "04 Train recall     0.6625        0.8313     0.8750\n",
       "05 Test recall      0.4000        0.5000     0.9000\n",
       "06 Precision        0.6667        0.5000     0.5625\n",
       "07 Specificity      0.9000        0.7500     0.6500\n",
       "08 Sensitivity      0.4000        0.5000     0.9000\n",
       "09 True Negatives       18            15         13\n",
       "10 False Positives       2             5          7\n",
       "11 False Negatives       6             5          1\n",
       "12 True Positives        4             5          9\n",
       "13 Train ROC Score  0.8784        0.9183     0.8709\n",
       "14 Test ROC Score   0.8000        0.8050     0.8050\n",
       "15 Train CV Score   0.7750        0.7750     0.6667\n",
       "16 Test CV Score    0.6667        0.7000     0.3667"
      ]
     },
     "execution_count": 50,
     "metadata": {},
     "output_type": "execute_result"
    },
    {
     "data": {
      "image/png": "[encoded data removed]",
      "text/plain": [
       "<Figure size 864x360 with 3 Axes>"
      ]
     },
     "metadata": {
      "needs_background": "light"
     },
     "output_type": "display_data"
    }
   ],
   "source": [
    "metrics['log_reg_cw'] = util.model_metrics('log_reg_cw', lr_pipe, lr_params, X_train, X_val, \n",
    "                                   y_train, y_val, models, val_preds_df, CV=CV, SCORE=SCORE)\n",
    "pd.DataFrame(metrics)"
   ]
  },
  {
   "cell_type": "markdown",
   "metadata": {},
   "source": [
    "#### Feature Importance"
   ]
  },
  {
   "cell_type": "code",
   "execution_count": 51,
   "metadata": {
    "ExecuteTime": {
     "end_time": "2021-03-05T13:20:09.373417Z",
     "start_time": "2021-03-05T13:20:09.353168Z"
    },
    "scrolled": true
   },
   "outputs": [
    {
     "data": {
      "text/html": [
       "<div>\n",
       "<style scoped>\n",
       "    .dataframe tbody tr th:only-of-type {\n",
       "        vertical-align: middle;\n",
       "    }\n",
       "\n",
       "    .dataframe tbody tr th {\n",
       "        vertical-align: top;\n",
       "    }\n",
       "\n",
       "    .dataframe thead th {\n",
       "        text-align: right;\n",
       "    }\n",
       "</style>\n",
       "<table border=\"1\" class=\"dataframe\">\n",
       "  <thead>\n",
       "    <tr style=\"text-align: right;\">\n",
       "      <th></th>\n",
       "      <th>11</th>\n",
       "      <th>12</th>\n",
       "      <th>3</th>\n",
       "      <th>5</th>\n",
       "      <th>33</th>\n",
       "      <th>6</th>\n",
       "      <th>19</th>\n",
       "      <th>20</th>\n",
       "      <th>8</th>\n",
       "      <th>9</th>\n",
       "      <th>...</th>\n",
       "      <th>26</th>\n",
       "      <th>25</th>\n",
       "      <th>27</th>\n",
       "      <th>32</th>\n",
       "      <th>28</th>\n",
       "      <th>15</th>\n",
       "      <th>13</th>\n",
       "      <th>0</th>\n",
       "      <th>18</th>\n",
       "      <th>4</th>\n",
       "    </tr>\n",
       "  </thead>\n",
       "  <tbody>\n",
       "    <tr>\n",
       "      <th>features</th>\n",
       "      <td>ldl_trend</td>\n",
       "      <td>sbp_trend</td>\n",
       "      <td>glu</td>\n",
       "      <td>ldl</td>\n",
       "      <td>metoprolol</td>\n",
       "      <td>sbp</td>\n",
       "      <td>telmisartan</td>\n",
       "      <td>nebivolol</td>\n",
       "      <td>dbp_trend</td>\n",
       "      <td>glu_trend</td>\n",
       "      <td>...</td>\n",
       "      <td>canagliflozin</td>\n",
       "      <td>simvastatin</td>\n",
       "      <td>bisoprolol</td>\n",
       "      <td>propranolol</td>\n",
       "      <td>dapagliflozin</td>\n",
       "      <td>rosuvastatin</td>\n",
       "      <td>labetalol</td>\n",
       "      <td>stage</td>\n",
       "      <td>losartan</td>\n",
       "      <td>hgb</td>\n",
       "    </tr>\n",
       "    <tr>\n",
       "      <th>coef</th>\n",
       "      <td>0.4094</td>\n",
       "      <td>0.2155</td>\n",
       "      <td>0.1785</td>\n",
       "      <td>0.1398</td>\n",
       "      <td>0.1342</td>\n",
       "      <td>0.1058</td>\n",
       "      <td>0.09496</td>\n",
       "      <td>0.08425</td>\n",
       "      <td>0.08172</td>\n",
       "      <td>0.08012</td>\n",
       "      <td>...</td>\n",
       "      <td>-0.03273</td>\n",
       "      <td>-0.03912</td>\n",
       "      <td>-0.04429</td>\n",
       "      <td>-0.0492</td>\n",
       "      <td>-0.05344</td>\n",
       "      <td>-0.05584</td>\n",
       "      <td>-0.07011</td>\n",
       "      <td>-0.1004</td>\n",
       "      <td>-0.1004</td>\n",
       "      <td>-0.1385</td>\n",
       "    </tr>\n",
       "  </tbody>\n",
       "</table>\n",
       "<p>2 rows × 34 columns</p>\n",
       "</div>"
      ],
      "text/plain": [
       "                 11         12      3       5           33      6   \\\n",
       "features  ldl_trend  sbp_trend     glu     ldl  metoprolol     sbp   \n",
       "coef         0.4094     0.2155  0.1785  0.1398      0.1342  0.1058   \n",
       "\n",
       "                   19         20         8          9   ...             26  \\\n",
       "features  telmisartan  nebivolol  dbp_trend  glu_trend  ...  canagliflozin   \n",
       "coef          0.09496    0.08425    0.08172    0.08012  ...       -0.03273   \n",
       "\n",
       "                   25          27           32             28            15  \\\n",
       "features  simvastatin  bisoprolol  propranolol  dapagliflozin  rosuvastatin   \n",
       "coef         -0.03912    -0.04429      -0.0492       -0.05344      -0.05584   \n",
       "\n",
       "                 13      0         18      4   \n",
       "features  labetalol   stage  losartan     hgb  \n",
       "coef       -0.07011 -0.1004   -0.1004 -0.1385  \n",
       "\n",
       "[2 rows x 34 columns]"
      ]
     },
     "execution_count": 51,
     "metadata": {},
     "output_type": "execute_result"
    }
   ],
   "source": [
    "# Plotting the Predict Proba\n",
    "lr_model = models['log_reg_cw'].best_estimator_\n",
    "# merging the words and coef from the vectorizer and estimator\n",
    "feats_df = pd.DataFrame({\n",
    "    'features' : X_val.columns,\n",
    "    'coef' : lr_model['lr'].coef_[0]\n",
    "})\n",
    "\n",
    "feats_df.sort_values(by=['coef'], inplace=True, ascending=False)\n",
    "feats_df.T"
   ]
  },
  {
   "cell_type": "markdown",
   "metadata": {},
   "source": [
    "### SVM"
   ]
  },
  {
   "cell_type": "code",
   "execution_count": 52,
   "metadata": {
    "ExecuteTime": {
     "end_time": "2021-03-05T13:20:09.393688Z",
     "start_time": "2021-03-05T13:20:09.373417Z"
    }
   },
   "outputs": [],
   "source": [
    "# Creating a pipeline model for StandardScaler, SMOTE and XGBoost\n",
    "svm_pipe = Pipeline([\n",
    "        ('ss', StandardScaler()),\n",
    "        ('svm', svm.SVC(random_state=RS, kernel='rbf', probability=True, max_iter=40000)) \n",
    "    ])\n",
    "# Parameters\n",
    "svm_params = {  'svm__C': [0.001, 0.01, 1],\n",
    "                #'svm__gamma': ['auto'],\n",
    "                'svm__degree': [3,5],\n",
    "                }"
   ]
  },
  {
   "cell_type": "code",
   "execution_count": 53,
   "metadata": {
    "ExecuteTime": {
     "end_time": "2021-03-05T13:20:10.113657Z",
     "start_time": "2021-03-05T13:20:09.393688Z"
    },
    "scrolled": false
   },
   "outputs": [
    {
     "name": "stdout",
     "output_type": "stream",
     "text": [
      "svm->Best params: {'svm__C': 1, 'svm__degree': 3}\n"
     ]
    },
    {
     "data": {
      "text/html": [
       "<div>\n",
       "<style scoped>\n",
       "    .dataframe tbody tr th:only-of-type {\n",
       "        vertical-align: middle;\n",
       "    }\n",
       "\n",
       "    .dataframe tbody tr th {\n",
       "        vertical-align: top;\n",
       "    }\n",
       "\n",
       "    .dataframe thead th {\n",
       "        text-align: right;\n",
       "    }\n",
       "</style>\n",
       "<table border=\"1\" class=\"dataframe\">\n",
       "  <thead>\n",
       "    <tr style=\"text-align: right;\">\n",
       "      <th></th>\n",
       "      <th>log_reg</th>\n",
       "      <th>log_reg_smote</th>\n",
       "      <th>log_reg_cw</th>\n",
       "      <th>svm</th>\n",
       "    </tr>\n",
       "  </thead>\n",
       "  <tbody>\n",
       "    <tr>\n",
       "      <th>01 Train score</th>\n",
       "      <td>0.8458</td>\n",
       "      <td>0.8438</td>\n",
       "      <td>0.7000</td>\n",
       "      <td>0.9083</td>\n",
       "    </tr>\n",
       "    <tr>\n",
       "      <th>02 Test score</th>\n",
       "      <td>0.7333</td>\n",
       "      <td>0.6667</td>\n",
       "      <td>0.7333</td>\n",
       "      <td>0.7667</td>\n",
       "    </tr>\n",
       "    <tr>\n",
       "      <th>03 Score diff</th>\n",
       "      <td>0.1125</td>\n",
       "      <td>0.1771</td>\n",
       "      <td>-0.0333</td>\n",
       "      <td>0.1416</td>\n",
       "    </tr>\n",
       "    <tr>\n",
       "      <th>04 Train recall</th>\n",
       "      <td>0.6625</td>\n",
       "      <td>0.8313</td>\n",
       "      <td>0.8750</td>\n",
       "      <td>0.7250</td>\n",
       "    </tr>\n",
       "    <tr>\n",
       "      <th>05 Test recall</th>\n",
       "      <td>0.4000</td>\n",
       "      <td>0.5000</td>\n",
       "      <td>0.9000</td>\n",
       "      <td>0.4000</td>\n",
       "    </tr>\n",
       "    <tr>\n",
       "      <th>06 Precision</th>\n",
       "      <td>0.6667</td>\n",
       "      <td>0.5000</td>\n",
       "      <td>0.5625</td>\n",
       "      <td>0.8000</td>\n",
       "    </tr>\n",
       "    <tr>\n",
       "      <th>07 Specificity</th>\n",
       "      <td>0.9000</td>\n",
       "      <td>0.7500</td>\n",
       "      <td>0.6500</td>\n",
       "      <td>0.9500</td>\n",
       "    </tr>\n",
       "    <tr>\n",
       "      <th>08 Sensitivity</th>\n",
       "      <td>0.4000</td>\n",
       "      <td>0.5000</td>\n",
       "      <td>0.9000</td>\n",
       "      <td>0.4000</td>\n",
       "    </tr>\n",
       "    <tr>\n",
       "      <th>09 True Negatives</th>\n",
       "      <td>18</td>\n",
       "      <td>15</td>\n",
       "      <td>13</td>\n",
       "      <td>19</td>\n",
       "    </tr>\n",
       "    <tr>\n",
       "      <th>10 False Positives</th>\n",
       "      <td>2</td>\n",
       "      <td>5</td>\n",
       "      <td>7</td>\n",
       "      <td>1</td>\n",
       "    </tr>\n",
       "    <tr>\n",
       "      <th>11 False Negatives</th>\n",
       "      <td>6</td>\n",
       "      <td>5</td>\n",
       "      <td>1</td>\n",
       "      <td>6</td>\n",
       "    </tr>\n",
       "    <tr>\n",
       "      <th>12 True Positives</th>\n",
       "      <td>4</td>\n",
       "      <td>5</td>\n",
       "      <td>9</td>\n",
       "      <td>4</td>\n",
       "    </tr>\n",
       "    <tr>\n",
       "      <th>13 Train ROC Score</th>\n",
       "      <td>0.8784</td>\n",
       "      <td>0.9183</td>\n",
       "      <td>0.8709</td>\n",
       "      <td>0.9713</td>\n",
       "    </tr>\n",
       "    <tr>\n",
       "      <th>14 Test ROC Score</th>\n",
       "      <td>0.8000</td>\n",
       "      <td>0.8050</td>\n",
       "      <td>0.8050</td>\n",
       "      <td>0.7650</td>\n",
       "    </tr>\n",
       "    <tr>\n",
       "      <th>15 Train CV Score</th>\n",
       "      <td>0.7750</td>\n",
       "      <td>0.7750</td>\n",
       "      <td>0.6667</td>\n",
       "      <td>0.7542</td>\n",
       "    </tr>\n",
       "    <tr>\n",
       "      <th>16 Test CV Score</th>\n",
       "      <td>0.6667</td>\n",
       "      <td>0.7000</td>\n",
       "      <td>0.3667</td>\n",
       "      <td>0.6667</td>\n",
       "    </tr>\n",
       "  </tbody>\n",
       "</table>\n",
       "</div>"
      ],
      "text/plain": [
       "                   log_reg log_reg_smote log_reg_cw     svm\n",
       "01 Train score      0.8458        0.8438     0.7000  0.9083\n",
       "02 Test score       0.7333        0.6667     0.7333  0.7667\n",
       "03 Score diff       0.1125        0.1771    -0.0333  0.1416\n",
       "04 Train recall     0.6625        0.8313     0.8750  0.7250\n",
       "05 Test recall      0.4000        0.5000     0.9000  0.4000\n",
       "06 Precision        0.6667        0.5000     0.5625  0.8000\n",
       "07 Specificity      0.9000        0.7500     0.6500  0.9500\n",
       "08 Sensitivity      0.4000        0.5000     0.9000  0.4000\n",
       "09 True Negatives       18            15         13      19\n",
       "10 False Positives       2             5          7       1\n",
       "11 False Negatives       6             5          1       6\n",
       "12 True Positives        4             5          9       4\n",
       "13 Train ROC Score  0.8784        0.9183     0.8709  0.9713\n",
       "14 Test ROC Score   0.8000        0.8050     0.8050  0.7650\n",
       "15 Train CV Score   0.7750        0.7750     0.6667  0.7542\n",
       "16 Test CV Score    0.6667        0.7000     0.3667  0.6667"
      ]
     },
     "execution_count": 53,
     "metadata": {},
     "output_type": "execute_result"
    },
    {
     "data": {
      "image/png": "[encoded data removed]",
      "text/plain": [
       "<Figure size 864x360 with 3 Axes>"
      ]
     },
     "metadata": {
      "needs_background": "light"
     },
     "output_type": "display_data"
    }
   ],
   "source": [
    "metrics['svm'] = util.model_metrics('svm', svm_pipe, svm_params, X_train, X_val, \n",
    "                                   y_train, y_val, models, val_preds_df, CV=CV, SCORE=SCORE)\n",
    "pd.DataFrame(metrics)"
   ]
  },
  {
   "cell_type": "markdown",
   "metadata": {},
   "source": [
    "### SVM Smote"
   ]
  },
  {
   "cell_type": "code",
   "execution_count": 54,
   "metadata": {
    "ExecuteTime": {
     "end_time": "2021-03-05T13:20:11.093262Z",
     "start_time": "2021-03-05T13:20:10.113657Z"
    }
   },
   "outputs": [
    {
     "name": "stdout",
     "output_type": "stream",
     "text": [
      "svm_smote->Best params: {'svm__C': 1, 'svm__degree': 3}\n"
     ]
    },
    {
     "data": {
      "text/html": [
       "<div>\n",
       "<style scoped>\n",
       "    .dataframe tbody tr th:only-of-type {\n",
       "        vertical-align: middle;\n",
       "    }\n",
       "\n",
       "    .dataframe tbody tr th {\n",
       "        vertical-align: top;\n",
       "    }\n",
       "\n",
       "    .dataframe thead th {\n",
       "        text-align: right;\n",
       "    }\n",
       "</style>\n",
       "<table border=\"1\" class=\"dataframe\">\n",
       "  <thead>\n",
       "    <tr style=\"text-align: right;\">\n",
       "      <th></th>\n",
       "      <th>log_reg</th>\n",
       "      <th>log_reg_smote</th>\n",
       "      <th>log_reg_cw</th>\n",
       "      <th>svm</th>\n",
       "      <th>svm_smote</th>\n",
       "    </tr>\n",
       "  </thead>\n",
       "  <tbody>\n",
       "    <tr>\n",
       "      <th>01 Train score</th>\n",
       "      <td>0.8458</td>\n",
       "      <td>0.8438</td>\n",
       "      <td>0.7000</td>\n",
       "      <td>0.9083</td>\n",
       "      <td>0.9281</td>\n",
       "    </tr>\n",
       "    <tr>\n",
       "      <th>02 Test score</th>\n",
       "      <td>0.7333</td>\n",
       "      <td>0.6667</td>\n",
       "      <td>0.7333</td>\n",
       "      <td>0.7667</td>\n",
       "      <td>0.7000</td>\n",
       "    </tr>\n",
       "    <tr>\n",
       "      <th>03 Score diff</th>\n",
       "      <td>0.1125</td>\n",
       "      <td>0.1771</td>\n",
       "      <td>-0.0333</td>\n",
       "      <td>0.1416</td>\n",
       "      <td>0.2281</td>\n",
       "    </tr>\n",
       "    <tr>\n",
       "      <th>04 Train recall</th>\n",
       "      <td>0.6625</td>\n",
       "      <td>0.8313</td>\n",
       "      <td>0.8750</td>\n",
       "      <td>0.7250</td>\n",
       "      <td>0.9313</td>\n",
       "    </tr>\n",
       "    <tr>\n",
       "      <th>05 Test recall</th>\n",
       "      <td>0.4000</td>\n",
       "      <td>0.5000</td>\n",
       "      <td>0.9000</td>\n",
       "      <td>0.4000</td>\n",
       "      <td>0.5000</td>\n",
       "    </tr>\n",
       "    <tr>\n",
       "      <th>06 Precision</th>\n",
       "      <td>0.6667</td>\n",
       "      <td>0.5000</td>\n",
       "      <td>0.5625</td>\n",
       "      <td>0.8000</td>\n",
       "      <td>0.5556</td>\n",
       "    </tr>\n",
       "    <tr>\n",
       "      <th>07 Specificity</th>\n",
       "      <td>0.9000</td>\n",
       "      <td>0.7500</td>\n",
       "      <td>0.6500</td>\n",
       "      <td>0.9500</td>\n",
       "      <td>0.8000</td>\n",
       "    </tr>\n",
       "    <tr>\n",
       "      <th>08 Sensitivity</th>\n",
       "      <td>0.4000</td>\n",
       "      <td>0.5000</td>\n",
       "      <td>0.9000</td>\n",
       "      <td>0.4000</td>\n",
       "      <td>0.5000</td>\n",
       "    </tr>\n",
       "    <tr>\n",
       "      <th>09 True Negatives</th>\n",
       "      <td>18</td>\n",
       "      <td>15</td>\n",
       "      <td>13</td>\n",
       "      <td>19</td>\n",
       "      <td>16</td>\n",
       "    </tr>\n",
       "    <tr>\n",
       "      <th>10 False Positives</th>\n",
       "      <td>2</td>\n",
       "      <td>5</td>\n",
       "      <td>7</td>\n",
       "      <td>1</td>\n",
       "      <td>4</td>\n",
       "    </tr>\n",
       "    <tr>\n",
       "      <th>11 False Negatives</th>\n",
       "      <td>6</td>\n",
       "      <td>5</td>\n",
       "      <td>1</td>\n",
       "      <td>6</td>\n",
       "      <td>5</td>\n",
       "    </tr>\n",
       "    <tr>\n",
       "      <th>12 True Positives</th>\n",
       "      <td>4</td>\n",
       "      <td>5</td>\n",
       "      <td>9</td>\n",
       "      <td>4</td>\n",
       "      <td>5</td>\n",
       "    </tr>\n",
       "    <tr>\n",
       "      <th>13 Train ROC Score</th>\n",
       "      <td>0.8784</td>\n",
       "      <td>0.9183</td>\n",
       "      <td>0.8709</td>\n",
       "      <td>0.9713</td>\n",
       "      <td>0.9777</td>\n",
       "    </tr>\n",
       "    <tr>\n",
       "      <th>14 Test ROC Score</th>\n",
       "      <td>0.8000</td>\n",
       "      <td>0.8050</td>\n",
       "      <td>0.8050</td>\n",
       "      <td>0.7650</td>\n",
       "      <td>0.7750</td>\n",
       "    </tr>\n",
       "    <tr>\n",
       "      <th>15 Train CV Score</th>\n",
       "      <td>0.7750</td>\n",
       "      <td>0.7750</td>\n",
       "      <td>0.6667</td>\n",
       "      <td>0.7542</td>\n",
       "      <td>0.7844</td>\n",
       "    </tr>\n",
       "    <tr>\n",
       "      <th>16 Test CV Score</th>\n",
       "      <td>0.6667</td>\n",
       "      <td>0.7000</td>\n",
       "      <td>0.3667</td>\n",
       "      <td>0.6667</td>\n",
       "      <td>0.6667</td>\n",
       "    </tr>\n",
       "  </tbody>\n",
       "</table>\n",
       "</div>"
      ],
      "text/plain": [
       "                   log_reg log_reg_smote log_reg_cw     svm svm_smote\n",
       "01 Train score      0.8458        0.8438     0.7000  0.9083    0.9281\n",
       "02 Test score       0.7333        0.6667     0.7333  0.7667    0.7000\n",
       "03 Score diff       0.1125        0.1771    -0.0333  0.1416    0.2281\n",
       "04 Train recall     0.6625        0.8313     0.8750  0.7250    0.9313\n",
       "05 Test recall      0.4000        0.5000     0.9000  0.4000    0.5000\n",
       "06 Precision        0.6667        0.5000     0.5625  0.8000    0.5556\n",
       "07 Specificity      0.9000        0.7500     0.6500  0.9500    0.8000\n",
       "08 Sensitivity      0.4000        0.5000     0.9000  0.4000    0.5000\n",
       "09 True Negatives       18            15         13      19        16\n",
       "10 False Positives       2             5          7       1         4\n",
       "11 False Negatives       6             5          1       6         5\n",
       "12 True Positives        4             5          9       4         5\n",
       "13 Train ROC Score  0.8784        0.9183     0.8709  0.9713    0.9777\n",
       "14 Test ROC Score   0.8000        0.8050     0.8050  0.7650    0.7750\n",
       "15 Train CV Score   0.7750        0.7750     0.6667  0.7542    0.7844\n",
       "16 Test CV Score    0.6667        0.7000     0.3667  0.6667    0.6667"
      ]
     },
     "execution_count": 54,
     "metadata": {},
     "output_type": "execute_result"
    },
    {
     "data": {
      "image/png": "[encoded data removed]",
      "text/plain": [
       "<Figure size 864x360 with 3 Axes>"
      ]
     },
     "metadata": {
      "needs_background": "light"
     },
     "output_type": "display_data"
    }
   ],
   "source": [
    "metrics['svm_smote'] = util.model_metrics('svm_smote', svm_pipe, svm_params, Xs_train, X_val, \n",
    "                                   ys_train, y_val, models, val_preds_df, CV=CV, SCORE=SCORE)\n",
    "pd.DataFrame(metrics)"
   ]
  },
  {
   "cell_type": "markdown",
   "metadata": {},
   "source": [
    "### SVM Class Weight"
   ]
  },
  {
   "cell_type": "code",
   "execution_count": 55,
   "metadata": {
    "ExecuteTime": {
     "end_time": "2021-03-05T13:20:11.113125Z",
     "start_time": "2021-03-05T13:20:11.093262Z"
    }
   },
   "outputs": [],
   "source": [
    "# Creating a pipeline model for StandardScaler, SMOTE and XGBoost\n",
    "svm_pipe = Pipeline([\n",
    "        ('ss', StandardScaler()),\n",
    "        ('svm', svm.SVC(random_state=RS, kernel='rbf', probability=True, max_iter=40000, class_weight='balanced' )) \n",
    "    ])\n",
    "# Parameters\n",
    "svm_params = {  'svm__C': [0.001, 0.01, 1],\n",
    "                #'svm__gamma': ['auto'],\n",
    "                'svm__degree': [2,3,5],\n",
    "                }"
   ]
  },
  {
   "cell_type": "code",
   "execution_count": 56,
   "metadata": {
    "ExecuteTime": {
     "end_time": "2021-03-05T13:20:12.113108Z",
     "start_time": "2021-03-05T13:20:11.113125Z"
    }
   },
   "outputs": [
    {
     "name": "stdout",
     "output_type": "stream",
     "text": [
      "svm_cw->Best params: {'svm__C': 0.001, 'svm__degree': 2}\n"
     ]
    },
    {
     "data": {
      "text/html": [
       "<div>\n",
       "<style scoped>\n",
       "    .dataframe tbody tr th:only-of-type {\n",
       "        vertical-align: middle;\n",
       "    }\n",
       "\n",
       "    .dataframe tbody tr th {\n",
       "        vertical-align: top;\n",
       "    }\n",
       "\n",
       "    .dataframe thead th {\n",
       "        text-align: right;\n",
       "    }\n",
       "</style>\n",
       "<table border=\"1\" class=\"dataframe\">\n",
       "  <thead>\n",
       "    <tr style=\"text-align: right;\">\n",
       "      <th></th>\n",
       "      <th>log_reg</th>\n",
       "      <th>log_reg_smote</th>\n",
       "      <th>log_reg_cw</th>\n",
       "      <th>svm</th>\n",
       "      <th>svm_smote</th>\n",
       "      <th>svm_cw</th>\n",
       "    </tr>\n",
       "  </thead>\n",
       "  <tbody>\n",
       "    <tr>\n",
       "      <th>01 Train score</th>\n",
       "      <td>0.8458</td>\n",
       "      <td>0.8438</td>\n",
       "      <td>0.7000</td>\n",
       "      <td>0.9083</td>\n",
       "      <td>0.9281</td>\n",
       "      <td>0.7417</td>\n",
       "    </tr>\n",
       "    <tr>\n",
       "      <th>02 Test score</th>\n",
       "      <td>0.7333</td>\n",
       "      <td>0.6667</td>\n",
       "      <td>0.7333</td>\n",
       "      <td>0.7667</td>\n",
       "      <td>0.7000</td>\n",
       "      <td>0.7000</td>\n",
       "    </tr>\n",
       "    <tr>\n",
       "      <th>03 Score diff</th>\n",
       "      <td>0.1125</td>\n",
       "      <td>0.1771</td>\n",
       "      <td>-0.0333</td>\n",
       "      <td>0.1416</td>\n",
       "      <td>0.2281</td>\n",
       "      <td>0.0417</td>\n",
       "    </tr>\n",
       "    <tr>\n",
       "      <th>04 Train recall</th>\n",
       "      <td>0.6625</td>\n",
       "      <td>0.8313</td>\n",
       "      <td>0.8750</td>\n",
       "      <td>0.7250</td>\n",
       "      <td>0.9313</td>\n",
       "      <td>0.8500</td>\n",
       "    </tr>\n",
       "    <tr>\n",
       "      <th>05 Test recall</th>\n",
       "      <td>0.4000</td>\n",
       "      <td>0.5000</td>\n",
       "      <td>0.9000</td>\n",
       "      <td>0.4000</td>\n",
       "      <td>0.5000</td>\n",
       "      <td>0.8000</td>\n",
       "    </tr>\n",
       "    <tr>\n",
       "      <th>06 Precision</th>\n",
       "      <td>0.6667</td>\n",
       "      <td>0.5000</td>\n",
       "      <td>0.5625</td>\n",
       "      <td>0.8000</td>\n",
       "      <td>0.5556</td>\n",
       "      <td>0.5333</td>\n",
       "    </tr>\n",
       "    <tr>\n",
       "      <th>07 Specificity</th>\n",
       "      <td>0.9000</td>\n",
       "      <td>0.7500</td>\n",
       "      <td>0.6500</td>\n",
       "      <td>0.9500</td>\n",
       "      <td>0.8000</td>\n",
       "      <td>0.6500</td>\n",
       "    </tr>\n",
       "    <tr>\n",
       "      <th>08 Sensitivity</th>\n",
       "      <td>0.4000</td>\n",
       "      <td>0.5000</td>\n",
       "      <td>0.9000</td>\n",
       "      <td>0.4000</td>\n",
       "      <td>0.5000</td>\n",
       "      <td>0.8000</td>\n",
       "    </tr>\n",
       "    <tr>\n",
       "      <th>09 True Negatives</th>\n",
       "      <td>18</td>\n",
       "      <td>15</td>\n",
       "      <td>13</td>\n",
       "      <td>19</td>\n",
       "      <td>16</td>\n",
       "      <td>13</td>\n",
       "    </tr>\n",
       "    <tr>\n",
       "      <th>10 False Positives</th>\n",
       "      <td>2</td>\n",
       "      <td>5</td>\n",
       "      <td>7</td>\n",
       "      <td>1</td>\n",
       "      <td>4</td>\n",
       "      <td>7</td>\n",
       "    </tr>\n",
       "    <tr>\n",
       "      <th>11 False Negatives</th>\n",
       "      <td>6</td>\n",
       "      <td>5</td>\n",
       "      <td>1</td>\n",
       "      <td>6</td>\n",
       "      <td>5</td>\n",
       "      <td>2</td>\n",
       "    </tr>\n",
       "    <tr>\n",
       "      <th>12 True Positives</th>\n",
       "      <td>4</td>\n",
       "      <td>5</td>\n",
       "      <td>9</td>\n",
       "      <td>4</td>\n",
       "      <td>5</td>\n",
       "      <td>8</td>\n",
       "    </tr>\n",
       "    <tr>\n",
       "      <th>13 Train ROC Score</th>\n",
       "      <td>0.8784</td>\n",
       "      <td>0.9183</td>\n",
       "      <td>0.8709</td>\n",
       "      <td>0.9713</td>\n",
       "      <td>0.9777</td>\n",
       "      <td>0.1339</td>\n",
       "    </tr>\n",
       "    <tr>\n",
       "      <th>14 Test ROC Score</th>\n",
       "      <td>0.8000</td>\n",
       "      <td>0.8050</td>\n",
       "      <td>0.8050</td>\n",
       "      <td>0.7650</td>\n",
       "      <td>0.7750</td>\n",
       "      <td>0.1950</td>\n",
       "    </tr>\n",
       "    <tr>\n",
       "      <th>15 Train CV Score</th>\n",
       "      <td>0.7750</td>\n",
       "      <td>0.7750</td>\n",
       "      <td>0.6667</td>\n",
       "      <td>0.7542</td>\n",
       "      <td>0.7844</td>\n",
       "      <td>0.6833</td>\n",
       "    </tr>\n",
       "    <tr>\n",
       "      <th>16 Test CV Score</th>\n",
       "      <td>0.6667</td>\n",
       "      <td>0.7000</td>\n",
       "      <td>0.3667</td>\n",
       "      <td>0.6667</td>\n",
       "      <td>0.6667</td>\n",
       "      <td>0.7667</td>\n",
       "    </tr>\n",
       "  </tbody>\n",
       "</table>\n",
       "</div>"
      ],
      "text/plain": [
       "                   log_reg log_reg_smote log_reg_cw     svm svm_smote  svm_cw\n",
       "01 Train score      0.8458        0.8438     0.7000  0.9083    0.9281  0.7417\n",
       "02 Test score       0.7333        0.6667     0.7333  0.7667    0.7000  0.7000\n",
       "03 Score diff       0.1125        0.1771    -0.0333  0.1416    0.2281  0.0417\n",
       "04 Train recall     0.6625        0.8313     0.8750  0.7250    0.9313  0.8500\n",
       "05 Test recall      0.4000        0.5000     0.9000  0.4000    0.5000  0.8000\n",
       "06 Precision        0.6667        0.5000     0.5625  0.8000    0.5556  0.5333\n",
       "07 Specificity      0.9000        0.7500     0.6500  0.9500    0.8000  0.6500\n",
       "08 Sensitivity      0.4000        0.5000     0.9000  0.4000    0.5000  0.8000\n",
       "09 True Negatives       18            15         13      19        16      13\n",
       "10 False Positives       2             5          7       1         4       7\n",
       "11 False Negatives       6             5          1       6         5       2\n",
       "12 True Positives        4             5          9       4         5       8\n",
       "13 Train ROC Score  0.8784        0.9183     0.8709  0.9713    0.9777  0.1339\n",
       "14 Test ROC Score   0.8000        0.8050     0.8050  0.7650    0.7750  0.1950\n",
       "15 Train CV Score   0.7750        0.7750     0.6667  0.7542    0.7844  0.6833\n",
       "16 Test CV Score    0.6667        0.7000     0.3667  0.6667    0.6667  0.7667"
      ]
     },
     "execution_count": 56,
     "metadata": {},
     "output_type": "execute_result"
    },
    {
     "data": {
      "image/png": "[encoded data removed]",
      "text/plain": [
       "<Figure size 864x360 with 3 Axes>"
      ]
     },
     "metadata": {
      "needs_background": "light"
     },
     "output_type": "display_data"
    }
   ],
   "source": [
    "metrics['svm_cw'] = util.model_metrics('svm_cw', svm_pipe, svm_params, X_train, X_val, \n",
    "                                   y_train, y_val, models, val_preds_df, CV=CV, SCORE=SCORE)\n",
    "pd.DataFrame(metrics)"
   ]
  },
  {
   "cell_type": "code",
   "execution_count": 57,
   "metadata": {
    "ExecuteTime": {
     "end_time": "2021-03-05T13:20:12.133670Z",
     "start_time": "2021-03-05T13:20:12.113108Z"
    },
    "scrolled": true
   },
   "outputs": [
    {
     "data": {
      "text/plain": [
       "0    0.6667\n",
       "1    0.3333\n",
       "Name: Stage_Progress, dtype: float64"
      ]
     },
     "execution_count": 57,
     "metadata": {},
     "output_type": "execute_result"
    }
   ],
   "source": [
    "lf.ckd_train['Stage_Progress'].value_counts(normalize=True)"
   ]
  },
  {
   "cell_type": "code",
   "execution_count": null,
   "metadata": {},
   "outputs": [],
   "source": []
  },
  {
   "cell_type": "markdown",
   "metadata": {},
   "source": [
    "### XGBoost"
   ]
  },
  {
   "cell_type": "code",
   "execution_count": 58,
   "metadata": {
    "ExecuteTime": {
     "end_time": "2021-03-05T13:20:12.153546Z",
     "start_time": "2021-03-05T13:20:12.133670Z"
    }
   },
   "outputs": [],
   "source": [
    "# Creating a pipeline model for StandardScaler, SMOTE and XGBoost\n",
    "xgb_pipe = Pipeline([\n",
    "        ('ss', StandardScaler()),\n",
    "        ('xgb', XGBClassifier(random_state=RS, \n",
    "                              objective= 'binary:logistic', \n",
    "                              verbosity=1, n_jobs=-1))\n",
    "    ])\n",
    "# Parameters\n",
    "xgb_params = {  'xgb__learning_rate': [0.01, 0.05],\n",
    "                'xgb__max_depth': [4, 5, 6],\n",
    "                #'xgb__min_child_weight': [1],\n",
    "                'xgb__gamma': [0.01, 0.5],\n",
    "                'xgb__subsample': [0.8, 0.9],\n",
    "                'xgb__colsample_bytree': [0.4],\n",
    "                'xgb__lambda': [15, 25],\n",
    "                'xgb__scale_pos_weight': [2], \n",
    "                'xgb__n_estimators': [150, 180]}"
   ]
  },
  {
   "cell_type": "code",
   "execution_count": 59,
   "metadata": {
    "ExecuteTime": {
     "end_time": "2021-03-05T13:21:26.173529Z",
     "start_time": "2021-03-05T13:20:12.153546Z"
    },
    "scrolled": false
   },
   "outputs": [
    {
     "name": "stdout",
     "output_type": "stream",
     "text": [
      "xgboost->Best params: {'xgb__colsample_bytree': 0.4, 'xgb__gamma': 0.01, 'xgb__lambda': 15, 'xgb__learning_rate': 0.05, 'xgb__max_depth': 4, 'xgb__n_estimators': 180, 'xgb__scale_pos_weight': 2, 'xgb__subsample': 0.9}\n"
     ]
    },
    {
     "data": {
      "text/html": [
       "<div>\n",
       "<style scoped>\n",
       "    .dataframe tbody tr th:only-of-type {\n",
       "        vertical-align: middle;\n",
       "    }\n",
       "\n",
       "    .dataframe tbody tr th {\n",
       "        vertical-align: top;\n",
       "    }\n",
       "\n",
       "    .dataframe thead th {\n",
       "        text-align: right;\n",
       "    }\n",
       "</style>\n",
       "<table border=\"1\" class=\"dataframe\">\n",
       "  <thead>\n",
       "    <tr style=\"text-align: right;\">\n",
       "      <th></th>\n",
       "      <th>log_reg</th>\n",
       "      <th>log_reg_smote</th>\n",
       "      <th>log_reg_cw</th>\n",
       "      <th>svm</th>\n",
       "      <th>svm_smote</th>\n",
       "      <th>svm_cw</th>\n",
       "      <th>xgboost</th>\n",
       "    </tr>\n",
       "  </thead>\n",
       "  <tbody>\n",
       "    <tr>\n",
       "      <th>01 Train score</th>\n",
       "      <td>0.8458</td>\n",
       "      <td>0.8438</td>\n",
       "      <td>0.7000</td>\n",
       "      <td>0.9083</td>\n",
       "      <td>0.9281</td>\n",
       "      <td>0.7417</td>\n",
       "      <td>1.0000</td>\n",
       "    </tr>\n",
       "    <tr>\n",
       "      <th>02 Test score</th>\n",
       "      <td>0.7333</td>\n",
       "      <td>0.6667</td>\n",
       "      <td>0.7333</td>\n",
       "      <td>0.7667</td>\n",
       "      <td>0.7000</td>\n",
       "      <td>0.7000</td>\n",
       "      <td>0.7333</td>\n",
       "    </tr>\n",
       "    <tr>\n",
       "      <th>03 Score diff</th>\n",
       "      <td>0.1125</td>\n",
       "      <td>0.1771</td>\n",
       "      <td>-0.0333</td>\n",
       "      <td>0.1416</td>\n",
       "      <td>0.2281</td>\n",
       "      <td>0.0417</td>\n",
       "      <td>0.2667</td>\n",
       "    </tr>\n",
       "    <tr>\n",
       "      <th>04 Train recall</th>\n",
       "      <td>0.6625</td>\n",
       "      <td>0.8313</td>\n",
       "      <td>0.8750</td>\n",
       "      <td>0.7250</td>\n",
       "      <td>0.9313</td>\n",
       "      <td>0.8500</td>\n",
       "      <td>1.0000</td>\n",
       "    </tr>\n",
       "    <tr>\n",
       "      <th>05 Test recall</th>\n",
       "      <td>0.4000</td>\n",
       "      <td>0.5000</td>\n",
       "      <td>0.9000</td>\n",
       "      <td>0.4000</td>\n",
       "      <td>0.5000</td>\n",
       "      <td>0.8000</td>\n",
       "      <td>0.4000</td>\n",
       "    </tr>\n",
       "    <tr>\n",
       "      <th>06 Precision</th>\n",
       "      <td>0.6667</td>\n",
       "      <td>0.5000</td>\n",
       "      <td>0.5625</td>\n",
       "      <td>0.8000</td>\n",
       "      <td>0.5556</td>\n",
       "      <td>0.5333</td>\n",
       "      <td>0.6667</td>\n",
       "    </tr>\n",
       "    <tr>\n",
       "      <th>07 Specificity</th>\n",
       "      <td>0.9000</td>\n",
       "      <td>0.7500</td>\n",
       "      <td>0.6500</td>\n",
       "      <td>0.9500</td>\n",
       "      <td>0.8000</td>\n",
       "      <td>0.6500</td>\n",
       "      <td>0.9000</td>\n",
       "    </tr>\n",
       "    <tr>\n",
       "      <th>08 Sensitivity</th>\n",
       "      <td>0.4000</td>\n",
       "      <td>0.5000</td>\n",
       "      <td>0.9000</td>\n",
       "      <td>0.4000</td>\n",
       "      <td>0.5000</td>\n",
       "      <td>0.8000</td>\n",
       "      <td>0.4000</td>\n",
       "    </tr>\n",
       "    <tr>\n",
       "      <th>09 True Negatives</th>\n",
       "      <td>18</td>\n",
       "      <td>15</td>\n",
       "      <td>13</td>\n",
       "      <td>19</td>\n",
       "      <td>16</td>\n",
       "      <td>13</td>\n",
       "      <td>18</td>\n",
       "    </tr>\n",
       "    <tr>\n",
       "      <th>10 False Positives</th>\n",
       "      <td>2</td>\n",
       "      <td>5</td>\n",
       "      <td>7</td>\n",
       "      <td>1</td>\n",
       "      <td>4</td>\n",
       "      <td>7</td>\n",
       "      <td>2</td>\n",
       "    </tr>\n",
       "    <tr>\n",
       "      <th>11 False Negatives</th>\n",
       "      <td>6</td>\n",
       "      <td>5</td>\n",
       "      <td>1</td>\n",
       "      <td>6</td>\n",
       "      <td>5</td>\n",
       "      <td>2</td>\n",
       "      <td>6</td>\n",
       "    </tr>\n",
       "    <tr>\n",
       "      <th>12 True Positives</th>\n",
       "      <td>4</td>\n",
       "      <td>5</td>\n",
       "      <td>9</td>\n",
       "      <td>4</td>\n",
       "      <td>5</td>\n",
       "      <td>8</td>\n",
       "      <td>4</td>\n",
       "    </tr>\n",
       "    <tr>\n",
       "      <th>13 Train ROC Score</th>\n",
       "      <td>0.8784</td>\n",
       "      <td>0.9183</td>\n",
       "      <td>0.8709</td>\n",
       "      <td>0.9713</td>\n",
       "      <td>0.9777</td>\n",
       "      <td>0.1339</td>\n",
       "      <td>1.0000</td>\n",
       "    </tr>\n",
       "    <tr>\n",
       "      <th>14 Test ROC Score</th>\n",
       "      <td>0.8000</td>\n",
       "      <td>0.8050</td>\n",
       "      <td>0.8050</td>\n",
       "      <td>0.7650</td>\n",
       "      <td>0.7750</td>\n",
       "      <td>0.1950</td>\n",
       "      <td>0.8200</td>\n",
       "    </tr>\n",
       "    <tr>\n",
       "      <th>15 Train CV Score</th>\n",
       "      <td>0.7750</td>\n",
       "      <td>0.7750</td>\n",
       "      <td>0.6667</td>\n",
       "      <td>0.7542</td>\n",
       "      <td>0.7844</td>\n",
       "      <td>0.6833</td>\n",
       "      <td>0.7958</td>\n",
       "    </tr>\n",
       "    <tr>\n",
       "      <th>16 Test CV Score</th>\n",
       "      <td>0.6667</td>\n",
       "      <td>0.7000</td>\n",
       "      <td>0.3667</td>\n",
       "      <td>0.6667</td>\n",
       "      <td>0.6667</td>\n",
       "      <td>0.7667</td>\n",
       "      <td>0.6333</td>\n",
       "    </tr>\n",
       "  </tbody>\n",
       "</table>\n",
       "</div>"
      ],
      "text/plain": [
       "                   log_reg log_reg_smote log_reg_cw     svm svm_smote  svm_cw  \\\n",
       "01 Train score      0.8458        0.8438     0.7000  0.9083    0.9281  0.7417   \n",
       "02 Test score       0.7333        0.6667     0.7333  0.7667    0.7000  0.7000   \n",
       "03 Score diff       0.1125        0.1771    -0.0333  0.1416    0.2281  0.0417   \n",
       "04 Train recall     0.6625        0.8313     0.8750  0.7250    0.9313  0.8500   \n",
       "05 Test recall      0.4000        0.5000     0.9000  0.4000    0.5000  0.8000   \n",
       "06 Precision        0.6667        0.5000     0.5625  0.8000    0.5556  0.5333   \n",
       "07 Specificity      0.9000        0.7500     0.6500  0.9500    0.8000  0.6500   \n",
       "08 Sensitivity      0.4000        0.5000     0.9000  0.4000    0.5000  0.8000   \n",
       "09 True Negatives       18            15         13      19        16      13   \n",
       "10 False Positives       2             5          7       1         4       7   \n",
       "11 False Negatives       6             5          1       6         5       2   \n",
       "12 True Positives        4             5          9       4         5       8   \n",
       "13 Train ROC Score  0.8784        0.9183     0.8709  0.9713    0.9777  0.1339   \n",
       "14 Test ROC Score   0.8000        0.8050     0.8050  0.7650    0.7750  0.1950   \n",
       "15 Train CV Score   0.7750        0.7750     0.6667  0.7542    0.7844  0.6833   \n",
       "16 Test CV Score    0.6667        0.7000     0.3667  0.6667    0.6667  0.7667   \n",
       "\n",
       "                   xgboost  \n",
       "01 Train score      1.0000  \n",
       "02 Test score       0.7333  \n",
       "03 Score diff       0.2667  \n",
       "04 Train recall     1.0000  \n",
       "05 Test recall      0.4000  \n",
       "06 Precision        0.6667  \n",
       "07 Specificity      0.9000  \n",
       "08 Sensitivity      0.4000  \n",
       "09 True Negatives       18  \n",
       "10 False Positives       2  \n",
       "11 False Negatives       6  \n",
       "12 True Positives        4  \n",
       "13 Train ROC Score  1.0000  \n",
       "14 Test ROC Score   0.8200  \n",
       "15 Train CV Score   0.7958  \n",
       "16 Test CV Score    0.6333  "
      ]
     },
     "execution_count": 59,
     "metadata": {},
     "output_type": "execute_result"
    },
    {
     "data": {
      "image/png": "[encoded data removed]",
      "text/plain": [
       "<Figure size 864x360 with 3 Axes>"
      ]
     },
     "metadata": {
      "needs_background": "light"
     },
     "output_type": "display_data"
    }
   ],
   "source": [
    "metrics['xgboost'] = util.model_metrics('xgboost', xgb_pipe, xgb_params, X_train, X_val, \n",
    "                                   y_train, y_val, models, val_preds_df, CV=CV, SCORE=SCORE)\n",
    "pd.DataFrame(metrics)"
   ]
  },
  {
   "cell_type": "code",
   "execution_count": null,
   "metadata": {},
   "outputs": [],
   "source": []
  },
  {
   "cell_type": "markdown",
   "metadata": {},
   "source": [
    "### Investigation into the misclassified cases"
   ]
  },
  {
   "cell_type": "code",
   "execution_count": 60,
   "metadata": {
    "ExecuteTime": {
     "end_time": "2021-03-05T13:21:26.193568Z",
     "start_time": "2021-03-05T13:21:26.173529Z"
    }
   },
   "outputs": [],
   "source": [
    "# adding target variable into the prediction df for comparison\n",
    "val_preds_df['target']=y_val"
   ]
  },
  {
   "cell_type": "code",
   "execution_count": 61,
   "metadata": {
    "ExecuteTime": {
     "end_time": "2021-03-05T13:21:26.214173Z",
     "start_time": "2021-03-05T13:21:26.193568Z"
    },
    "scrolled": true
   },
   "outputs": [
    {
     "data": {
      "text/html": [
       "<div>\n",
       "<style scoped>\n",
       "    .dataframe tbody tr th:only-of-type {\n",
       "        vertical-align: middle;\n",
       "    }\n",
       "\n",
       "    .dataframe tbody tr th {\n",
       "        vertical-align: top;\n",
       "    }\n",
       "\n",
       "    .dataframe thead th {\n",
       "        text-align: right;\n",
       "    }\n",
       "</style>\n",
       "<table border=\"1\" class=\"dataframe\">\n",
       "  <thead>\n",
       "    <tr style=\"text-align: right;\">\n",
       "      <th></th>\n",
       "      <th>stage</th>\n",
       "      <th>cre</th>\n",
       "      <th>dbp</th>\n",
       "      <th>glu</th>\n",
       "      <th>hgb</th>\n",
       "      <th>ldl</th>\n",
       "      <th>sbp</th>\n",
       "      <th>cre_trend</th>\n",
       "      <th>dbp_trend</th>\n",
       "      <th>glu_trend</th>\n",
       "      <th>...</th>\n",
       "      <th>propranolol</th>\n",
       "      <th>metoprolol</th>\n",
       "      <th>log_reg</th>\n",
       "      <th>log_reg_smote</th>\n",
       "      <th>log_reg_cw</th>\n",
       "      <th>svm</th>\n",
       "      <th>svm_smote</th>\n",
       "      <th>svm_cw</th>\n",
       "      <th>xgboost</th>\n",
       "      <th>target</th>\n",
       "    </tr>\n",
       "  </thead>\n",
       "  <tbody>\n",
       "    <tr>\n",
       "      <th>119</th>\n",
       "      <td>4</td>\n",
       "      <td>1.85</td>\n",
       "      <td>83.04</td>\n",
       "      <td>5.7</td>\n",
       "      <td>12.06</td>\n",
       "      <td>41.69</td>\n",
       "      <td>126.14</td>\n",
       "      <td>0.0</td>\n",
       "      <td>1.0</td>\n",
       "      <td>0.0</td>\n",
       "      <td>...</td>\n",
       "      <td>0</td>\n",
       "      <td>1</td>\n",
       "      <td>0</td>\n",
       "      <td>0</td>\n",
       "      <td>0</td>\n",
       "      <td>0</td>\n",
       "      <td>0</td>\n",
       "      <td>0</td>\n",
       "      <td>0</td>\n",
       "      <td>1</td>\n",
       "    </tr>\n",
       "  </tbody>\n",
       "</table>\n",
       "<p>1 rows × 42 columns</p>\n",
       "</div>"
      ],
      "text/plain": [
       "     stage   cre    dbp  glu    hgb    ldl     sbp  cre_trend  dbp_trend  \\\n",
       "119      4  1.85  83.04  5.7  12.06  41.69  126.14        0.0        1.0   \n",
       "\n",
       "     glu_trend  ...  propranolol  metoprolol  log_reg  log_reg_smote  \\\n",
       "119        0.0  ...            0           1        0              0   \n",
       "\n",
       "     log_reg_cw  svm  svm_smote  svm_cw  xgboost  target  \n",
       "119           0    0          0       0        0       1  \n",
       "\n",
       "[1 rows x 42 columns]"
      ]
     },
     "execution_count": 61,
     "metadata": {},
     "output_type": "execute_result"
    }
   ],
   "source": [
    "# Checking for type II Errors in validation\n",
    "mask = (val_preds_df['log_reg_cw']==0) & (val_preds_df['target']==1)\n",
    "val_preds_df[mask]"
   ]
  },
  {
   "cell_type": "code",
   "execution_count": 62,
   "metadata": {
    "ExecuteTime": {
     "end_time": "2021-03-05T13:21:26.233468Z",
     "start_time": "2021-03-05T13:21:26.214173Z"
    },
    "scrolled": true
   },
   "outputs": [
    {
     "data": {
      "text/html": [
       "<div>\n",
       "<style scoped>\n",
       "    .dataframe tbody tr th:only-of-type {\n",
       "        vertical-align: middle;\n",
       "    }\n",
       "\n",
       "    .dataframe tbody tr th {\n",
       "        vertical-align: top;\n",
       "    }\n",
       "\n",
       "    .dataframe thead th {\n",
       "        text-align: right;\n",
       "    }\n",
       "</style>\n",
       "<table border=\"1\" class=\"dataframe\">\n",
       "  <thead>\n",
       "    <tr style=\"text-align: right;\">\n",
       "      <th></th>\n",
       "      <th>ldl_trend</th>\n",
       "      <th>sbp_trend</th>\n",
       "      <th>glu</th>\n",
       "      <th>ldl</th>\n",
       "      <th>metoprolol</th>\n",
       "    </tr>\n",
       "  </thead>\n",
       "  <tbody>\n",
       "    <tr>\n",
       "      <th>119</th>\n",
       "      <td>0.0</td>\n",
       "      <td>1.0</td>\n",
       "      <td>5.7</td>\n",
       "      <td>41.69</td>\n",
       "      <td>1</td>\n",
       "    </tr>\n",
       "  </tbody>\n",
       "</table>\n",
       "</div>"
      ],
      "text/plain": [
       "     ldl_trend  sbp_trend  glu    ldl  metoprolol\n",
       "119        0.0        1.0  5.7  41.69           1"
      ]
     },
     "execution_count": 62,
     "metadata": {},
     "output_type": "execute_result"
    }
   ],
   "source": [
    "# Top 5 features importance for the false negative case \n",
    "lf.ckd_valid[lf.ckd_valid.index==119][['ldl_trend', 'sbp_trend', 'glu', 'ldl', 'metoprolol']]"
   ]
  },
  {
   "cell_type": "code",
   "execution_count": 63,
   "metadata": {
    "ExecuteTime": {
     "end_time": "2021-03-05T13:21:26.253541Z",
     "start_time": "2021-03-05T13:21:26.233468Z"
    }
   },
   "outputs": [
    {
     "data": {
      "text/html": [
       "<div>\n",
       "<style scoped>\n",
       "    .dataframe tbody tr th:only-of-type {\n",
       "        vertical-align: middle;\n",
       "    }\n",
       "\n",
       "    .dataframe tbody tr th {\n",
       "        vertical-align: top;\n",
       "    }\n",
       "\n",
       "    .dataframe thead th {\n",
       "        text-align: right;\n",
       "    }\n",
       "</style>\n",
       "<table border=\"1\" class=\"dataframe\">\n",
       "  <thead>\n",
       "    <tr style=\"text-align: right;\">\n",
       "      <th></th>\n",
       "      <th>ldl_trend</th>\n",
       "      <th>sbp_trend</th>\n",
       "      <th>glu</th>\n",
       "      <th>ldl</th>\n",
       "      <th>metoprolol</th>\n",
       "    </tr>\n",
       "  </thead>\n",
       "  <tbody>\n",
       "    <tr>\n",
       "      <th>8</th>\n",
       "      <td>1.0</td>\n",
       "      <td>0.0</td>\n",
       "      <td>5.52</td>\n",
       "      <td>142.94</td>\n",
       "      <td>1</td>\n",
       "    </tr>\n",
       "    <tr>\n",
       "      <th>18</th>\n",
       "      <td>1.0</td>\n",
       "      <td>1.0</td>\n",
       "      <td>11.82</td>\n",
       "      <td>92.28</td>\n",
       "      <td>1</td>\n",
       "    </tr>\n",
       "    <tr>\n",
       "      <th>44</th>\n",
       "      <td>1.0</td>\n",
       "      <td>0.0</td>\n",
       "      <td>6.73</td>\n",
       "      <td>68.76</td>\n",
       "      <td>0</td>\n",
       "    </tr>\n",
       "    <tr>\n",
       "      <th>103</th>\n",
       "      <td>1.0</td>\n",
       "      <td>0.0</td>\n",
       "      <td>7.49</td>\n",
       "      <td>150.59</td>\n",
       "      <td>0</td>\n",
       "    </tr>\n",
       "    <tr>\n",
       "      <th>109</th>\n",
       "      <td>1.0</td>\n",
       "      <td>0.0</td>\n",
       "      <td>5.87</td>\n",
       "      <td>124.63</td>\n",
       "      <td>0</td>\n",
       "    </tr>\n",
       "    <tr>\n",
       "      <th>160</th>\n",
       "      <td>0.0</td>\n",
       "      <td>1.0</td>\n",
       "      <td>4.96</td>\n",
       "      <td>86.12</td>\n",
       "      <td>0</td>\n",
       "    </tr>\n",
       "    <tr>\n",
       "      <th>200</th>\n",
       "      <td>1.0</td>\n",
       "      <td>0.0</td>\n",
       "      <td>8.10</td>\n",
       "      <td>129.15</td>\n",
       "      <td>0</td>\n",
       "    </tr>\n",
       "    <tr>\n",
       "      <th>269</th>\n",
       "      <td>0.0</td>\n",
       "      <td>1.0</td>\n",
       "      <td>5.63</td>\n",
       "      <td>90.93</td>\n",
       "      <td>0</td>\n",
       "    </tr>\n",
       "  </tbody>\n",
       "</table>\n",
       "</div>"
      ],
      "text/plain": [
       "     ldl_trend  sbp_trend    glu     ldl  metoprolol\n",
       "8          1.0        0.0   5.52  142.94           1\n",
       "18         1.0        1.0  11.82   92.28           1\n",
       "44         1.0        0.0   6.73   68.76           0\n",
       "103        1.0        0.0   7.49  150.59           0\n",
       "109        1.0        0.0   5.87  124.63           0\n",
       "160        0.0        1.0   4.96   86.12           0\n",
       "200        1.0        0.0   8.10  129.15           0\n",
       "269        0.0        1.0   5.63   90.93           0"
      ]
     },
     "execution_count": 63,
     "metadata": {},
     "output_type": "execute_result"
    }
   ],
   "source": [
    "# Top 5 features importance from the training data\n",
    "df = lf.ckd_train\n",
    "mask = (df['stage']==4) & (df['gender']==0) & (df['race']=='White') & (df['Stage_Progress']==1)\n",
    "df[mask][['ldl_trend', 'sbp_trend', 'glu', 'ldl', 'metoprolol']]"
   ]
  },
  {
   "cell_type": "markdown",
   "metadata": {},
   "source": [
    "By comparing the top 5 important features from log_reg_cw model, we can tell that there aren't many similar patient in the training data thus the model wasn't able to classify this case accurately."
   ]
  },
  {
   "cell_type": "code",
   "execution_count": 64,
   "metadata": {
    "ExecuteTime": {
     "end_time": "2021-03-05T13:21:26.273130Z",
     "start_time": "2021-03-05T13:21:26.253541Z"
    }
   },
   "outputs": [
    {
     "data": {
      "text/html": [
       "<div>\n",
       "<style scoped>\n",
       "    .dataframe tbody tr th:only-of-type {\n",
       "        vertical-align: middle;\n",
       "    }\n",
       "\n",
       "    .dataframe tbody tr th {\n",
       "        vertical-align: top;\n",
       "    }\n",
       "\n",
       "    .dataframe thead th {\n",
       "        text-align: right;\n",
       "    }\n",
       "</style>\n",
       "<table border=\"1\" class=\"dataframe\">\n",
       "  <thead>\n",
       "    <tr style=\"text-align: right;\">\n",
       "      <th></th>\n",
       "      <th>stage</th>\n",
       "      <th>cre</th>\n",
       "      <th>dbp</th>\n",
       "      <th>glu</th>\n",
       "      <th>hgb</th>\n",
       "      <th>ldl</th>\n",
       "      <th>sbp</th>\n",
       "      <th>cre_trend</th>\n",
       "      <th>dbp_trend</th>\n",
       "      <th>glu_trend</th>\n",
       "      <th>...</th>\n",
       "      <th>propranolol</th>\n",
       "      <th>metoprolol</th>\n",
       "      <th>log_reg</th>\n",
       "      <th>log_reg_smote</th>\n",
       "      <th>log_reg_cw</th>\n",
       "      <th>svm</th>\n",
       "      <th>svm_smote</th>\n",
       "      <th>svm_cw</th>\n",
       "      <th>xgboost</th>\n",
       "      <th>target</th>\n",
       "    </tr>\n",
       "  </thead>\n",
       "  <tbody>\n",
       "    <tr>\n",
       "      <th>172</th>\n",
       "      <td>2</td>\n",
       "      <td>1.16</td>\n",
       "      <td>87.94</td>\n",
       "      <td>6.96</td>\n",
       "      <td>12.40</td>\n",
       "      <td>75.03</td>\n",
       "      <td>141.50</td>\n",
       "      <td>1.0</td>\n",
       "      <td>1.0</td>\n",
       "      <td>0.0</td>\n",
       "      <td>...</td>\n",
       "      <td>0</td>\n",
       "      <td>0</td>\n",
       "      <td>0</td>\n",
       "      <td>0</td>\n",
       "      <td>1</td>\n",
       "      <td>0</td>\n",
       "      <td>0</td>\n",
       "      <td>0</td>\n",
       "      <td>0</td>\n",
       "      <td>0</td>\n",
       "    </tr>\n",
       "    <tr>\n",
       "      <th>22</th>\n",
       "      <td>3</td>\n",
       "      <td>1.45</td>\n",
       "      <td>75.71</td>\n",
       "      <td>5.43</td>\n",
       "      <td>15.90</td>\n",
       "      <td>82.33</td>\n",
       "      <td>131.21</td>\n",
       "      <td>1.0</td>\n",
       "      <td>0.0</td>\n",
       "      <td>1.0</td>\n",
       "      <td>...</td>\n",
       "      <td>0</td>\n",
       "      <td>0</td>\n",
       "      <td>0</td>\n",
       "      <td>1</td>\n",
       "      <td>1</td>\n",
       "      <td>0</td>\n",
       "      <td>1</td>\n",
       "      <td>0</td>\n",
       "      <td>0</td>\n",
       "      <td>0</td>\n",
       "    </tr>\n",
       "    <tr>\n",
       "      <th>246</th>\n",
       "      <td>3</td>\n",
       "      <td>1.08</td>\n",
       "      <td>66.31</td>\n",
       "      <td>5.73</td>\n",
       "      <td>16.90</td>\n",
       "      <td>98.36</td>\n",
       "      <td>127.17</td>\n",
       "      <td>0.0</td>\n",
       "      <td>0.0</td>\n",
       "      <td>1.0</td>\n",
       "      <td>...</td>\n",
       "      <td>0</td>\n",
       "      <td>0</td>\n",
       "      <td>0</td>\n",
       "      <td>1</td>\n",
       "      <td>1</td>\n",
       "      <td>0</td>\n",
       "      <td>1</td>\n",
       "      <td>0</td>\n",
       "      <td>1</td>\n",
       "      <td>0</td>\n",
       "    </tr>\n",
       "    <tr>\n",
       "      <th>242</th>\n",
       "      <td>3</td>\n",
       "      <td>1.37</td>\n",
       "      <td>85.56</td>\n",
       "      <td>6.01</td>\n",
       "      <td>14.48</td>\n",
       "      <td>115.69</td>\n",
       "      <td>153.87</td>\n",
       "      <td>1.0</td>\n",
       "      <td>1.0</td>\n",
       "      <td>0.0</td>\n",
       "      <td>...</td>\n",
       "      <td>0</td>\n",
       "      <td>0</td>\n",
       "      <td>0</td>\n",
       "      <td>1</td>\n",
       "      <td>1</td>\n",
       "      <td>0</td>\n",
       "      <td>0</td>\n",
       "      <td>1</td>\n",
       "      <td>0</td>\n",
       "      <td>0</td>\n",
       "    </tr>\n",
       "    <tr>\n",
       "      <th>204</th>\n",
       "      <td>3</td>\n",
       "      <td>1.63</td>\n",
       "      <td>80.50</td>\n",
       "      <td>6.91</td>\n",
       "      <td>13.48</td>\n",
       "      <td>85.54</td>\n",
       "      <td>147.71</td>\n",
       "      <td>1.0</td>\n",
       "      <td>1.0</td>\n",
       "      <td>0.0</td>\n",
       "      <td>...</td>\n",
       "      <td>0</td>\n",
       "      <td>0</td>\n",
       "      <td>1</td>\n",
       "      <td>1</td>\n",
       "      <td>1</td>\n",
       "      <td>0</td>\n",
       "      <td>1</td>\n",
       "      <td>1</td>\n",
       "      <td>1</td>\n",
       "      <td>0</td>\n",
       "    </tr>\n",
       "    <tr>\n",
       "      <th>203</th>\n",
       "      <td>3</td>\n",
       "      <td>1.58</td>\n",
       "      <td>78.46</td>\n",
       "      <td>6.34</td>\n",
       "      <td>16.22</td>\n",
       "      <td>74.79</td>\n",
       "      <td>133.44</td>\n",
       "      <td>0.0</td>\n",
       "      <td>0.0</td>\n",
       "      <td>0.0</td>\n",
       "      <td>...</td>\n",
       "      <td>0</td>\n",
       "      <td>1</td>\n",
       "      <td>0</td>\n",
       "      <td>0</td>\n",
       "      <td>1</td>\n",
       "      <td>1</td>\n",
       "      <td>0</td>\n",
       "      <td>1</td>\n",
       "      <td>0</td>\n",
       "      <td>0</td>\n",
       "    </tr>\n",
       "    <tr>\n",
       "      <th>51</th>\n",
       "      <td>3</td>\n",
       "      <td>1.25</td>\n",
       "      <td>71.66</td>\n",
       "      <td>5.76</td>\n",
       "      <td>15.44</td>\n",
       "      <td>155.93</td>\n",
       "      <td>129.60</td>\n",
       "      <td>0.0</td>\n",
       "      <td>0.0</td>\n",
       "      <td>0.0</td>\n",
       "      <td>...</td>\n",
       "      <td>0</td>\n",
       "      <td>0</td>\n",
       "      <td>1</td>\n",
       "      <td>1</td>\n",
       "      <td>1</td>\n",
       "      <td>0</td>\n",
       "      <td>1</td>\n",
       "      <td>1</td>\n",
       "      <td>0</td>\n",
       "      <td>0</td>\n",
       "    </tr>\n",
       "  </tbody>\n",
       "</table>\n",
       "<p>7 rows × 42 columns</p>\n",
       "</div>"
      ],
      "text/plain": [
       "     stage   cre    dbp   glu    hgb     ldl     sbp  cre_trend  dbp_trend  \\\n",
       "172      2  1.16  87.94  6.96  12.40   75.03  141.50        1.0        1.0   \n",
       "22       3  1.45  75.71  5.43  15.90   82.33  131.21        1.0        0.0   \n",
       "246      3  1.08  66.31  5.73  16.90   98.36  127.17        0.0        0.0   \n",
       "242      3  1.37  85.56  6.01  14.48  115.69  153.87        1.0        1.0   \n",
       "204      3  1.63  80.50  6.91  13.48   85.54  147.71        1.0        1.0   \n",
       "203      3  1.58  78.46  6.34  16.22   74.79  133.44        0.0        0.0   \n",
       "51       3  1.25  71.66  5.76  15.44  155.93  129.60        0.0        0.0   \n",
       "\n",
       "     glu_trend  ...  propranolol  metoprolol  log_reg  log_reg_smote  \\\n",
       "172        0.0  ...            0           0        0              0   \n",
       "22         1.0  ...            0           0        0              1   \n",
       "246        1.0  ...            0           0        0              1   \n",
       "242        0.0  ...            0           0        0              1   \n",
       "204        0.0  ...            0           0        1              1   \n",
       "203        0.0  ...            0           1        0              0   \n",
       "51         0.0  ...            0           0        1              1   \n",
       "\n",
       "     log_reg_cw  svm  svm_smote  svm_cw  xgboost  target  \n",
       "172           1    0          0       0        0       0  \n",
       "22            1    0          1       0        0       0  \n",
       "246           1    0          1       0        1       0  \n",
       "242           1    0          0       1        0       0  \n",
       "204           1    0          1       1        1       0  \n",
       "203           1    1          0       1        0       0  \n",
       "51            1    0          1       1        0       0  \n",
       "\n",
       "[7 rows x 42 columns]"
      ]
     },
     "execution_count": 64,
     "metadata": {},
     "output_type": "execute_result"
    }
   ],
   "source": [
    "# Checking for type I Errors in validation data\n",
    "mask = (val_preds_df['log_reg_cw']==1) & (val_preds_df['target']==0)\n",
    "val_preds_df[mask]"
   ]
  },
  {
   "cell_type": "code",
   "execution_count": null,
   "metadata": {},
   "outputs": [],
   "source": []
  },
  {
   "cell_type": "markdown",
   "metadata": {},
   "source": [
    "### Prediction for Test data"
   ]
  },
  {
   "cell_type": "code",
   "execution_count": 65,
   "metadata": {
    "ExecuteTime": {
     "end_time": "2021-03-05T13:21:26.293516Z",
     "start_time": "2021-03-05T13:21:26.273130Z"
    }
   },
   "outputs": [],
   "source": [
    "# Dataframe to hold the predictions for test set\n",
    "tst_preds_df = X_test.copy()"
   ]
  },
  {
   "cell_type": "code",
   "execution_count": 66,
   "metadata": {
    "ExecuteTime": {
     "end_time": "2021-03-05T13:21:26.593441Z",
     "start_time": "2021-03-05T13:21:26.293516Z"
    }
   },
   "outputs": [
    {
     "data": {
      "text/html": [
       "<div>\n",
       "<style scoped>\n",
       "    .dataframe tbody tr th:only-of-type {\n",
       "        vertical-align: middle;\n",
       "    }\n",
       "\n",
       "    .dataframe tbody tr th {\n",
       "        vertical-align: top;\n",
       "    }\n",
       "\n",
       "    .dataframe thead th {\n",
       "        text-align: right;\n",
       "    }\n",
       "</style>\n",
       "<table border=\"1\" class=\"dataframe\">\n",
       "  <thead>\n",
       "    <tr style=\"text-align: right;\">\n",
       "      <th></th>\n",
       "      <th>log_reg_cw_TEST</th>\n",
       "    </tr>\n",
       "  </thead>\n",
       "  <tbody>\n",
       "    <tr>\n",
       "      <th>01 Train score</th>\n",
       "      <td>0.7000</td>\n",
       "    </tr>\n",
       "    <tr>\n",
       "      <th>02 Test score</th>\n",
       "      <td>0.7000</td>\n",
       "    </tr>\n",
       "    <tr>\n",
       "      <th>03 Score diff</th>\n",
       "      <td>0</td>\n",
       "    </tr>\n",
       "    <tr>\n",
       "      <th>04 Train recall</th>\n",
       "      <td>0.8750</td>\n",
       "    </tr>\n",
       "    <tr>\n",
       "      <th>05 Test recall</th>\n",
       "      <td>1.0000</td>\n",
       "    </tr>\n",
       "    <tr>\n",
       "      <th>06 Precision</th>\n",
       "      <td>0.5263</td>\n",
       "    </tr>\n",
       "    <tr>\n",
       "      <th>07 Specificity</th>\n",
       "      <td>0.5500</td>\n",
       "    </tr>\n",
       "    <tr>\n",
       "      <th>08 Sensitivity</th>\n",
       "      <td>1.0000</td>\n",
       "    </tr>\n",
       "    <tr>\n",
       "      <th>09 True Negatives</th>\n",
       "      <td>11</td>\n",
       "    </tr>\n",
       "    <tr>\n",
       "      <th>10 False Positives</th>\n",
       "      <td>9</td>\n",
       "    </tr>\n",
       "    <tr>\n",
       "      <th>11 False Negatives</th>\n",
       "      <td>0</td>\n",
       "    </tr>\n",
       "    <tr>\n",
       "      <th>12 True Positives</th>\n",
       "      <td>10</td>\n",
       "    </tr>\n",
       "    <tr>\n",
       "      <th>13 Train ROC Score</th>\n",
       "      <td>0.8709</td>\n",
       "    </tr>\n",
       "    <tr>\n",
       "      <th>14 Test ROC Score</th>\n",
       "      <td>0.8700</td>\n",
       "    </tr>\n",
       "    <tr>\n",
       "      <th>15 Train CV Score</th>\n",
       "      <td>0.6667</td>\n",
       "    </tr>\n",
       "    <tr>\n",
       "      <th>16 Test CV Score</th>\n",
       "      <td>0.3000</td>\n",
       "    </tr>\n",
       "  </tbody>\n",
       "</table>\n",
       "</div>"
      ],
      "text/plain": [
       "                   log_reg_cw_TEST\n",
       "01 Train score              0.7000\n",
       "02 Test score               0.7000\n",
       "03 Score diff                    0\n",
       "04 Train recall             0.8750\n",
       "05 Test recall              1.0000\n",
       "06 Precision                0.5263\n",
       "07 Specificity              0.5500\n",
       "08 Sensitivity              1.0000\n",
       "09 True Negatives               11\n",
       "10 False Positives               9\n",
       "11 False Negatives               0\n",
       "12 True Positives               10\n",
       "13 Train ROC Score          0.8709\n",
       "14 Test ROC Score           0.8700\n",
       "15 Train CV Score           0.6667\n",
       "16 Test CV Score            0.3000"
      ]
     },
     "execution_count": 66,
     "metadata": {},
     "output_type": "execute_result"
    },
    {
     "data": {
      "image/png": "[encoded data removed]",
      "text/plain": [
       "<Figure size 864x360 with 3 Axes>"
      ]
     },
     "metadata": {
      "needs_background": "light"
     },
     "output_type": "display_data"
    }
   ],
   "source": [
    "result = dict()\n",
    "result['log_reg_cw_TEST'] = util.model_testdata('log_reg_cw', models['log_reg_cw'].best_estimator_, \n",
    "                    X_train, X_test, y_train, y_test, tst_preds_df, CV=CV, SCORE=SCORE)\n",
    "pd.DataFrame(result)"
   ]
  },
  {
   "cell_type": "code",
   "execution_count": 67,
   "metadata": {
    "ExecuteTime": {
     "end_time": "2021-03-05T13:21:26.673218Z",
     "start_time": "2021-03-05T13:21:26.593441Z"
    }
   },
   "outputs": [],
   "source": [
    "# Adding the target variable into the prediction for comparison\n",
    "tst_preds_df['target'] = y_test"
   ]
  },
  {
   "cell_type": "code",
   "execution_count": 68,
   "metadata": {
    "ExecuteTime": {
     "end_time": "2021-03-05T13:21:26.693584Z",
     "start_time": "2021-03-05T13:21:26.673218Z"
    },
    "scrolled": false
   },
   "outputs": [
    {
     "data": {
      "text/html": [
       "<div>\n",
       "<style scoped>\n",
       "    .dataframe tbody tr th:only-of-type {\n",
       "        vertical-align: middle;\n",
       "    }\n",
       "\n",
       "    .dataframe tbody tr th {\n",
       "        vertical-align: top;\n",
       "    }\n",
       "\n",
       "    .dataframe thead th {\n",
       "        text-align: right;\n",
       "    }\n",
       "</style>\n",
       "<table border=\"1\" class=\"dataframe\">\n",
       "  <thead>\n",
       "    <tr style=\"text-align: right;\">\n",
       "      <th></th>\n",
       "      <th>stage</th>\n",
       "      <th>cre</th>\n",
       "      <th>dbp</th>\n",
       "      <th>glu</th>\n",
       "      <th>hgb</th>\n",
       "      <th>ldl</th>\n",
       "      <th>sbp</th>\n",
       "      <th>cre_trend</th>\n",
       "      <th>dbp_trend</th>\n",
       "      <th>glu_trend</th>\n",
       "      <th>...</th>\n",
       "      <th>canagliflozin</th>\n",
       "      <th>bisoprolol</th>\n",
       "      <th>dapagliflozin</th>\n",
       "      <th>carvedilol</th>\n",
       "      <th>irbesartan</th>\n",
       "      <th>lovastatin</th>\n",
       "      <th>propranolol</th>\n",
       "      <th>metoprolol</th>\n",
       "      <th>log_reg_cw</th>\n",
       "      <th>target</th>\n",
       "    </tr>\n",
       "  </thead>\n",
       "  <tbody>\n",
       "  </tbody>\n",
       "</table>\n",
       "<p>0 rows × 36 columns</p>\n",
       "</div>"
      ],
      "text/plain": [
       "Empty DataFrame\n",
       "Columns: [stage, cre, dbp, glu, hgb, ldl, sbp, cre_trend, dbp_trend, glu_trend, hgb_trend, ldl_trend, sbp_trend, labetalol, atorvastatin, rosuvastatin, metformin, atenolol, losartan, telmisartan, nebivolol, pravastatin, olmesartan, valsartan, pitavastatin, simvastatin, canagliflozin, bisoprolol, dapagliflozin, carvedilol, irbesartan, lovastatin, propranolol, metoprolol, log_reg_cw, target]\n",
       "Index: []\n",
       "\n",
       "[0 rows x 36 columns]"
      ]
     },
     "execution_count": 68,
     "metadata": {},
     "output_type": "execute_result"
    }
   ],
   "source": [
    "# Checking for type II Errors in test\n",
    "mask = (tst_preds_df['log_reg_cw']==0) & (tst_preds_df['target']==1)\n",
    "tst_preds_df[mask]"
   ]
  },
  {
   "cell_type": "markdown",
   "metadata": {},
   "source": [
    "No False Negatives\n",
    "\n",
    "---"
   ]
  },
  {
   "cell_type": "code",
   "execution_count": 69,
   "metadata": {
    "ExecuteTime": {
     "end_time": "2021-03-05T13:21:26.713355Z",
     "start_time": "2021-03-05T13:21:26.693584Z"
    }
   },
   "outputs": [
    {
     "data": {
      "text/html": [
       "<div>\n",
       "<style scoped>\n",
       "    .dataframe tbody tr th:only-of-type {\n",
       "        vertical-align: middle;\n",
       "    }\n",
       "\n",
       "    .dataframe tbody tr th {\n",
       "        vertical-align: top;\n",
       "    }\n",
       "\n",
       "    .dataframe thead th {\n",
       "        text-align: right;\n",
       "    }\n",
       "</style>\n",
       "<table border=\"1\" class=\"dataframe\">\n",
       "  <thead>\n",
       "    <tr style=\"text-align: right;\">\n",
       "      <th></th>\n",
       "      <th>stage</th>\n",
       "      <th>cre</th>\n",
       "      <th>dbp</th>\n",
       "      <th>glu</th>\n",
       "      <th>hgb</th>\n",
       "      <th>ldl</th>\n",
       "      <th>sbp</th>\n",
       "      <th>cre_trend</th>\n",
       "      <th>dbp_trend</th>\n",
       "      <th>glu_trend</th>\n",
       "      <th>...</th>\n",
       "      <th>canagliflozin</th>\n",
       "      <th>bisoprolol</th>\n",
       "      <th>dapagliflozin</th>\n",
       "      <th>carvedilol</th>\n",
       "      <th>irbesartan</th>\n",
       "      <th>lovastatin</th>\n",
       "      <th>propranolol</th>\n",
       "      <th>metoprolol</th>\n",
       "      <th>log_reg_cw</th>\n",
       "      <th>target</th>\n",
       "    </tr>\n",
       "  </thead>\n",
       "  <tbody>\n",
       "    <tr>\n",
       "      <th>170</th>\n",
       "      <td>3</td>\n",
       "      <td>1.30</td>\n",
       "      <td>73.65</td>\n",
       "      <td>5.61</td>\n",
       "      <td>12.00</td>\n",
       "      <td>44.86</td>\n",
       "      <td>134.28</td>\n",
       "      <td>1.0</td>\n",
       "      <td>0.0</td>\n",
       "      <td>0.0</td>\n",
       "      <td>...</td>\n",
       "      <td>0</td>\n",
       "      <td>0</td>\n",
       "      <td>0</td>\n",
       "      <td>0</td>\n",
       "      <td>0</td>\n",
       "      <td>0</td>\n",
       "      <td>0</td>\n",
       "      <td>1</td>\n",
       "      <td>1</td>\n",
       "      <td>0</td>\n",
       "    </tr>\n",
       "    <tr>\n",
       "      <th>184</th>\n",
       "      <td>3</td>\n",
       "      <td>1.56</td>\n",
       "      <td>64.25</td>\n",
       "      <td>9.75</td>\n",
       "      <td>12.97</td>\n",
       "      <td>78.49</td>\n",
       "      <td>129.45</td>\n",
       "      <td>1.0</td>\n",
       "      <td>0.0</td>\n",
       "      <td>1.0</td>\n",
       "      <td>...</td>\n",
       "      <td>0</td>\n",
       "      <td>0</td>\n",
       "      <td>0</td>\n",
       "      <td>0</td>\n",
       "      <td>0</td>\n",
       "      <td>0</td>\n",
       "      <td>0</td>\n",
       "      <td>0</td>\n",
       "      <td>1</td>\n",
       "      <td>0</td>\n",
       "    </tr>\n",
       "    <tr>\n",
       "      <th>79</th>\n",
       "      <td>2</td>\n",
       "      <td>1.15</td>\n",
       "      <td>88.91</td>\n",
       "      <td>7.70</td>\n",
       "      <td>13.23</td>\n",
       "      <td>74.41</td>\n",
       "      <td>141.34</td>\n",
       "      <td>0.0</td>\n",
       "      <td>1.0</td>\n",
       "      <td>0.0</td>\n",
       "      <td>...</td>\n",
       "      <td>0</td>\n",
       "      <td>0</td>\n",
       "      <td>0</td>\n",
       "      <td>0</td>\n",
       "      <td>0</td>\n",
       "      <td>0</td>\n",
       "      <td>0</td>\n",
       "      <td>0</td>\n",
       "      <td>1</td>\n",
       "      <td>0</td>\n",
       "    </tr>\n",
       "    <tr>\n",
       "      <th>225</th>\n",
       "      <td>2</td>\n",
       "      <td>0.91</td>\n",
       "      <td>86.63</td>\n",
       "      <td>5.40</td>\n",
       "      <td>15.19</td>\n",
       "      <td>69.66</td>\n",
       "      <td>125.16</td>\n",
       "      <td>0.0</td>\n",
       "      <td>1.0</td>\n",
       "      <td>0.0</td>\n",
       "      <td>...</td>\n",
       "      <td>0</td>\n",
       "      <td>0</td>\n",
       "      <td>0</td>\n",
       "      <td>0</td>\n",
       "      <td>0</td>\n",
       "      <td>0</td>\n",
       "      <td>0</td>\n",
       "      <td>0</td>\n",
       "      <td>1</td>\n",
       "      <td>0</td>\n",
       "    </tr>\n",
       "    <tr>\n",
       "      <th>152</th>\n",
       "      <td>3</td>\n",
       "      <td>1.53</td>\n",
       "      <td>78.94</td>\n",
       "      <td>6.32</td>\n",
       "      <td>15.34</td>\n",
       "      <td>79.28</td>\n",
       "      <td>143.45</td>\n",
       "      <td>0.0</td>\n",
       "      <td>1.0</td>\n",
       "      <td>1.0</td>\n",
       "      <td>...</td>\n",
       "      <td>0</td>\n",
       "      <td>0</td>\n",
       "      <td>0</td>\n",
       "      <td>0</td>\n",
       "      <td>0</td>\n",
       "      <td>1</td>\n",
       "      <td>0</td>\n",
       "      <td>1</td>\n",
       "      <td>1</td>\n",
       "      <td>0</td>\n",
       "    </tr>\n",
       "    <tr>\n",
       "      <th>60</th>\n",
       "      <td>1</td>\n",
       "      <td>0.76</td>\n",
       "      <td>69.44</td>\n",
       "      <td>6.03</td>\n",
       "      <td>14.47</td>\n",
       "      <td>120.85</td>\n",
       "      <td>115.21</td>\n",
       "      <td>0.0</td>\n",
       "      <td>0.0</td>\n",
       "      <td>1.0</td>\n",
       "      <td>...</td>\n",
       "      <td>0</td>\n",
       "      <td>0</td>\n",
       "      <td>0</td>\n",
       "      <td>0</td>\n",
       "      <td>0</td>\n",
       "      <td>0</td>\n",
       "      <td>0</td>\n",
       "      <td>0</td>\n",
       "      <td>1</td>\n",
       "      <td>0</td>\n",
       "    </tr>\n",
       "    <tr>\n",
       "      <th>253</th>\n",
       "      <td>2</td>\n",
       "      <td>1.00</td>\n",
       "      <td>80.53</td>\n",
       "      <td>7.57</td>\n",
       "      <td>14.49</td>\n",
       "      <td>97.97</td>\n",
       "      <td>145.75</td>\n",
       "      <td>0.0</td>\n",
       "      <td>0.0</td>\n",
       "      <td>0.0</td>\n",
       "      <td>...</td>\n",
       "      <td>0</td>\n",
       "      <td>0</td>\n",
       "      <td>0</td>\n",
       "      <td>1</td>\n",
       "      <td>0</td>\n",
       "      <td>0</td>\n",
       "      <td>0</td>\n",
       "      <td>0</td>\n",
       "      <td>1</td>\n",
       "      <td>0</td>\n",
       "    </tr>\n",
       "    <tr>\n",
       "      <th>294</th>\n",
       "      <td>3</td>\n",
       "      <td>1.62</td>\n",
       "      <td>84.59</td>\n",
       "      <td>4.60</td>\n",
       "      <td>12.02</td>\n",
       "      <td>71.08</td>\n",
       "      <td>131.48</td>\n",
       "      <td>1.0</td>\n",
       "      <td>1.0</td>\n",
       "      <td>0.0</td>\n",
       "      <td>...</td>\n",
       "      <td>0</td>\n",
       "      <td>0</td>\n",
       "      <td>0</td>\n",
       "      <td>0</td>\n",
       "      <td>0</td>\n",
       "      <td>0</td>\n",
       "      <td>0</td>\n",
       "      <td>0</td>\n",
       "      <td>1</td>\n",
       "      <td>0</td>\n",
       "    </tr>\n",
       "    <tr>\n",
       "      <th>296</th>\n",
       "      <td>3</td>\n",
       "      <td>1.39</td>\n",
       "      <td>85.56</td>\n",
       "      <td>7.86</td>\n",
       "      <td>15.34</td>\n",
       "      <td>91.82</td>\n",
       "      <td>143.16</td>\n",
       "      <td>0.0</td>\n",
       "      <td>1.0</td>\n",
       "      <td>1.0</td>\n",
       "      <td>...</td>\n",
       "      <td>0</td>\n",
       "      <td>0</td>\n",
       "      <td>0</td>\n",
       "      <td>0</td>\n",
       "      <td>0</td>\n",
       "      <td>0</td>\n",
       "      <td>0</td>\n",
       "      <td>0</td>\n",
       "      <td>1</td>\n",
       "      <td>0</td>\n",
       "    </tr>\n",
       "  </tbody>\n",
       "</table>\n",
       "<p>9 rows × 36 columns</p>\n",
       "</div>"
      ],
      "text/plain": [
       "     stage   cre    dbp   glu    hgb     ldl     sbp  cre_trend  dbp_trend  \\\n",
       "170      3  1.30  73.65  5.61  12.00   44.86  134.28        1.0        0.0   \n",
       "184      3  1.56  64.25  9.75  12.97   78.49  129.45        1.0        0.0   \n",
       "79       2  1.15  88.91  7.70  13.23   74.41  141.34        0.0        1.0   \n",
       "225      2  0.91  86.63  5.40  15.19   69.66  125.16        0.0        1.0   \n",
       "152      3  1.53  78.94  6.32  15.34   79.28  143.45        0.0        1.0   \n",
       "60       1  0.76  69.44  6.03  14.47  120.85  115.21        0.0        0.0   \n",
       "253      2  1.00  80.53  7.57  14.49   97.97  145.75        0.0        0.0   \n",
       "294      3  1.62  84.59  4.60  12.02   71.08  131.48        1.0        1.0   \n",
       "296      3  1.39  85.56  7.86  15.34   91.82  143.16        0.0        1.0   \n",
       "\n",
       "     glu_trend  ...  canagliflozin  bisoprolol  dapagliflozin  carvedilol  \\\n",
       "170        0.0  ...              0           0              0           0   \n",
       "184        1.0  ...              0           0              0           0   \n",
       "79         0.0  ...              0           0              0           0   \n",
       "225        0.0  ...              0           0              0           0   \n",
       "152        1.0  ...              0           0              0           0   \n",
       "60         1.0  ...              0           0              0           0   \n",
       "253        0.0  ...              0           0              0           1   \n",
       "294        0.0  ...              0           0              0           0   \n",
       "296        1.0  ...              0           0              0           0   \n",
       "\n",
       "     irbesartan  lovastatin  propranolol  metoprolol  log_reg_cw  target  \n",
       "170           0           0            0           1           1       0  \n",
       "184           0           0            0           0           1       0  \n",
       "79            0           0            0           0           1       0  \n",
       "225           0           0            0           0           1       0  \n",
       "152           0           1            0           1           1       0  \n",
       "60            0           0            0           0           1       0  \n",
       "253           0           0            0           0           1       0  \n",
       "294           0           0            0           0           1       0  \n",
       "296           0           0            0           0           1       0  \n",
       "\n",
       "[9 rows x 36 columns]"
      ]
     },
     "execution_count": 69,
     "metadata": {},
     "output_type": "execute_result"
    }
   ],
   "source": [
    "# Checking for type I Error in test\n",
    "mask = (tst_preds_df['log_reg_cw']==1) & (tst_preds_df['target']==0)\n",
    "tst_preds_df[mask]"
   ]
  },
  {
   "cell_type": "markdown",
   "metadata": {},
   "source": [
    "9 False Positives\n",
    "\n",
    "---"
   ]
  },
  {
   "cell_type": "markdown",
   "metadata": {},
   "source": [
    "## Conclusion\n",
    "To predict patients progress in their CKD stage or not in the future. Models used are Logistic Regression, SVM and XGBoost. As we are working with an imbalance class, class weight and Smote were used with Logistic Regression and SVM.\n",
    "After running through multiple iterations and tuning, the resulting metrics is as shown below. <br>\n",
    "\n",
    "![metrics](../images/metrics.jpg)\n",
    "\n",
    "\n",
    "The final selection is Logistics Regression model with class weights as this combination:\n",
    "- Is slightly overfitted when compared with the others\n",
    "- Has the one of the better recall score\n",
    "- Lowest False negatives, Type II errors\n",
    "- Feature importance can be easily retrieved \n",
    "\n",
    "For the model selected, there is 1 false negative and 7 false positive for the validation data.<br>\n",
    "Misclassification for test data is 0 false negative and 9 false positive. <br>\n",
    "Further analysis of the misclassification to be done.\n",
    "\n",
    "## Recommendations\n",
    "To improve the predictions, some recommendations are:\n",
    "- Further analysis into the values, would be possible to gain more insights other then just the trend \n",
    "- Grouping of medications, by class and efficacy\n",
    "- If possible to have races better represented in the data\n",
    "- If possible to have CKD stage better represented in the data\n",
    "- Can try ensemble models as well "
   ]
  },
  {
   "cell_type": "code",
   "execution_count": null,
   "metadata": {},
   "outputs": [],
   "source": []
  }
 ],
 "metadata": {
  "kernelspec": {
   "display_name": "Python 3",
   "language": "python",
   "name": "python3"
  },
  "language_info": {
   "codemirror_mode": {
    "name": "ipython",
    "version": 3
   },
   "file_extension": ".py",
   "mimetype": "text/x-python",
   "name": "python",
   "nbconvert_exporter": "python",
   "pygments_lexer": "ipython3",
   "version": "3.7.6"
  },
  "varInspector": {
   "cols": {
    "lenName": 16,
    "lenType": 16,
    "lenVar": 40
   },
   "kernels_config": {
    "python": {
     "delete_cmd_postfix": "",
     "delete_cmd_prefix": "del ",
     "library": "var_list.py",
     "varRefreshCmd": "print(var_dic_list())"
    },
    "r": {
     "delete_cmd_postfix": ") ",
     "delete_cmd_prefix": "rm(",
     "library": "var_list.r",
     "varRefreshCmd": "cat(var_dic_list()) "
    }
   },
   "types_to_exclude": [
    "module",
    "function",
    "builtin_function_or_method",
    "instance",
    "_Feature"
   ],
   "window_display": false
  }
 },
 "nbformat": 4,
 "nbformat_minor": 4
}
